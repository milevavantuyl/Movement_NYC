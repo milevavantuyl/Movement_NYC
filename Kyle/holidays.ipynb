{
 "cells": [
  {
   "cell_type": "code",
   "execution_count": 1,
   "metadata": {},
   "outputs": [],
   "source": [
    "import numpy as np\n",
    "import pandas as pd \n",
    "import os \n",
    "import seaborn as sns\n",
    "import matplotlib.pyplot as plt\n",
    "pd.options.mode.chained_assignment = None "
   ]
  },
  {
   "cell_type": "code",
   "execution_count": 2,
   "metadata": {},
   "outputs": [],
   "source": [
    "os.chdir('C:/Users/rodri/Desktop/NCFS2/DistComp/proj2')"
   ]
  },
  {
   "cell_type": "code",
   "execution_count": 3,
   "metadata": {},
   "outputs": [],
   "source": [
    "csv_file = \"./uber_all_processed.csv\"\n",
    "df= pd.read_csv(csv_file,sep=',')"
   ]
  },
  {
   "cell_type": "code",
   "execution_count": 4,
   "metadata": {},
   "outputs": [
    {
     "data": {
      "text/html": [
       "<div>\n",
       "<style scoped>\n",
       "    .dataframe tbody tr th:only-of-type {\n",
       "        vertical-align: middle;\n",
       "    }\n",
       "\n",
       "    .dataframe tbody tr th {\n",
       "        vertical-align: top;\n",
       "    }\n",
       "\n",
       "    .dataframe thead th {\n",
       "        text-align: right;\n",
       "    }\n",
       "</style>\n",
       "<table border=\"1\" class=\"dataframe\">\n",
       "  <thead>\n",
       "    <tr style=\"text-align: right;\">\n",
       "      <th></th>\n",
       "      <th>datetime</th>\n",
       "      <th>lat</th>\n",
       "      <th>lon</th>\n",
       "      <th>base</th>\n",
       "      <th>locationID</th>\n",
       "      <th>borough</th>\n",
       "      <th>zone</th>\n",
       "    </tr>\n",
       "  </thead>\n",
       "  <tbody>\n",
       "    <tr>\n",
       "      <th>0</th>\n",
       "      <td>2014-04-01 00:00:00</td>\n",
       "      <td>40.7188</td>\n",
       "      <td>-73.9863</td>\n",
       "      <td>B02598</td>\n",
       "      <td>232</td>\n",
       "      <td>Manhattan</td>\n",
       "      <td>Two Bridges/Seward Park</td>\n",
       "    </tr>\n",
       "    <tr>\n",
       "      <th>1</th>\n",
       "      <td>2014-04-01 00:00:00</td>\n",
       "      <td>40.7637</td>\n",
       "      <td>-73.9600</td>\n",
       "      <td>B02598</td>\n",
       "      <td>141</td>\n",
       "      <td>Manhattan</td>\n",
       "      <td>Lenox Hill West</td>\n",
       "    </tr>\n",
       "    <tr>\n",
       "      <th>2</th>\n",
       "      <td>2014-04-01 00:00:00</td>\n",
       "      <td>40.7215</td>\n",
       "      <td>-73.9952</td>\n",
       "      <td>B02682</td>\n",
       "      <td>144</td>\n",
       "      <td>Manhattan</td>\n",
       "      <td>Little Italy/NoLiTa</td>\n",
       "    </tr>\n",
       "    <tr>\n",
       "      <th>3</th>\n",
       "      <td>2014-04-01 00:01:00</td>\n",
       "      <td>40.7355</td>\n",
       "      <td>-73.9966</td>\n",
       "      <td>B02617</td>\n",
       "      <td>113</td>\n",
       "      <td>Manhattan</td>\n",
       "      <td>Greenwich Village North</td>\n",
       "    </tr>\n",
       "    <tr>\n",
       "      <th>4</th>\n",
       "      <td>2014-04-01 00:02:00</td>\n",
       "      <td>40.7184</td>\n",
       "      <td>-73.9601</td>\n",
       "      <td>B02682</td>\n",
       "      <td>255</td>\n",
       "      <td>Brooklyn</td>\n",
       "      <td>Williamsburg (North Side)</td>\n",
       "    </tr>\n",
       "  </tbody>\n",
       "</table>\n",
       "</div>"
      ],
      "text/plain": [
       "              datetime      lat      lon    base  locationID    borough  \\\n",
       "0  2014-04-01 00:00:00  40.7188 -73.9863  B02598         232  Manhattan   \n",
       "1  2014-04-01 00:00:00  40.7637 -73.9600  B02598         141  Manhattan   \n",
       "2  2014-04-01 00:00:00  40.7215 -73.9952  B02682         144  Manhattan   \n",
       "3  2014-04-01 00:01:00  40.7355 -73.9966  B02617         113  Manhattan   \n",
       "4  2014-04-01 00:02:00  40.7184 -73.9601  B02682         255   Brooklyn   \n",
       "\n",
       "                        zone  \n",
       "0    Two Bridges/Seward Park  \n",
       "1            Lenox Hill West  \n",
       "2        Little Italy/NoLiTa  \n",
       "3    Greenwich Village North  \n",
       "4  Williamsburg (North Side)  "
      ]
     },
     "execution_count": 4,
     "metadata": {},
     "output_type": "execute_result"
    }
   ],
   "source": [
    "df.head()"
   ]
  },
  {
   "cell_type": "markdown",
   "metadata": {},
   "source": [
    "creating date column"
   ]
  },
  {
   "cell_type": "code",
   "execution_count": 5,
   "metadata": {},
   "outputs": [],
   "source": [
    "df['date']=pd.to_datetime(df['datetime']).dt.date\n"
   ]
  },
  {
   "cell_type": "code",
   "execution_count": 6,
   "metadata": {},
   "outputs": [],
   "source": [
    "csv_file = \"./US Bank holidays\"\n",
    "hdays = pd.read_csv(csv_file,sep=',')"
   ]
  },
  {
   "cell_type": "code",
   "execution_count": 7,
   "metadata": {},
   "outputs": [],
   "source": [
    "hdays = hdays.drop(['id'],axis=1)"
   ]
  },
  {
   "cell_type": "markdown",
   "metadata": {},
   "source": [
    "Getting holidays for 2014 and 2015 will change in final version"
   ]
  },
  {
   "cell_type": "code",
   "execution_count": 8,
   "metadata": {},
   "outputs": [],
   "source": [
    "hdays_1415 = hdays[(hdays['date'] >= '2014-01-01') & (hdays['date'] <= '2015-12-31')]"
   ]
  },
  {
   "cell_type": "code",
   "execution_count": 30,
   "metadata": {},
   "outputs": [
    {
     "data": {
      "text/html": [
       "<div>\n",
       "<style scoped>\n",
       "    .dataframe tbody tr th:only-of-type {\n",
       "        vertical-align: middle;\n",
       "    }\n",
       "\n",
       "    .dataframe tbody tr th {\n",
       "        vertical-align: top;\n",
       "    }\n",
       "\n",
       "    .dataframe thead th {\n",
       "        text-align: right;\n",
       "    }\n",
       "</style>\n",
       "<table border=\"1\" class=\"dataframe\">\n",
       "  <thead>\n",
       "    <tr style=\"text-align: right;\">\n",
       "      <th></th>\n",
       "      <th>date</th>\n",
       "      <th>holiday</th>\n",
       "    </tr>\n",
       "  </thead>\n",
       "  <tbody>\n",
       "    <tr>\n",
       "      <th>20</th>\n",
       "      <td>2014-01-01</td>\n",
       "      <td>New Year Day</td>\n",
       "    </tr>\n",
       "    <tr>\n",
       "      <th>21</th>\n",
       "      <td>2014-01-20</td>\n",
       "      <td>Martin Luther King Jr. Day</td>\n",
       "    </tr>\n",
       "    <tr>\n",
       "      <th>22</th>\n",
       "      <td>2014-02-17</td>\n",
       "      <td>Presidents Day (Washingtons Birthday)</td>\n",
       "    </tr>\n",
       "    <tr>\n",
       "      <th>23</th>\n",
       "      <td>2014-05-26</td>\n",
       "      <td>Memorial Day</td>\n",
       "    </tr>\n",
       "    <tr>\n",
       "      <th>24</th>\n",
       "      <td>2014-07-04</td>\n",
       "      <td>Independence Day</td>\n",
       "    </tr>\n",
       "    <tr>\n",
       "      <th>25</th>\n",
       "      <td>2014-09-01</td>\n",
       "      <td>Labor Day</td>\n",
       "    </tr>\n",
       "    <tr>\n",
       "      <th>26</th>\n",
       "      <td>2014-10-13</td>\n",
       "      <td>Columbus Day</td>\n",
       "    </tr>\n",
       "    <tr>\n",
       "      <th>27</th>\n",
       "      <td>2014-11-11</td>\n",
       "      <td>Veterans Day</td>\n",
       "    </tr>\n",
       "    <tr>\n",
       "      <th>28</th>\n",
       "      <td>2014-11-27</td>\n",
       "      <td>Thanksgiving Day</td>\n",
       "    </tr>\n",
       "    <tr>\n",
       "      <th>29</th>\n",
       "      <td>2014-12-25</td>\n",
       "      <td>Christmas Day</td>\n",
       "    </tr>\n",
       "    <tr>\n",
       "      <th>30</th>\n",
       "      <td>2015-01-01</td>\n",
       "      <td>New Year Day</td>\n",
       "    </tr>\n",
       "    <tr>\n",
       "      <th>31</th>\n",
       "      <td>2015-01-19</td>\n",
       "      <td>Martin Luther King Jr. Day</td>\n",
       "    </tr>\n",
       "    <tr>\n",
       "      <th>32</th>\n",
       "      <td>2015-02-16</td>\n",
       "      <td>Presidents Day (Washingtons Birthday)</td>\n",
       "    </tr>\n",
       "    <tr>\n",
       "      <th>33</th>\n",
       "      <td>2015-05-25</td>\n",
       "      <td>Memorial Day</td>\n",
       "    </tr>\n",
       "    <tr>\n",
       "      <th>34</th>\n",
       "      <td>2015-07-03</td>\n",
       "      <td>Independence Day</td>\n",
       "    </tr>\n",
       "    <tr>\n",
       "      <th>35</th>\n",
       "      <td>2015-09-07</td>\n",
       "      <td>Labor Day</td>\n",
       "    </tr>\n",
       "    <tr>\n",
       "      <th>36</th>\n",
       "      <td>2015-10-12</td>\n",
       "      <td>Columbus Day</td>\n",
       "    </tr>\n",
       "    <tr>\n",
       "      <th>37</th>\n",
       "      <td>2015-11-11</td>\n",
       "      <td>Veterans Day</td>\n",
       "    </tr>\n",
       "    <tr>\n",
       "      <th>38</th>\n",
       "      <td>2015-11-26</td>\n",
       "      <td>Thanksgiving Day</td>\n",
       "    </tr>\n",
       "    <tr>\n",
       "      <th>39</th>\n",
       "      <td>2015-12-25</td>\n",
       "      <td>Christmas Day</td>\n",
       "    </tr>\n",
       "  </tbody>\n",
       "</table>\n",
       "</div>"
      ],
      "text/plain": [
       "          date                                holiday\n",
       "20  2014-01-01                           New Year Day\n",
       "21  2014-01-20             Martin Luther King Jr. Day\n",
       "22  2014-02-17  Presidents Day (Washingtons Birthday)\n",
       "23  2014-05-26                           Memorial Day\n",
       "24  2014-07-04                       Independence Day\n",
       "25  2014-09-01                              Labor Day\n",
       "26  2014-10-13                           Columbus Day\n",
       "27  2014-11-11                           Veterans Day\n",
       "28  2014-11-27                       Thanksgiving Day\n",
       "29  2014-12-25                          Christmas Day\n",
       "30  2015-01-01                           New Year Day\n",
       "31  2015-01-19             Martin Luther King Jr. Day\n",
       "32  2015-02-16  Presidents Day (Washingtons Birthday)\n",
       "33  2015-05-25                           Memorial Day\n",
       "34  2015-07-03                       Independence Day\n",
       "35  2015-09-07                              Labor Day\n",
       "36  2015-10-12                           Columbus Day\n",
       "37  2015-11-11                           Veterans Day\n",
       "38  2015-11-26                       Thanksgiving Day\n",
       "39  2015-12-25                          Christmas Day"
      ]
     },
     "execution_count": 30,
     "metadata": {},
     "output_type": "execute_result"
    }
   ],
   "source": [
    "hdays_1415"
   ]
  },
  {
   "cell_type": "code",
   "execution_count": 11,
   "metadata": {},
   "outputs": [],
   "source": [
    "hdays_1415['date'] = hdays_1415['date'].astype(str).str.strip()"
   ]
  },
  {
   "cell_type": "code",
   "execution_count": 12,
   "metadata": {},
   "outputs": [],
   "source": [
    "df['date'] = df['date'].astype(str).str.strip()"
   ]
  },
  {
   "cell_type": "code",
   "execution_count": 13,
   "metadata": {},
   "outputs": [],
   "source": [
    "df[\"count\"] = 1"
   ]
  },
  {
   "cell_type": "code",
   "execution_count": 14,
   "metadata": {},
   "outputs": [
    {
     "data": {
      "text/html": [
       "<div>\n",
       "<style scoped>\n",
       "    .dataframe tbody tr th:only-of-type {\n",
       "        vertical-align: middle;\n",
       "    }\n",
       "\n",
       "    .dataframe tbody tr th {\n",
       "        vertical-align: top;\n",
       "    }\n",
       "\n",
       "    .dataframe thead th {\n",
       "        text-align: right;\n",
       "    }\n",
       "</style>\n",
       "<table border=\"1\" class=\"dataframe\">\n",
       "  <thead>\n",
       "    <tr style=\"text-align: right;\">\n",
       "      <th></th>\n",
       "      <th>datetime</th>\n",
       "      <th>lat</th>\n",
       "      <th>lon</th>\n",
       "      <th>base</th>\n",
       "      <th>locationID</th>\n",
       "      <th>borough</th>\n",
       "      <th>zone</th>\n",
       "      <th>date</th>\n",
       "      <th>count</th>\n",
       "      <th>holiday</th>\n",
       "    </tr>\n",
       "  </thead>\n",
       "  <tbody>\n",
       "    <tr>\n",
       "      <th>0</th>\n",
       "      <td>2014-04-01 00:00:00</td>\n",
       "      <td>40.7188</td>\n",
       "      <td>-73.9863</td>\n",
       "      <td>B02598</td>\n",
       "      <td>232</td>\n",
       "      <td>Manhattan</td>\n",
       "      <td>Two Bridges/Seward Park</td>\n",
       "      <td>2014-04-01</td>\n",
       "      <td>1</td>\n",
       "      <td>NaN</td>\n",
       "    </tr>\n",
       "    <tr>\n",
       "      <th>1</th>\n",
       "      <td>2014-04-01 00:00:00</td>\n",
       "      <td>40.7637</td>\n",
       "      <td>-73.9600</td>\n",
       "      <td>B02598</td>\n",
       "      <td>141</td>\n",
       "      <td>Manhattan</td>\n",
       "      <td>Lenox Hill West</td>\n",
       "      <td>2014-04-01</td>\n",
       "      <td>1</td>\n",
       "      <td>NaN</td>\n",
       "    </tr>\n",
       "    <tr>\n",
       "      <th>2</th>\n",
       "      <td>2014-04-01 00:00:00</td>\n",
       "      <td>40.7215</td>\n",
       "      <td>-73.9952</td>\n",
       "      <td>B02682</td>\n",
       "      <td>144</td>\n",
       "      <td>Manhattan</td>\n",
       "      <td>Little Italy/NoLiTa</td>\n",
       "      <td>2014-04-01</td>\n",
       "      <td>1</td>\n",
       "      <td>NaN</td>\n",
       "    </tr>\n",
       "    <tr>\n",
       "      <th>3</th>\n",
       "      <td>2014-04-01 00:01:00</td>\n",
       "      <td>40.7355</td>\n",
       "      <td>-73.9966</td>\n",
       "      <td>B02617</td>\n",
       "      <td>113</td>\n",
       "      <td>Manhattan</td>\n",
       "      <td>Greenwich Village North</td>\n",
       "      <td>2014-04-01</td>\n",
       "      <td>1</td>\n",
       "      <td>NaN</td>\n",
       "    </tr>\n",
       "    <tr>\n",
       "      <th>4</th>\n",
       "      <td>2014-04-01 00:02:00</td>\n",
       "      <td>40.7184</td>\n",
       "      <td>-73.9601</td>\n",
       "      <td>B02682</td>\n",
       "      <td>255</td>\n",
       "      <td>Brooklyn</td>\n",
       "      <td>Williamsburg (North Side)</td>\n",
       "      <td>2014-04-01</td>\n",
       "      <td>1</td>\n",
       "      <td>NaN</td>\n",
       "    </tr>\n",
       "  </tbody>\n",
       "</table>\n",
       "</div>"
      ],
      "text/plain": [
       "              datetime      lat      lon    base  locationID    borough  \\\n",
       "0  2014-04-01 00:00:00  40.7188 -73.9863  B02598         232  Manhattan   \n",
       "1  2014-04-01 00:00:00  40.7637 -73.9600  B02598         141  Manhattan   \n",
       "2  2014-04-01 00:00:00  40.7215 -73.9952  B02682         144  Manhattan   \n",
       "3  2014-04-01 00:01:00  40.7355 -73.9966  B02617         113  Manhattan   \n",
       "4  2014-04-01 00:02:00  40.7184 -73.9601  B02682         255   Brooklyn   \n",
       "\n",
       "                        zone        date  count holiday  \n",
       "0    Two Bridges/Seward Park  2014-04-01      1     NaN  \n",
       "1            Lenox Hill West  2014-04-01      1     NaN  \n",
       "2        Little Italy/NoLiTa  2014-04-01      1     NaN  \n",
       "3    Greenwich Village North  2014-04-01      1     NaN  \n",
       "4  Williamsburg (North Side)  2014-04-01      1     NaN  "
      ]
     },
     "execution_count": 14,
     "metadata": {},
     "output_type": "execute_result"
    }
   ],
   "source": [
    "dfhdays = df.merge(hdays_1415,left_on='date',right_on='date',how='left')\n",
    "dfhdays.head()"
   ]
  },
  {
   "cell_type": "code",
   "execution_count": 15,
   "metadata": {},
   "outputs": [],
   "source": [
    "df[\"datetime\"] = pd.to_datetime(df[\"datetime\"])"
   ]
  },
  {
   "cell_type": "code",
   "execution_count": 16,
   "metadata": {},
   "outputs": [],
   "source": [
    "dfhdays = dfhdays.dropna()"
   ]
  },
  {
   "cell_type": "code",
   "execution_count": 17,
   "metadata": {},
   "outputs": [
    {
     "data": {
      "text/html": [
       "<div>\n",
       "<style scoped>\n",
       "    .dataframe tbody tr th:only-of-type {\n",
       "        vertical-align: middle;\n",
       "    }\n",
       "\n",
       "    .dataframe tbody tr th {\n",
       "        vertical-align: top;\n",
       "    }\n",
       "\n",
       "    .dataframe thead th {\n",
       "        text-align: right;\n",
       "    }\n",
       "</style>\n",
       "<table border=\"1\" class=\"dataframe\">\n",
       "  <thead>\n",
       "    <tr style=\"text-align: right;\">\n",
       "      <th></th>\n",
       "      <th>datetime</th>\n",
       "      <th>lat</th>\n",
       "      <th>lon</th>\n",
       "      <th>base</th>\n",
       "      <th>locationID</th>\n",
       "      <th>borough</th>\n",
       "      <th>zone</th>\n",
       "      <th>date</th>\n",
       "      <th>count</th>\n",
       "      <th>holiday</th>\n",
       "    </tr>\n",
       "  </thead>\n",
       "  <tbody>\n",
       "    <tr>\n",
       "      <th>1077836</th>\n",
       "      <td>2014-05-26</td>\n",
       "      <td>40.7407</td>\n",
       "      <td>-74.0077</td>\n",
       "      <td>B02682</td>\n",
       "      <td>158</td>\n",
       "      <td>Manhattan</td>\n",
       "      <td>Meatpacking/West Village West</td>\n",
       "      <td>2014-05-26</td>\n",
       "      <td>1</td>\n",
       "      <td>Memorial Day</td>\n",
       "    </tr>\n",
       "    <tr>\n",
       "      <th>1077837</th>\n",
       "      <td>2014-05-26</td>\n",
       "      <td>40.7573</td>\n",
       "      <td>-73.9778</td>\n",
       "      <td>B02598</td>\n",
       "      <td>161</td>\n",
       "      <td>Manhattan</td>\n",
       "      <td>Midtown Center</td>\n",
       "      <td>2014-05-26</td>\n",
       "      <td>1</td>\n",
       "      <td>Memorial Day</td>\n",
       "    </tr>\n",
       "    <tr>\n",
       "      <th>1077838</th>\n",
       "      <td>2014-05-26</td>\n",
       "      <td>40.7572</td>\n",
       "      <td>-73.9696</td>\n",
       "      <td>B02682</td>\n",
       "      <td>229</td>\n",
       "      <td>Manhattan</td>\n",
       "      <td>Sutton Place/Turtle Bay North</td>\n",
       "      <td>2014-05-26</td>\n",
       "      <td>1</td>\n",
       "      <td>Memorial Day</td>\n",
       "    </tr>\n",
       "    <tr>\n",
       "      <th>1077839</th>\n",
       "      <td>2014-05-26</td>\n",
       "      <td>40.7297</td>\n",
       "      <td>-73.9598</td>\n",
       "      <td>B02682</td>\n",
       "      <td>112</td>\n",
       "      <td>Brooklyn</td>\n",
       "      <td>Greenpoint</td>\n",
       "      <td>2014-05-26</td>\n",
       "      <td>1</td>\n",
       "      <td>Memorial Day</td>\n",
       "    </tr>\n",
       "    <tr>\n",
       "      <th>1077840</th>\n",
       "      <td>2014-05-26</td>\n",
       "      <td>40.7349</td>\n",
       "      <td>-73.9920</td>\n",
       "      <td>B02682</td>\n",
       "      <td>113</td>\n",
       "      <td>Manhattan</td>\n",
       "      <td>Greenwich Village North</td>\n",
       "      <td>2014-05-26</td>\n",
       "      <td>1</td>\n",
       "      <td>Memorial Day</td>\n",
       "    </tr>\n",
       "  </tbody>\n",
       "</table>\n",
       "</div>"
      ],
      "text/plain": [
       "          datetime      lat      lon    base  locationID    borough  \\\n",
       "1077836 2014-05-26  40.7407 -74.0077  B02682         158  Manhattan   \n",
       "1077837 2014-05-26  40.7573 -73.9778  B02598         161  Manhattan   \n",
       "1077838 2014-05-26  40.7572 -73.9696  B02682         229  Manhattan   \n",
       "1077839 2014-05-26  40.7297 -73.9598  B02682         112   Brooklyn   \n",
       "1077840 2014-05-26  40.7349 -73.9920  B02682         113  Manhattan   \n",
       "\n",
       "                                  zone        date  count       holiday  \n",
       "1077836  Meatpacking/West Village West  2014-05-26      1  Memorial Day  \n",
       "1077837                 Midtown Center  2014-05-26      1  Memorial Day  \n",
       "1077838  Sutton Place/Turtle Bay North  2014-05-26      1  Memorial Day  \n",
       "1077839                     Greenpoint  2014-05-26      1  Memorial Day  \n",
       "1077840        Greenwich Village North  2014-05-26      1  Memorial Day  "
      ]
     },
     "execution_count": 17,
     "metadata": {},
     "output_type": "execute_result"
    }
   ],
   "source": [
    "dfhdays[\"datetime\"] = pd.to_datetime(dfhdays[\"datetime\"])\n",
    "dfhdays.head()"
   ]
  },
  {
   "cell_type": "markdown",
   "metadata": {},
   "source": [
    "# New Year Day"
   ]
  },
  {
   "cell_type": "markdown",
   "metadata": {},
   "source": [
    "Looking at New Year's Day traveling working off of Melanie's time series plots"
   ]
  },
  {
   "cell_type": "code",
   "execution_count": 18,
   "metadata": {},
   "outputs": [
    {
     "data": {
      "text/html": [
       "<div>\n",
       "<style scoped>\n",
       "    .dataframe tbody tr th:only-of-type {\n",
       "        vertical-align: middle;\n",
       "    }\n",
       "\n",
       "    .dataframe tbody tr th {\n",
       "        vertical-align: top;\n",
       "    }\n",
       "\n",
       "    .dataframe thead th {\n",
       "        text-align: right;\n",
       "    }\n",
       "</style>\n",
       "<table border=\"1\" class=\"dataframe\">\n",
       "  <thead>\n",
       "    <tr style=\"text-align: right;\">\n",
       "      <th></th>\n",
       "      <th>datetime</th>\n",
       "      <th>lat</th>\n",
       "      <th>lon</th>\n",
       "      <th>base</th>\n",
       "      <th>locationID</th>\n",
       "      <th>borough</th>\n",
       "      <th>zone</th>\n",
       "      <th>date</th>\n",
       "      <th>count</th>\n",
       "      <th>holiday</th>\n",
       "    </tr>\n",
       "  </thead>\n",
       "  <tbody>\n",
       "    <tr>\n",
       "      <th>4443251</th>\n",
       "      <td>2015-01-01 00:00:05</td>\n",
       "      <td>40.7188</td>\n",
       "      <td>-73.9574</td>\n",
       "      <td>B02764</td>\n",
       "      <td>255</td>\n",
       "      <td>Brooklyn</td>\n",
       "      <td>Williamsburg (North Side)</td>\n",
       "      <td>2015-01-01</td>\n",
       "      <td>1</td>\n",
       "      <td>New Year Day</td>\n",
       "    </tr>\n",
       "    <tr>\n",
       "      <th>4443252</th>\n",
       "      <td>2015-01-01 00:00:05</td>\n",
       "      <td>40.7209</td>\n",
       "      <td>-73.9969</td>\n",
       "      <td>B02598</td>\n",
       "      <td>144</td>\n",
       "      <td>Manhattan</td>\n",
       "      <td>Little Italy/NoLiTa</td>\n",
       "      <td>2015-01-01</td>\n",
       "      <td>1</td>\n",
       "      <td>New Year Day</td>\n",
       "    </tr>\n",
       "    <tr>\n",
       "      <th>4443253</th>\n",
       "      <td>2015-01-01 00:00:08</td>\n",
       "      <td>40.7326</td>\n",
       "      <td>-73.9943</td>\n",
       "      <td>B02682</td>\n",
       "      <td>113</td>\n",
       "      <td>Manhattan</td>\n",
       "      <td>Greenwich Village North</td>\n",
       "      <td>2015-01-01</td>\n",
       "      <td>1</td>\n",
       "      <td>New Year Day</td>\n",
       "    </tr>\n",
       "    <tr>\n",
       "      <th>4443254</th>\n",
       "      <td>2015-01-01 00:00:11</td>\n",
       "      <td>40.7403</td>\n",
       "      <td>-73.9905</td>\n",
       "      <td>B02617</td>\n",
       "      <td>234</td>\n",
       "      <td>Manhattan</td>\n",
       "      <td>Union Sq</td>\n",
       "      <td>2015-01-01</td>\n",
       "      <td>1</td>\n",
       "      <td>New Year Day</td>\n",
       "    </tr>\n",
       "    <tr>\n",
       "      <th>4443255</th>\n",
       "      <td>2015-01-01 00:00:13</td>\n",
       "      <td>40.7147</td>\n",
       "      <td>-73.9830</td>\n",
       "      <td>B02764</td>\n",
       "      <td>232</td>\n",
       "      <td>Manhattan</td>\n",
       "      <td>Two Bridges/Seward Park</td>\n",
       "      <td>2015-01-01</td>\n",
       "      <td>1</td>\n",
       "      <td>New Year Day</td>\n",
       "    </tr>\n",
       "  </tbody>\n",
       "</table>\n",
       "</div>"
      ],
      "text/plain": [
       "                   datetime      lat      lon    base  locationID    borough  \\\n",
       "4443251 2015-01-01 00:00:05  40.7188 -73.9574  B02764         255   Brooklyn   \n",
       "4443252 2015-01-01 00:00:05  40.7209 -73.9969  B02598         144  Manhattan   \n",
       "4443253 2015-01-01 00:00:08  40.7326 -73.9943  B02682         113  Manhattan   \n",
       "4443254 2015-01-01 00:00:11  40.7403 -73.9905  B02617         234  Manhattan   \n",
       "4443255 2015-01-01 00:00:13  40.7147 -73.9830  B02764         232  Manhattan   \n",
       "\n",
       "                              zone        date  count       holiday  \n",
       "4443251  Williamsburg (North Side)  2015-01-01      1  New Year Day  \n",
       "4443252        Little Italy/NoLiTa  2015-01-01      1  New Year Day  \n",
       "4443253    Greenwich Village North  2015-01-01      1  New Year Day  \n",
       "4443254                   Union Sq  2015-01-01      1  New Year Day  \n",
       "4443255    Two Bridges/Seward Park  2015-01-01      1  New Year Day  "
      ]
     },
     "execution_count": 18,
     "metadata": {},
     "output_type": "execute_result"
    }
   ],
   "source": [
    "newyear = dfhdays[(dfhdays['holiday']=='New Year Day')&(dfhdays['date']=='2015-01-01')]\n",
    "newyear.head()"
   ]
  },
  {
   "cell_type": "code",
   "execution_count": 19,
   "metadata": {},
   "outputs": [
    {
     "data": {
      "text/html": [
       "<div>\n",
       "<style scoped>\n",
       "    .dataframe tbody tr th:only-of-type {\n",
       "        vertical-align: middle;\n",
       "    }\n",
       "\n",
       "    .dataframe tbody tr th {\n",
       "        vertical-align: top;\n",
       "    }\n",
       "\n",
       "    .dataframe thead th {\n",
       "        text-align: right;\n",
       "    }\n",
       "</style>\n",
       "<table border=\"1\" class=\"dataframe\">\n",
       "  <thead>\n",
       "    <tr style=\"text-align: right;\">\n",
       "      <th></th>\n",
       "      <th>count</th>\n",
       "    </tr>\n",
       "    <tr>\n",
       "      <th>datetime</th>\n",
       "      <th></th>\n",
       "    </tr>\n",
       "  </thead>\n",
       "  <tbody>\n",
       "    <tr>\n",
       "      <th>0</th>\n",
       "      <td>6166</td>\n",
       "    </tr>\n",
       "    <tr>\n",
       "      <th>1</th>\n",
       "      <td>5742</td>\n",
       "    </tr>\n",
       "    <tr>\n",
       "      <th>2</th>\n",
       "      <td>6841</td>\n",
       "    </tr>\n",
       "    <tr>\n",
       "      <th>3</th>\n",
       "      <td>5619</td>\n",
       "    </tr>\n",
       "    <tr>\n",
       "      <th>4</th>\n",
       "      <td>3375</td>\n",
       "    </tr>\n",
       "  </tbody>\n",
       "</table>\n",
       "</div>"
      ],
      "text/plain": [
       "          count\n",
       "datetime       \n",
       "0          6166\n",
       "1          5742\n",
       "2          6841\n",
       "3          5619\n",
       "4          3375"
      ]
     },
     "execution_count": 19,
     "metadata": {},
     "output_type": "execute_result"
    }
   ],
   "source": [
    "total_per_hour = newyear[[\"datetime\", \"count\"]].groupby([newyear[\"datetime\"].dt.hour]).sum()\n",
    "total_per_hour.head()"
   ]
  },
  {
   "cell_type": "code",
   "execution_count": 20,
   "metadata": {},
   "outputs": [],
   "source": [
    "average_per_hour = total_per_hour\n",
    "average_per_hour[\"count\"] = average_per_hour[\"count\"] / 31"
   ]
  },
  {
   "cell_type": "code",
   "execution_count": 21,
   "metadata": {},
   "outputs": [
    {
     "data": {
      "image/png": "[encoded data removed]",
      "text/plain": [
       "<Figure size 432x288 with 1 Axes>"
      ]
     },
     "metadata": {
      "needs_background": "light"
     },
     "output_type": "display_data"
    }
   ],
   "source": [
    "sns.scatterplot(data=average_per_hour, x = \"datetime\", y = \"count\")\n",
    "plt.show()"
   ]
  },
  {
   "cell_type": "code",
   "execution_count": 32,
   "metadata": {},
   "outputs": [],
   "source": [
    "dayafterNY = df[(df['date'] >= '2015-01-02') & (df['date'] < '2015-01-03')]"
   ]
  },
  {
   "cell_type": "code",
   "execution_count": 33,
   "metadata": {},
   "outputs": [
    {
     "data": {
      "text/html": [
       "<div>\n",
       "<style scoped>\n",
       "    .dataframe tbody tr th:only-of-type {\n",
       "        vertical-align: middle;\n",
       "    }\n",
       "\n",
       "    .dataframe tbody tr th {\n",
       "        vertical-align: top;\n",
       "    }\n",
       "\n",
       "    .dataframe thead th {\n",
       "        text-align: right;\n",
       "    }\n",
       "</style>\n",
       "<table border=\"1\" class=\"dataframe\">\n",
       "  <thead>\n",
       "    <tr style=\"text-align: right;\">\n",
       "      <th></th>\n",
       "      <th>datetime</th>\n",
       "      <th>lat</th>\n",
       "      <th>lon</th>\n",
       "      <th>base</th>\n",
       "      <th>locationID</th>\n",
       "      <th>borough</th>\n",
       "      <th>zone</th>\n",
       "      <th>date</th>\n",
       "      <th>count</th>\n",
       "    </tr>\n",
       "  </thead>\n",
       "  <tbody>\n",
       "    <tr>\n",
       "      <th>4501300</th>\n",
       "      <td>2015-01-02 00:00:04</td>\n",
       "      <td>40.7744</td>\n",
       "      <td>-73.8736</td>\n",
       "      <td>B02764</td>\n",
       "      <td>138</td>\n",
       "      <td>Queens</td>\n",
       "      <td>LaGuardia Airport</td>\n",
       "      <td>2015-01-02</td>\n",
       "      <td>1</td>\n",
       "    </tr>\n",
       "    <tr>\n",
       "      <th>4501301</th>\n",
       "      <td>2015-01-02 00:00:04</td>\n",
       "      <td>40.7009</td>\n",
       "      <td>-73.9712</td>\n",
       "      <td>B02617</td>\n",
       "      <td>34</td>\n",
       "      <td>Brooklyn</td>\n",
       "      <td>Brooklyn Navy Yard</td>\n",
       "      <td>2015-01-02</td>\n",
       "      <td>1</td>\n",
       "    </tr>\n",
       "    <tr>\n",
       "      <th>4501302</th>\n",
       "      <td>2015-01-02 00:00:07</td>\n",
       "      <td>40.7120</td>\n",
       "      <td>-74.0161</td>\n",
       "      <td>B02682</td>\n",
       "      <td>13</td>\n",
       "      <td>Manhattan</td>\n",
       "      <td>Battery Park City</td>\n",
       "      <td>2015-01-02</td>\n",
       "      <td>1</td>\n",
       "    </tr>\n",
       "    <tr>\n",
       "      <th>4501303</th>\n",
       "      <td>2015-01-02 00:00:07</td>\n",
       "      <td>40.7189</td>\n",
       "      <td>-73.9909</td>\n",
       "      <td>B02617</td>\n",
       "      <td>148</td>\n",
       "      <td>Manhattan</td>\n",
       "      <td>Lower East Side</td>\n",
       "      <td>2015-01-02</td>\n",
       "      <td>1</td>\n",
       "    </tr>\n",
       "    <tr>\n",
       "      <th>4501304</th>\n",
       "      <td>2015-01-02 00:00:08</td>\n",
       "      <td>40.7744</td>\n",
       "      <td>-73.8736</td>\n",
       "      <td>B02617</td>\n",
       "      <td>138</td>\n",
       "      <td>Queens</td>\n",
       "      <td>LaGuardia Airport</td>\n",
       "      <td>2015-01-02</td>\n",
       "      <td>1</td>\n",
       "    </tr>\n",
       "  </tbody>\n",
       "</table>\n",
       "</div>"
      ],
      "text/plain": [
       "                   datetime      lat      lon    base  locationID    borough  \\\n",
       "4501300 2015-01-02 00:00:04  40.7744 -73.8736  B02764         138     Queens   \n",
       "4501301 2015-01-02 00:00:04  40.7009 -73.9712  B02617          34   Brooklyn   \n",
       "4501302 2015-01-02 00:00:07  40.7120 -74.0161  B02682          13  Manhattan   \n",
       "4501303 2015-01-02 00:00:07  40.7189 -73.9909  B02617         148  Manhattan   \n",
       "4501304 2015-01-02 00:00:08  40.7744 -73.8736  B02617         138     Queens   \n",
       "\n",
       "                       zone        date  count  \n",
       "4501300   LaGuardia Airport  2015-01-02      1  \n",
       "4501301  Brooklyn Navy Yard  2015-01-02      1  \n",
       "4501302   Battery Park City  2015-01-02      1  \n",
       "4501303     Lower East Side  2015-01-02      1  \n",
       "4501304   LaGuardia Airport  2015-01-02      1  "
      ]
     },
     "execution_count": 33,
     "metadata": {},
     "output_type": "execute_result"
    }
   ],
   "source": [
    "dayafterNY.head()"
   ]
  },
  {
   "cell_type": "code",
   "execution_count": 34,
   "metadata": {},
   "outputs": [
    {
     "data": {
      "text/plain": [
       "<AxesSubplot:xlabel='datetime', ylabel='count'>"
      ]
     },
     "execution_count": 34,
     "metadata": {},
     "output_type": "execute_result"
    },
    {
     "data": {
      "image/png": "[encoded data removed]",
      "text/plain": [
       "<Figure size 432x288 with 1 Axes>"
      ]
     },
     "metadata": {
      "needs_background": "light"
     },
     "output_type": "display_data"
    }
   ],
   "source": [
    "total_per_hour = dayafterNY[[\"datetime\", \"count\"]].groupby([dayafterNY[\"datetime\"].dt.hour]).sum()\n",
    "average_per_hour = total_per_hour\n",
    "average_per_hour[\"count\"] = average_per_hour[\"count\"] / 31\n",
    "sns.scatterplot(data=average_per_hour, x = \"datetime\", y = \"count\")"
   ]
  },
  {
   "cell_type": "markdown",
   "metadata": {},
   "source": [
    "Since the above is a Friday most people probably did a long weekend with NYE on WED and NYD being TH. COmparing the next weekday"
   ]
  },
  {
   "cell_type": "code",
   "execution_count": 102,
   "metadata": {},
   "outputs": [
    {
     "data": {
      "text/plain": [
       "<AxesSubplot:xlabel='datetime', ylabel='count'>"
      ]
     },
     "execution_count": 102,
     "metadata": {},
     "output_type": "execute_result"
    },
    {
     "data": {
      "image/png": "[encoded data removed]",
      "text/plain": [
       "<Figure size 432x288 with 1 Axes>"
      ]
     },
     "metadata": {
      "needs_background": "light"
     },
     "output_type": "display_data"
    }
   ],
   "source": [
    "NYpDay = df[(df['date'] >= '2015-01-05') & (df['date'] < '2015-01-06')]\n",
    "total_per_hour = NYpDay[[\"datetime\", \"count\"]].groupby([NYpDay[\"datetime\"].dt.hour]).sum()\n",
    "average_per_hour = total_per_hour\n",
    "average_per_hour[\"count\"] = average_per_hour[\"count\"] / 31\n",
    "sns.scatterplot(data=average_per_hour, x = \"datetime\", y = \"count\")"
   ]
  },
  {
   "cell_type": "markdown",
   "metadata": {},
   "source": [
    "# MLK Day"
   ]
  },
  {
   "cell_type": "code",
   "execution_count": 54,
   "metadata": {},
   "outputs": [],
   "source": [
    "MLK = df[(df['date'] >= '2015-01-19') & (df['date'] < '2015-12-20')]"
   ]
  },
  {
   "cell_type": "code",
   "execution_count": 56,
   "metadata": {},
   "outputs": [
    {
     "data": {
      "text/plain": [
       "<AxesSubplot:xlabel='datetime', ylabel='count'>"
      ]
     },
     "execution_count": 56,
     "metadata": {},
     "output_type": "execute_result"
    },
    {
     "data": {
      "image/png": "[encoded data removed]",
      "text/plain": [
       "<Figure size 432x288 with 1 Axes>"
      ]
     },
     "metadata": {
      "needs_background": "light"
     },
     "output_type": "display_data"
    }
   ],
   "source": [
    "total_per_hour = MLK[[\"datetime\", \"count\"]].groupby([MLK[\"datetime\"].dt.hour]).sum()\n",
    "average_per_hour = total_per_hour\n",
    "average_per_hour[\"count\"] = average_per_hour[\"count\"] / 31\n",
    "sns.scatterplot(data=average_per_hour, x = \"datetime\", y = \"count\")"
   ]
  },
  {
   "cell_type": "code",
   "execution_count": 61,
   "metadata": {},
   "outputs": [],
   "source": [
    "MLKpDay = df[(df['date'] >= '2015-01-20') & (df['date'] < '2015-12-21')]"
   ]
  },
  {
   "cell_type": "code",
   "execution_count": 62,
   "metadata": {},
   "outputs": [
    {
     "data": {
      "text/plain": [
       "<AxesSubplot:xlabel='datetime', ylabel='count'>"
      ]
     },
     "execution_count": 62,
     "metadata": {},
     "output_type": "execute_result"
    },
    {
     "data": {
      "image/png": "[encoded data removed]",
      "text/plain": [
       "<Figure size 432x288 with 1 Axes>"
      ]
     },
     "metadata": {
      "needs_background": "light"
     },
     "output_type": "display_data"
    }
   ],
   "source": [
    "total_per_hour = MLKpDay[[\"datetime\", \"count\"]].groupby([MLKpDay[\"datetime\"].dt.hour]).sum()\n",
    "average_per_hour = total_per_hour\n",
    "average_per_hour[\"count\"] = average_per_hour[\"count\"] / 31\n",
    "sns.scatterplot(data=average_per_hour, x = \"datetime\", y = \"count\")"
   ]
  },
  {
   "cell_type": "markdown",
   "metadata": {},
   "source": [
    "No difference :( most people probably don't get the day off"
   ]
  },
  {
   "cell_type": "markdown",
   "metadata": {},
   "source": [
    "# Presidents Day"
   ]
  },
  {
   "cell_type": "code",
   "execution_count": 71,
   "metadata": {},
   "outputs": [
    {
     "data": {
      "text/plain": [
       "<AxesSubplot:xlabel='datetime', ylabel='count'>"
      ]
     },
     "execution_count": 71,
     "metadata": {},
     "output_type": "execute_result"
    },
    {
     "data": {
      "image/png": "[encoded data removed]",
      "text/plain": [
       "<Figure size 432x288 with 1 Axes>"
      ]
     },
     "metadata": {
      "needs_background": "light"
     },
     "output_type": "display_data"
    }
   ],
   "source": [
    "PresDay = df[(df['date'] >= '2015-02-16') & (df['date'] < '2015-02-17')]\n",
    "total_per_hour = PresDay[[\"datetime\", \"count\"]].groupby([PresDay[\"datetime\"].dt.hour]).sum()\n",
    "average_per_hour = total_per_hour\n",
    "average_per_hour[\"count\"] = average_per_hour[\"count\"] / 31\n",
    "sns.scatterplot(data=average_per_hour, x = \"datetime\", y = \"count\")"
   ]
  },
  {
   "cell_type": "code",
   "execution_count": 72,
   "metadata": {},
   "outputs": [
    {
     "data": {
      "text/plain": [
       "<AxesSubplot:xlabel='datetime', ylabel='count'>"
      ]
     },
     "execution_count": 72,
     "metadata": {},
     "output_type": "execute_result"
    },
    {
     "data": {
      "image/png": "[encoded data removed]",
      "text/plain": [
       "<Figure size 432x288 with 1 Axes>"
      ]
     },
     "metadata": {
      "needs_background": "light"
     },
     "output_type": "display_data"
    }
   ],
   "source": [
    "PrespDay = df[(df['date'] >= '2015-02-17') & (df['date'] < '2015-02-18')]\n",
    "total_per_hour = PrespDay[[\"datetime\", \"count\"]].groupby([PrespDay[\"datetime\"].dt.hour]).sum()\n",
    "average_per_hour = total_per_hour\n",
    "average_per_hour[\"count\"] = average_per_hour[\"count\"] / 31\n",
    "sns.scatterplot(data=average_per_hour, x = \"datetime\", y = \"count\")"
   ]
  },
  {
   "cell_type": "markdown",
   "metadata": {},
   "source": [
    "Going to start doing a before on the weekday before since most of the holidays fall on a monday and we know weekend are different than weekdays."
   ]
  },
  {
   "cell_type": "code",
   "execution_count": 101,
   "metadata": {},
   "outputs": [
    {
     "data": {
      "text/plain": [
       "<AxesSubplot:xlabel='datetime', ylabel='count'>"
      ]
     },
     "execution_count": 101,
     "metadata": {},
     "output_type": "execute_result"
    },
    {
     "data": {
      "image/png": "[encoded data removed]",
      "text/plain": [
       "<Figure size 432x288 with 1 Axes>"
      ]
     },
     "metadata": {
      "needs_background": "light"
     },
     "output_type": "display_data"
    }
   ],
   "source": [
    "PresmDay = df[(df['date'] >= '2015-02-13') & (df['date'] < '2015-02-14')]\n",
    "total_per_hour = PresmDay[[\"datetime\", \"count\"]].groupby([PresmDay[\"datetime\"].dt.hour]).sum()\n",
    "average_per_hour = total_per_hour\n",
    "average_per_hour[\"count\"] = average_per_hour[\"count\"] / 31\n",
    "sns.scatterplot(data=average_per_hour, x = \"datetime\", y = \"count\")"
   ]
  },
  {
   "cell_type": "markdown",
   "metadata": {},
   "source": [
    "# Memorial Day"
   ]
  },
  {
   "cell_type": "markdown",
   "metadata": {},
   "source": [
    "2014"
   ]
  },
  {
   "cell_type": "code",
   "execution_count": 76,
   "metadata": {},
   "outputs": [
    {
     "data": {
      "text/plain": [
       "<AxesSubplot:xlabel='datetime', ylabel='count'>"
      ]
     },
     "execution_count": 76,
     "metadata": {},
     "output_type": "execute_result"
    },
    {
     "data": {
      "image/png": "[encoded data removed]",
      "text/plain": [
       "<Figure size 432x288 with 1 Axes>"
      ]
     },
     "metadata": {
      "needs_background": "light"
     },
     "output_type": "display_data"
    }
   ],
   "source": [
    "MemDay = df[(df['date'] >= '2014-05-26') & (df['date'] < '2014-05-27')]\n",
    "total_per_hour = MemDay[[\"datetime\", \"count\"]].groupby([MemDay[\"datetime\"].dt.hour]).sum()\n",
    "average_per_hour = total_per_hour\n",
    "average_per_hour[\"count\"] = average_per_hour[\"count\"] / 31\n",
    "sns.scatterplot(data=average_per_hour, x = \"datetime\", y = \"count\")"
   ]
  },
  {
   "cell_type": "code",
   "execution_count": 78,
   "metadata": {},
   "outputs": [
    {
     "data": {
      "text/plain": [
       "<AxesSubplot:xlabel='datetime', ylabel='count'>"
      ]
     },
     "execution_count": 78,
     "metadata": {},
     "output_type": "execute_result"
    },
    {
     "data": {
      "image/png": "[encoded data removed]",
      "text/plain": [
       "<Figure size 432x288 with 1 Axes>"
      ]
     },
     "metadata": {
      "needs_background": "light"
     },
     "output_type": "display_data"
    }
   ],
   "source": [
    "MempDay = df[(df['date'] >= '2014-05-27') & (df['date'] < '2014-05-28')]\n",
    "total_per_hour = MempDay[[\"datetime\", \"count\"]].groupby([MempDay[\"datetime\"].dt.hour]).sum()\n",
    "average_per_hour = total_per_hour\n",
    "average_per_hour[\"count\"] = average_per_hour[\"count\"] / 31\n",
    "sns.scatterplot(data=average_per_hour, x = \"datetime\", y = \"count\")"
   ]
  },
  {
   "cell_type": "markdown",
   "metadata": {},
   "source": [
    "Below is Friday"
   ]
  },
  {
   "cell_type": "code",
   "execution_count": 83,
   "metadata": {},
   "outputs": [
    {
     "data": {
      "text/plain": [
       "<AxesSubplot:xlabel='datetime', ylabel='count'>"
      ]
     },
     "execution_count": 83,
     "metadata": {},
     "output_type": "execute_result"
    },
    {
     "data": {
      "image/png": "[encoded data removed]",
      "text/plain": [
       "<Figure size 432x288 with 1 Axes>"
      ]
     },
     "metadata": {
      "needs_background": "light"
     },
     "output_type": "display_data"
    }
   ],
   "source": [
    "MemmDay = df[(df['date'] >= '2014-05-23') & (df['date'] < '2014-05-24')]\n",
    "total_per_hour = MemmDay[[\"datetime\", \"count\"]].groupby([MemmDay[\"datetime\"].dt.hour]).sum()\n",
    "average_per_hour = total_per_hour\n",
    "average_per_hour[\"count\"] = average_per_hour[\"count\"] / 31\n",
    "sns.scatterplot(data=average_per_hour, x = \"datetime\", y = \"count\")"
   ]
  },
  {
   "cell_type": "markdown",
   "metadata": {},
   "source": [
    "disruption in the app? "
   ]
  },
  {
   "cell_type": "markdown",
   "metadata": {},
   "source": [
    "2015"
   ]
  },
  {
   "cell_type": "code",
   "execution_count": 84,
   "metadata": {},
   "outputs": [
    {
     "data": {
      "text/plain": [
       "<AxesSubplot:xlabel='datetime', ylabel='count'>"
      ]
     },
     "execution_count": 84,
     "metadata": {},
     "output_type": "execute_result"
    },
    {
     "data": {
      "image/png": "[encoded data removed]",
      "text/plain": [
       "<Figure size 432x288 with 1 Axes>"
      ]
     },
     "metadata": {
      "needs_background": "light"
     },
     "output_type": "display_data"
    }
   ],
   "source": [
    "MemDay = df[(df['date'] >= '2015-05-25') & (df['date'] < '2015-05-26')]\n",
    "total_per_hour = MemDay[[\"datetime\", \"count\"]].groupby([MemDay[\"datetime\"].dt.hour]).sum()\n",
    "average_per_hour = total_per_hour\n",
    "average_per_hour[\"count\"] = average_per_hour[\"count\"] / 31\n",
    "sns.scatterplot(data=average_per_hour, x = \"datetime\", y = \"count\")"
   ]
  },
  {
   "cell_type": "markdown",
   "metadata": {},
   "source": [
    "Cool that people tend to follow the same pattern in different years on the same holiday"
   ]
  },
  {
   "cell_type": "code",
   "execution_count": 85,
   "metadata": {},
   "outputs": [
    {
     "data": {
      "text/plain": [
       "<AxesSubplot:xlabel='datetime', ylabel='count'>"
      ]
     },
     "execution_count": 85,
     "metadata": {},
     "output_type": "execute_result"
    },
    {
     "data": {
      "image/png": "[encoded data removed]",
      "text/plain": [
       "<Figure size 432x288 with 1 Axes>"
      ]
     },
     "metadata": {
      "needs_background": "light"
     },
     "output_type": "display_data"
    }
   ],
   "source": [
    "MempDay = df[(df['date'] >= '2015-05-27') & (df['date'] < '2015-05-28')]\n",
    "total_per_hour = MempDay[[\"datetime\", \"count\"]].groupby([MempDay[\"datetime\"].dt.hour]).sum()\n",
    "average_per_hour = total_per_hour\n",
    "average_per_hour[\"count\"] = average_per_hour[\"count\"] / 31\n",
    "sns.scatterplot(data=average_per_hour, x = \"datetime\", y = \"count\")"
   ]
  },
  {
   "cell_type": "code",
   "execution_count": 100,
   "metadata": {},
   "outputs": [
    {
     "data": {
      "text/plain": [
       "<AxesSubplot:xlabel='datetime', ylabel='count'>"
      ]
     },
     "execution_count": 100,
     "metadata": {},
     "output_type": "execute_result"
    },
    {
     "data": {
      "image/png": "[encoded data removed]",
      "text/plain": [
       "<Figure size 432x288 with 1 Axes>"
      ]
     },
     "metadata": {
      "needs_background": "light"
     },
     "output_type": "display_data"
    }
   ],
   "source": [
    "MemmDay = df[(df['date'] >= '2015-05-22') & (df['date'] < '2015-05-23')]\n",
    "total_per_hour = MempDay[[\"datetime\", \"count\"]].groupby([MempDay[\"datetime\"].dt.hour]).sum()\n",
    "average_per_hour = total_per_hour\n",
    "average_per_hour[\"count\"] = average_per_hour[\"count\"] / 31\n",
    "sns.scatterplot(data=average_per_hour, x = \"datetime\", y = \"count\")"
   ]
  },
  {
   "cell_type": "markdown",
   "metadata": {},
   "source": [
    "# 4th of July"
   ]
  },
  {
   "cell_type": "code",
   "execution_count": 86,
   "metadata": {},
   "outputs": [
    {
     "data": {
      "text/plain": [
       "<AxesSubplot:xlabel='datetime', ylabel='count'>"
      ]
     },
     "execution_count": 86,
     "metadata": {},
     "output_type": "execute_result"
    },
    {
     "data": {
      "image/png": "[encoded data removed]",
      "text/plain": [
       "<Figure size 432x288 with 1 Axes>"
      ]
     },
     "metadata": {
      "needs_background": "light"
     },
     "output_type": "display_data"
    }
   ],
   "source": [
    "frth = df[(df['date'] >= '2014-07-04') & (df['date'] < '2014-07-05')]\n",
    "total_per_hour = frth[[\"datetime\", \"count\"]].groupby([frth[\"datetime\"].dt.hour]).sum()\n",
    "average_per_hour = total_per_hour\n",
    "average_per_hour[\"count\"] = average_per_hour[\"count\"] / 31\n",
    "sns.scatterplot(data=average_per_hour, x = \"datetime\", y = \"count\")"
   ]
  },
  {
   "cell_type": "markdown",
   "metadata": {},
   "source": [
    "Next bussines day"
   ]
  },
  {
   "cell_type": "code",
   "execution_count": 89,
   "metadata": {},
   "outputs": [
    {
     "data": {
      "text/plain": [
       "<AxesSubplot:xlabel='datetime', ylabel='count'>"
      ]
     },
     "execution_count": 89,
     "metadata": {},
     "output_type": "execute_result"
    },
    {
     "data": {
      "image/png": "[encoded data removed]",
      "text/plain": [
       "<Figure size 432x288 with 1 Axes>"
      ]
     },
     "metadata": {
      "needs_background": "light"
     },
     "output_type": "display_data"
    }
   ],
   "source": [
    "frthp = df[(df['date'] >= '2014-07-06') & (df['date'] < '2014-07-07')]\n",
    "total_per_hour = frthp[[\"datetime\", \"count\"]].groupby([frthp[\"datetime\"].dt.hour]).sum()\n",
    "average_per_hour = total_per_hour\n",
    "average_per_hour[\"count\"] = average_per_hour[\"count\"] / 31\n",
    "sns.scatterplot(data=average_per_hour, x = \"datetime\", y = \"count\")"
   ]
  },
  {
   "cell_type": "markdown",
   "metadata": {},
   "source": [
    "I assume since 4th of July was on a Friday a lot of people took off the Monday also?? went with +2 days for this to get a normal day"
   ]
  },
  {
   "cell_type": "code",
   "execution_count": 91,
   "metadata": {},
   "outputs": [
    {
     "data": {
      "text/plain": [
       "<AxesSubplot:xlabel='datetime', ylabel='count'>"
      ]
     },
     "execution_count": 91,
     "metadata": {},
     "output_type": "execute_result"
    },
    {
     "data": {
      "image/png": "[encoded data removed]",
      "text/plain": [
       "<Figure size 432x288 with 1 Axes>"
      ]
     },
     "metadata": {
      "needs_background": "light"
     },
     "output_type": "display_data"
    }
   ],
   "source": [
    "frthpp = df[(df['date'] >= '2014-07-07') & (df['date'] < '2014-07-08')]\n",
    "total_per_hour = frthpp[[\"datetime\", \"count\"]].groupby([frthpp[\"datetime\"].dt.hour]).sum()\n",
    "average_per_hour = total_per_hour\n",
    "average_per_hour[\"count\"] = average_per_hour[\"count\"] / 31\n",
    "sns.scatterplot(data=average_per_hour, x = \"datetime\", y = \"count\")"
   ]
  },
  {
   "cell_type": "code",
   "execution_count": 99,
   "metadata": {},
   "outputs": [
    {
     "data": {
      "text/plain": [
       "<AxesSubplot:xlabel='datetime', ylabel='count'>"
      ]
     },
     "execution_count": 99,
     "metadata": {},
     "output_type": "execute_result"
    },
    {
     "data": {
      "image/png": "[encoded data removed]",
      "text/plain": [
       "<Figure size 432x288 with 1 Axes>"
      ]
     },
     "metadata": {
      "needs_background": "light"
     },
     "output_type": "display_data"
    }
   ],
   "source": [
    "frthm = df[(df['date'] >= '2014-07-03') & (df['date'] < '2014-07-04')]\n",
    "total_per_hour = frthpp[[\"datetime\", \"count\"]].groupby([frthpp[\"datetime\"].dt.hour]).sum()\n",
    "average_per_hour = total_per_hour\n",
    "average_per_hour[\"count\"] = average_per_hour[\"count\"] / 31\n",
    "sns.scatterplot(data=average_per_hour, x = \"datetime\", y = \"count\")"
   ]
  },
  {
   "cell_type": "markdown",
   "metadata": {},
   "source": [
    "Normal looking was curious to see if people got off early but probably as stated above since people got Monday off aswell looks like they continued to work as normal."
   ]
  },
  {
   "cell_type": "markdown",
   "metadata": {},
   "source": [
    "# Labor Day"
   ]
  },
  {
   "cell_type": "code",
   "execution_count": 92,
   "metadata": {},
   "outputs": [
    {
     "data": {
      "text/plain": [
       "<AxesSubplot:xlabel='datetime', ylabel='count'>"
      ]
     },
     "execution_count": 92,
     "metadata": {},
     "output_type": "execute_result"
    },
    {
     "data": {
      "image/png": "[encoded data removed]",
      "text/plain": [
       "<Figure size 432x288 with 1 Axes>"
      ]
     },
     "metadata": {
      "needs_background": "light"
     },
     "output_type": "display_data"
    }
   ],
   "source": [
    "labday = df[(df['date'] >= '2014-09-01') & (df['date'] < '2014-09-02')]\n",
    "total_per_hour = labday[[\"datetime\", \"count\"]].groupby([labday[\"datetime\"].dt.hour]).sum()\n",
    "average_per_hour = total_per_hour\n",
    "average_per_hour[\"count\"] = average_per_hour[\"count\"] / 31\n",
    "sns.scatterplot(data=average_per_hour, x = \"datetime\", y = \"count\")"
   ]
  },
  {
   "cell_type": "code",
   "execution_count": 93,
   "metadata": {},
   "outputs": [
    {
     "data": {
      "text/plain": [
       "<AxesSubplot:xlabel='datetime', ylabel='count'>"
      ]
     },
     "execution_count": 93,
     "metadata": {},
     "output_type": "execute_result"
    },
    {
     "data": {
      "image/png": "[encoded data removed]",
      "text/plain": [
       "<Figure size 432x288 with 1 Axes>"
      ]
     },
     "metadata": {
      "needs_background": "light"
     },
     "output_type": "display_data"
    }
   ],
   "source": [
    "labdayp = df[(df['date'] >= '2014-09-02') & (df['date'] < '2014-09-03')]\n",
    "total_per_hour = labdayp[[\"datetime\", \"count\"]].groupby([labdayp[\"datetime\"].dt.hour]).sum()\n",
    "average_per_hour = total_per_hour\n",
    "average_per_hour[\"count\"] = average_per_hour[\"count\"] / 31\n",
    "sns.scatterplot(data=average_per_hour, x = \"datetime\", y = \"count\")"
   ]
  },
  {
   "cell_type": "markdown",
   "metadata": {},
   "source": [
    "# 9/11"
   ]
  },
  {
   "cell_type": "markdown",
   "metadata": {},
   "source": [
    "Just curious if traffic patterns might be altered due to it "
   ]
  },
  {
   "cell_type": "code",
   "execution_count": 94,
   "metadata": {},
   "outputs": [
    {
     "data": {
      "text/plain": [
       "<AxesSubplot:xlabel='datetime', ylabel='count'>"
      ]
     },
     "execution_count": 94,
     "metadata": {},
     "output_type": "execute_result"
    },
    {
     "data": {
      "image/png": "[encoded data removed]",
      "text/plain": [
       "<Figure size 432x288 with 1 Axes>"
      ]
     },
     "metadata": {
      "needs_background": "light"
     },
     "output_type": "display_data"
    }
   ],
   "source": [
    "ninelv = df[(df['date'] >= '2014-09-11') & (df['date'] < '2014-09-12')]\n",
    "total_per_hour = ninelv[[\"datetime\", \"count\"]].groupby([ninelv[\"datetime\"].dt.hour]).sum()\n",
    "average_per_hour = total_per_hour\n",
    "average_per_hour[\"count\"] = average_per_hour[\"count\"] / 31\n",
    "sns.scatterplot(data=average_per_hour, x = \"datetime\", y = \"count\")"
   ]
  },
  {
   "cell_type": "code",
   "execution_count": 97,
   "metadata": {},
   "outputs": [
    {
     "data": {
      "text/plain": [
       "<AxesSubplot:xlabel='datetime', ylabel='count'>"
      ]
     },
     "execution_count": 97,
     "metadata": {},
     "output_type": "execute_result"
    },
    {
     "data": {
      "image/png": "[encoded data removed]",
      "text/plain": [
       "<Figure size 432x288 with 1 Axes>"
      ]
     },
     "metadata": {
      "needs_background": "light"
     },
     "output_type": "display_data"
    }
   ],
   "source": [
    "ninelvp = df[(df['date'] >= '2014-09-12') & (df['date'] < '2014-09-13')]\n",
    "total_per_hour = ninelvp[[\"datetime\", \"count\"]].groupby([ninelvp[\"datetime\"].dt.hour]).sum()\n",
    "average_per_hour = total_per_hour\n",
    "average_per_hour[\"count\"] = average_per_hour[\"count\"] / 31\n",
    "sns.scatterplot(data=average_per_hour, x = \"datetime\", y = \"count\")"
   ]
  },
  {
   "cell_type": "code",
   "execution_count": 98,
   "metadata": {},
   "outputs": [
    {
     "data": {
      "text/plain": [
       "<AxesSubplot:xlabel='datetime', ylabel='count'>"
      ]
     },
     "execution_count": 98,
     "metadata": {},
     "output_type": "execute_result"
    },
    {
     "data": {
      "image/png": "[encoded data removed]",
      "text/plain": [
       "<Figure size 432x288 with 1 Axes>"
      ]
     },
     "metadata": {
      "needs_background": "light"
     },
     "output_type": "display_data"
    }
   ],
   "source": [
    "ninelvm = df[(df['date'] >= '2014-09-10') & (df['date'] < '2014-09-11')]\n",
    "total_per_hour = ninelvm[[\"datetime\", \"count\"]].groupby([ninelvm[\"datetime\"].dt.hour]).sum()\n",
    "average_per_hour = total_per_hour\n",
    "average_per_hour[\"count\"] = average_per_hour[\"count\"] / 31\n",
    "sns.scatterplot(data=average_per_hour, x = \"datetime\", y = \"count\")"
   ]
  },
  {
   "cell_type": "markdown",
   "metadata": {},
   "source": [
    "No difference :/"
   ]
  },
  {
   "cell_type": "markdown",
   "metadata": {},
   "source": []
  }
 ],
 "metadata": {
  "interpreter": {
   "hash": "2d7ccb4b5c020a4df5cfce875b609042dc6346d21303e55a4c832687eb6a85dd"
  },
  "kernelspec": {
   "display_name": "Python 3.8.12 ('AppliedMachineLearning')",
   "language": "python",
   "name": "python3"
  },
  "language_info": {
   "codemirror_mode": {
    "name": "ipython",
    "version": 3
   },
   "file_extension": ".py",
   "mimetype": "text/x-python",
   "name": "python",
   "nbconvert_exporter": "python",
   "pygments_lexer": "ipython3",
   "version": "3.8.12"
  },
  "orig_nbformat": 4
 },
 "nbformat": 4,
 "nbformat_minor": 2
}
