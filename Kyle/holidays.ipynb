{
 "cells": [
  {
   "cell_type": "code",
   "execution_count": 1,
   "metadata": {},
   "outputs": [],
   "source": [
    "import numpy as np\n",
    "import pandas as pd \n",
    "import os \n",
    "pd.options.mode.chained_assignment = None "
   ]
  },
  {
   "cell_type": "code",
   "execution_count": 2,
   "metadata": {},
   "outputs": [],
   "source": [
    "os.chdir('C:/Users/rodri/Desktop/NCFS2/DistComp/proj2')"
   ]
  },
  {
   "cell_type": "code",
   "execution_count": 3,
   "metadata": {},
   "outputs": [],
   "source": [
    "csv_file = \"./uber_2015_processed.csv\"\n",
    "df2015= pd.read_csv(csv_file,sep=',')"
   ]
  },
  {
   "cell_type": "code",
   "execution_count": 4,
   "metadata": {},
   "outputs": [
    {
     "data": {
      "text/html": [
       "<div>\n",
       "<style scoped>\n",
       "    .dataframe tbody tr th:only-of-type {\n",
       "        vertical-align: middle;\n",
       "    }\n",
       "\n",
       "    .dataframe tbody tr th {\n",
       "        vertical-align: top;\n",
       "    }\n",
       "\n",
       "    .dataframe thead th {\n",
       "        text-align: right;\n",
       "    }\n",
       "</style>\n",
       "<table border=\"1\" class=\"dataframe\">\n",
       "  <thead>\n",
       "    <tr style=\"text-align: right;\">\n",
       "      <th></th>\n",
       "      <th>datetime</th>\n",
       "      <th>lat</th>\n",
       "      <th>lon</th>\n",
       "      <th>base</th>\n",
       "      <th>locationID</th>\n",
       "      <th>borough</th>\n",
       "      <th>zone</th>\n",
       "    </tr>\n",
       "  </thead>\n",
       "  <tbody>\n",
       "    <tr>\n",
       "      <th>0</th>\n",
       "      <td>2015-01-01 00:00:05</td>\n",
       "      <td>40.7188</td>\n",
       "      <td>-73.9574</td>\n",
       "      <td>B02764</td>\n",
       "      <td>255</td>\n",
       "      <td>Brooklyn</td>\n",
       "      <td>Williamsburg (North Side)</td>\n",
       "    </tr>\n",
       "    <tr>\n",
       "      <th>1</th>\n",
       "      <td>2015-01-01 00:00:05</td>\n",
       "      <td>40.7209</td>\n",
       "      <td>-73.9969</td>\n",
       "      <td>B02598</td>\n",
       "      <td>144</td>\n",
       "      <td>Manhattan</td>\n",
       "      <td>Little Italy/NoLiTa</td>\n",
       "    </tr>\n",
       "    <tr>\n",
       "      <th>2</th>\n",
       "      <td>2015-01-01 00:00:08</td>\n",
       "      <td>40.7326</td>\n",
       "      <td>-73.9943</td>\n",
       "      <td>B02682</td>\n",
       "      <td>113</td>\n",
       "      <td>Manhattan</td>\n",
       "      <td>Greenwich Village North</td>\n",
       "    </tr>\n",
       "    <tr>\n",
       "      <th>3</th>\n",
       "      <td>2015-01-01 00:00:11</td>\n",
       "      <td>40.7403</td>\n",
       "      <td>-73.9905</td>\n",
       "      <td>B02617</td>\n",
       "      <td>234</td>\n",
       "      <td>Manhattan</td>\n",
       "      <td>Union Sq</td>\n",
       "    </tr>\n",
       "    <tr>\n",
       "      <th>4</th>\n",
       "      <td>2015-01-01 00:00:13</td>\n",
       "      <td>40.7147</td>\n",
       "      <td>-73.9830</td>\n",
       "      <td>B02764</td>\n",
       "      <td>232</td>\n",
       "      <td>Manhattan</td>\n",
       "      <td>Two Bridges/Seward Park</td>\n",
       "    </tr>\n",
       "  </tbody>\n",
       "</table>\n",
       "</div>"
      ],
      "text/plain": [
       "              datetime      lat      lon    base  locationID    borough  \\\n",
       "0  2015-01-01 00:00:05  40.7188 -73.9574  B02764         255   Brooklyn   \n",
       "1  2015-01-01 00:00:05  40.7209 -73.9969  B02598         144  Manhattan   \n",
       "2  2015-01-01 00:00:08  40.7326 -73.9943  B02682         113  Manhattan   \n",
       "3  2015-01-01 00:00:11  40.7403 -73.9905  B02617         234  Manhattan   \n",
       "4  2015-01-01 00:00:13  40.7147 -73.9830  B02764         232  Manhattan   \n",
       "\n",
       "                        zone  \n",
       "0  Williamsburg (North Side)  \n",
       "1        Little Italy/NoLiTa  \n",
       "2    Greenwich Village North  \n",
       "3                   Union Sq  \n",
       "4    Two Bridges/Seward Park  "
      ]
     },
     "execution_count": 4,
     "metadata": {},
     "output_type": "execute_result"
    }
   ],
   "source": [
    "df2015.head()"
   ]
  },
  {
   "cell_type": "code",
   "execution_count": 5,
   "metadata": {},
   "outputs": [],
   "source": [
    "df2015['date']=pd.to_datetime(df2015['datetime']).dt.date\n"
   ]
  },
  {
   "cell_type": "code",
   "execution_count": 6,
   "metadata": {},
   "outputs": [],
   "source": [
    "csv_file = \"./US Bank holidays\"\n",
    "hdays = pd.read_csv(csv_file,sep=',')"
   ]
  },
  {
   "cell_type": "code",
   "execution_count": 7,
   "metadata": {},
   "outputs": [],
   "source": [
    "hdays = hdays.drop(['id'],axis=1)"
   ]
  },
  {
   "cell_type": "code",
   "execution_count": 8,
   "metadata": {},
   "outputs": [],
   "source": [
    "hdays_2014 = hdays[(hdays['date'] >= '2014-01-01') & (hdays['date'] <= '2014-12-31')]\n",
    "hdays_2015 = hdays[(hdays['date'] >= '2015-01-01') & (hdays['date'] <= '2015-12-31')]"
   ]
  },
  {
   "cell_type": "code",
   "execution_count": 10,
   "metadata": {},
   "outputs": [],
   "source": [
    "hdays_2015['date'] = hdays_2015['date'].astype(str).str.strip()"
   ]
  },
  {
   "cell_type": "code",
   "execution_count": 11,
   "metadata": {},
   "outputs": [],
   "source": [
    "df2015['date'] = df2015['date'].astype(str).str.strip()"
   ]
  },
  {
   "cell_type": "code",
   "execution_count": 13,
   "metadata": {},
   "outputs": [],
   "source": [
    "df2015hdays = df2015.merge(hdays_2015,left_on='date',right_on='date',how='left')"
   ]
  },
  {
   "cell_type": "code",
   "execution_count": 14,
   "metadata": {},
   "outputs": [
    {
     "data": {
      "text/html": [
       "<div>\n",
       "<style scoped>\n",
       "    .dataframe tbody tr th:only-of-type {\n",
       "        vertical-align: middle;\n",
       "    }\n",
       "\n",
       "    .dataframe tbody tr th {\n",
       "        vertical-align: top;\n",
       "    }\n",
       "\n",
       "    .dataframe thead th {\n",
       "        text-align: right;\n",
       "    }\n",
       "</style>\n",
       "<table border=\"1\" class=\"dataframe\">\n",
       "  <thead>\n",
       "    <tr style=\"text-align: right;\">\n",
       "      <th></th>\n",
       "      <th>datetime</th>\n",
       "      <th>lat</th>\n",
       "      <th>lon</th>\n",
       "      <th>base</th>\n",
       "      <th>locationID</th>\n",
       "      <th>borough</th>\n",
       "      <th>zone</th>\n",
       "      <th>date</th>\n",
       "      <th>holiday</th>\n",
       "    </tr>\n",
       "  </thead>\n",
       "  <tbody>\n",
       "    <tr>\n",
       "      <th>0</th>\n",
       "      <td>2015-01-01 00:00:05</td>\n",
       "      <td>40.7188</td>\n",
       "      <td>-73.9574</td>\n",
       "      <td>B02764</td>\n",
       "      <td>255</td>\n",
       "      <td>Brooklyn</td>\n",
       "      <td>Williamsburg (North Side)</td>\n",
       "      <td>2015-01-01</td>\n",
       "      <td>New Year Day</td>\n",
       "    </tr>\n",
       "    <tr>\n",
       "      <th>1</th>\n",
       "      <td>2015-01-01 00:00:05</td>\n",
       "      <td>40.7209</td>\n",
       "      <td>-73.9969</td>\n",
       "      <td>B02598</td>\n",
       "      <td>144</td>\n",
       "      <td>Manhattan</td>\n",
       "      <td>Little Italy/NoLiTa</td>\n",
       "      <td>2015-01-01</td>\n",
       "      <td>New Year Day</td>\n",
       "    </tr>\n",
       "    <tr>\n",
       "      <th>2</th>\n",
       "      <td>2015-01-01 00:00:08</td>\n",
       "      <td>40.7326</td>\n",
       "      <td>-73.9943</td>\n",
       "      <td>B02682</td>\n",
       "      <td>113</td>\n",
       "      <td>Manhattan</td>\n",
       "      <td>Greenwich Village North</td>\n",
       "      <td>2015-01-01</td>\n",
       "      <td>New Year Day</td>\n",
       "    </tr>\n",
       "    <tr>\n",
       "      <th>3</th>\n",
       "      <td>2015-01-01 00:00:11</td>\n",
       "      <td>40.7403</td>\n",
       "      <td>-73.9905</td>\n",
       "      <td>B02617</td>\n",
       "      <td>234</td>\n",
       "      <td>Manhattan</td>\n",
       "      <td>Union Sq</td>\n",
       "      <td>2015-01-01</td>\n",
       "      <td>New Year Day</td>\n",
       "    </tr>\n",
       "    <tr>\n",
       "      <th>4</th>\n",
       "      <td>2015-01-01 00:00:13</td>\n",
       "      <td>40.7147</td>\n",
       "      <td>-73.9830</td>\n",
       "      <td>B02764</td>\n",
       "      <td>232</td>\n",
       "      <td>Manhattan</td>\n",
       "      <td>Two Bridges/Seward Park</td>\n",
       "      <td>2015-01-01</td>\n",
       "      <td>New Year Day</td>\n",
       "    </tr>\n",
       "  </tbody>\n",
       "</table>\n",
       "</div>"
      ],
      "text/plain": [
       "              datetime      lat      lon    base  locationID    borough  \\\n",
       "0  2015-01-01 00:00:05  40.7188 -73.9574  B02764         255   Brooklyn   \n",
       "1  2015-01-01 00:00:05  40.7209 -73.9969  B02598         144  Manhattan   \n",
       "2  2015-01-01 00:00:08  40.7326 -73.9943  B02682         113  Manhattan   \n",
       "3  2015-01-01 00:00:11  40.7403 -73.9905  B02617         234  Manhattan   \n",
       "4  2015-01-01 00:00:13  40.7147 -73.9830  B02764         232  Manhattan   \n",
       "\n",
       "                        zone        date       holiday  \n",
       "0  Williamsburg (North Side)  2015-01-01  New Year Day  \n",
       "1        Little Italy/NoLiTa  2015-01-01  New Year Day  \n",
       "2    Greenwich Village North  2015-01-01  New Year Day  \n",
       "3                   Union Sq  2015-01-01  New Year Day  \n",
       "4    Two Bridges/Seward Park  2015-01-01  New Year Day  "
      ]
     },
     "execution_count": 14,
     "metadata": {},
     "output_type": "execute_result"
    }
   ],
   "source": [
    "df2015hdays.head()"
   ]
  },
  {
   "cell_type": "code",
   "execution_count": 18,
   "metadata": {},
   "outputs": [],
   "source": [
    "df2015hdays = df2015hdays.dropna()"
   ]
  },
  {
   "cell_type": "code",
   "execution_count": null,
   "metadata": {},
   "outputs": [],
   "source": []
  }
 ],
 "metadata": {
  "interpreter": {
   "hash": "2d7ccb4b5c020a4df5cfce875b609042dc6346d21303e55a4c832687eb6a85dd"
  },
  "kernelspec": {
   "display_name": "Python 3.8.12 ('AppliedMachineLearning')",
   "language": "python",
   "name": "python3"
  },
  "language_info": {
   "codemirror_mode": {
    "name": "ipython",
    "version": 3
   },
   "file_extension": ".py",
   "mimetype": "text/x-python",
   "name": "python",
   "nbconvert_exporter": "python",
   "pygments_lexer": "ipython3",
   "version": "3.8.12"
  },
  "orig_nbformat": 4
 },
 "nbformat": 4,
 "nbformat_minor": 2
}
