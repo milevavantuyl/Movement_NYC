{
 "cells": [
  {
   "cell_type": "code",
   "execution_count": 77,
   "metadata": {},
   "outputs": [],
   "source": [
    "import numpy as np\n",
    "import pandas as pd \n",
    "import os \n",
    "import seaborn as sns\n",
    "import matplotlib.pyplot as plt\n",
    "pd.options.mode.chained_assignment = None "
   ]
  },
  {
   "cell_type": "code",
   "execution_count": 58,
   "metadata": {},
   "outputs": [],
   "source": [
    "os.chdir('C:/Users/rodri/Desktop/NCFS2/DistComp/proj2')"
   ]
  },
  {
   "cell_type": "code",
   "execution_count": 59,
   "metadata": {},
   "outputs": [],
   "source": [
    "csv_file = \"./uber_2015_processed.csv\"\n",
    "df2015= pd.read_csv(csv_file,sep=',')"
   ]
  },
  {
   "cell_type": "code",
   "execution_count": 60,
   "metadata": {},
   "outputs": [
    {
     "data": {
      "text/html": [
       "<div>\n",
       "<style scoped>\n",
       "    .dataframe tbody tr th:only-of-type {\n",
       "        vertical-align: middle;\n",
       "    }\n",
       "\n",
       "    .dataframe tbody tr th {\n",
       "        vertical-align: top;\n",
       "    }\n",
       "\n",
       "    .dataframe thead th {\n",
       "        text-align: right;\n",
       "    }\n",
       "</style>\n",
       "<table border=\"1\" class=\"dataframe\">\n",
       "  <thead>\n",
       "    <tr style=\"text-align: right;\">\n",
       "      <th></th>\n",
       "      <th>datetime</th>\n",
       "      <th>lat</th>\n",
       "      <th>lon</th>\n",
       "      <th>base</th>\n",
       "      <th>locationID</th>\n",
       "      <th>borough</th>\n",
       "      <th>zone</th>\n",
       "    </tr>\n",
       "  </thead>\n",
       "  <tbody>\n",
       "    <tr>\n",
       "      <th>0</th>\n",
       "      <td>2015-01-01 00:00:05</td>\n",
       "      <td>40.7188</td>\n",
       "      <td>-73.9574</td>\n",
       "      <td>B02764</td>\n",
       "      <td>255</td>\n",
       "      <td>Brooklyn</td>\n",
       "      <td>Williamsburg (North Side)</td>\n",
       "    </tr>\n",
       "    <tr>\n",
       "      <th>1</th>\n",
       "      <td>2015-01-01 00:00:05</td>\n",
       "      <td>40.7209</td>\n",
       "      <td>-73.9969</td>\n",
       "      <td>B02598</td>\n",
       "      <td>144</td>\n",
       "      <td>Manhattan</td>\n",
       "      <td>Little Italy/NoLiTa</td>\n",
       "    </tr>\n",
       "    <tr>\n",
       "      <th>2</th>\n",
       "      <td>2015-01-01 00:00:08</td>\n",
       "      <td>40.7326</td>\n",
       "      <td>-73.9943</td>\n",
       "      <td>B02682</td>\n",
       "      <td>113</td>\n",
       "      <td>Manhattan</td>\n",
       "      <td>Greenwich Village North</td>\n",
       "    </tr>\n",
       "    <tr>\n",
       "      <th>3</th>\n",
       "      <td>2015-01-01 00:00:11</td>\n",
       "      <td>40.7403</td>\n",
       "      <td>-73.9905</td>\n",
       "      <td>B02617</td>\n",
       "      <td>234</td>\n",
       "      <td>Manhattan</td>\n",
       "      <td>Union Sq</td>\n",
       "    </tr>\n",
       "    <tr>\n",
       "      <th>4</th>\n",
       "      <td>2015-01-01 00:00:13</td>\n",
       "      <td>40.7147</td>\n",
       "      <td>-73.9830</td>\n",
       "      <td>B02764</td>\n",
       "      <td>232</td>\n",
       "      <td>Manhattan</td>\n",
       "      <td>Two Bridges/Seward Park</td>\n",
       "    </tr>\n",
       "  </tbody>\n",
       "</table>\n",
       "</div>"
      ],
      "text/plain": [
       "              datetime      lat      lon    base  locationID    borough  \\\n",
       "0  2015-01-01 00:00:05  40.7188 -73.9574  B02764         255   Brooklyn   \n",
       "1  2015-01-01 00:00:05  40.7209 -73.9969  B02598         144  Manhattan   \n",
       "2  2015-01-01 00:00:08  40.7326 -73.9943  B02682         113  Manhattan   \n",
       "3  2015-01-01 00:00:11  40.7403 -73.9905  B02617         234  Manhattan   \n",
       "4  2015-01-01 00:00:13  40.7147 -73.9830  B02764         232  Manhattan   \n",
       "\n",
       "                        zone  \n",
       "0  Williamsburg (North Side)  \n",
       "1        Little Italy/NoLiTa  \n",
       "2    Greenwich Village North  \n",
       "3                   Union Sq  \n",
       "4    Two Bridges/Seward Park  "
      ]
     },
     "execution_count": 60,
     "metadata": {},
     "output_type": "execute_result"
    }
   ],
   "source": [
    "df2015.head()"
   ]
  },
  {
   "cell_type": "markdown",
   "metadata": {},
   "source": [
    "creating date column"
   ]
  },
  {
   "cell_type": "code",
   "execution_count": 61,
   "metadata": {},
   "outputs": [],
   "source": [
    "df2015['date']=pd.to_datetime(df2015['datetime']).dt.date\n"
   ]
  },
  {
   "cell_type": "code",
   "execution_count": 62,
   "metadata": {},
   "outputs": [],
   "source": [
    "csv_file = \"./US Bank holidays\"\n",
    "hdays = pd.read_csv(csv_file,sep=',')"
   ]
  },
  {
   "cell_type": "code",
   "execution_count": 63,
   "metadata": {},
   "outputs": [],
   "source": [
    "hdays = hdays.drop(['id'],axis=1)"
   ]
  },
  {
   "cell_type": "markdown",
   "metadata": {},
   "source": [
    "Getting holidays for 2014 and 2015 will change in final version"
   ]
  },
  {
   "cell_type": "code",
   "execution_count": 64,
   "metadata": {},
   "outputs": [],
   "source": [
    "hdays_2014 = hdays[(hdays['date'] >= '2014-01-01') & (hdays['date'] <= '2014-12-31')]\n",
    "hdays_2015 = hdays[(hdays['date'] >= '2015-01-01') & (hdays['date'] <= '2015-12-31')]"
   ]
  },
  {
   "cell_type": "code",
   "execution_count": 65,
   "metadata": {},
   "outputs": [],
   "source": [
    "hdays_2015['date'] = hdays_2015['date'].astype(str).str.strip()"
   ]
  },
  {
   "cell_type": "code",
   "execution_count": 66,
   "metadata": {},
   "outputs": [],
   "source": [
    "df2015['date'] = df2015['date'].astype(str).str.strip()"
   ]
  },
  {
   "cell_type": "code",
   "execution_count": 90,
   "metadata": {},
   "outputs": [],
   "source": [
    "df2015[\"count\"] = 1"
   ]
  },
  {
   "cell_type": "code",
   "execution_count": 67,
   "metadata": {},
   "outputs": [],
   "source": [
    "df2015hdays = df2015.merge(hdays_2015,left_on='date',right_on='date',how='left')\n",
    "df2015hdays.head()"
   ]
  },
  {
   "cell_type": "code",
   "execution_count": 97,
   "metadata": {},
   "outputs": [],
   "source": [
    "df2015[\"datetime\"] = pd.to_datetime(df2015[\"datetime\"])"
   ]
  },
  {
   "cell_type": "code",
   "execution_count": 69,
   "metadata": {},
   "outputs": [],
   "source": [
    "df2015hdays = df2015hdays.drop(['date'],axis=1)"
   ]
  },
  {
   "cell_type": "code",
   "execution_count": 70,
   "metadata": {},
   "outputs": [],
   "source": [
    "df2015hdays = df2015hdays.dropna()"
   ]
  },
  {
   "cell_type": "code",
   "execution_count": 79,
   "metadata": {},
   "outputs": [
    {
     "data": {
      "text/html": [
       "<div>\n",
       "<style scoped>\n",
       "    .dataframe tbody tr th:only-of-type {\n",
       "        vertical-align: middle;\n",
       "    }\n",
       "\n",
       "    .dataframe tbody tr th {\n",
       "        vertical-align: top;\n",
       "    }\n",
       "\n",
       "    .dataframe thead th {\n",
       "        text-align: right;\n",
       "    }\n",
       "</style>\n",
       "<table border=\"1\" class=\"dataframe\">\n",
       "  <thead>\n",
       "    <tr style=\"text-align: right;\">\n",
       "      <th></th>\n",
       "      <th>datetime</th>\n",
       "      <th>lat</th>\n",
       "      <th>lon</th>\n",
       "      <th>base</th>\n",
       "      <th>locationID</th>\n",
       "      <th>borough</th>\n",
       "      <th>zone</th>\n",
       "      <th>holiday</th>\n",
       "      <th>count</th>\n",
       "    </tr>\n",
       "  </thead>\n",
       "  <tbody>\n",
       "    <tr>\n",
       "      <th>0</th>\n",
       "      <td>2015-01-01 00:00:05</td>\n",
       "      <td>40.7188</td>\n",
       "      <td>-73.9574</td>\n",
       "      <td>B02764</td>\n",
       "      <td>255</td>\n",
       "      <td>Brooklyn</td>\n",
       "      <td>Williamsburg (North Side)</td>\n",
       "      <td>New Year Day</td>\n",
       "      <td>1</td>\n",
       "    </tr>\n",
       "    <tr>\n",
       "      <th>1</th>\n",
       "      <td>2015-01-01 00:00:05</td>\n",
       "      <td>40.7209</td>\n",
       "      <td>-73.9969</td>\n",
       "      <td>B02598</td>\n",
       "      <td>144</td>\n",
       "      <td>Manhattan</td>\n",
       "      <td>Little Italy/NoLiTa</td>\n",
       "      <td>New Year Day</td>\n",
       "      <td>1</td>\n",
       "    </tr>\n",
       "    <tr>\n",
       "      <th>2</th>\n",
       "      <td>2015-01-01 00:00:08</td>\n",
       "      <td>40.7326</td>\n",
       "      <td>-73.9943</td>\n",
       "      <td>B02682</td>\n",
       "      <td>113</td>\n",
       "      <td>Manhattan</td>\n",
       "      <td>Greenwich Village North</td>\n",
       "      <td>New Year Day</td>\n",
       "      <td>1</td>\n",
       "    </tr>\n",
       "    <tr>\n",
       "      <th>3</th>\n",
       "      <td>2015-01-01 00:00:11</td>\n",
       "      <td>40.7403</td>\n",
       "      <td>-73.9905</td>\n",
       "      <td>B02617</td>\n",
       "      <td>234</td>\n",
       "      <td>Manhattan</td>\n",
       "      <td>Union Sq</td>\n",
       "      <td>New Year Day</td>\n",
       "      <td>1</td>\n",
       "    </tr>\n",
       "    <tr>\n",
       "      <th>4</th>\n",
       "      <td>2015-01-01 00:00:13</td>\n",
       "      <td>40.7147</td>\n",
       "      <td>-73.9830</td>\n",
       "      <td>B02764</td>\n",
       "      <td>232</td>\n",
       "      <td>Manhattan</td>\n",
       "      <td>Two Bridges/Seward Park</td>\n",
       "      <td>New Year Day</td>\n",
       "      <td>1</td>\n",
       "    </tr>\n",
       "  </tbody>\n",
       "</table>\n",
       "</div>"
      ],
      "text/plain": [
       "             datetime      lat      lon    base  locationID    borough  \\\n",
       "0 2015-01-01 00:00:05  40.7188 -73.9574  B02764         255   Brooklyn   \n",
       "1 2015-01-01 00:00:05  40.7209 -73.9969  B02598         144  Manhattan   \n",
       "2 2015-01-01 00:00:08  40.7326 -73.9943  B02682         113  Manhattan   \n",
       "3 2015-01-01 00:00:11  40.7403 -73.9905  B02617         234  Manhattan   \n",
       "4 2015-01-01 00:00:13  40.7147 -73.9830  B02764         232  Manhattan   \n",
       "\n",
       "                        zone       holiday  count  \n",
       "0  Williamsburg (North Side)  New Year Day      1  \n",
       "1        Little Italy/NoLiTa  New Year Day      1  \n",
       "2    Greenwich Village North  New Year Day      1  \n",
       "3                   Union Sq  New Year Day      1  \n",
       "4    Two Bridges/Seward Park  New Year Day      1  "
      ]
     },
     "execution_count": 79,
     "metadata": {},
     "output_type": "execute_result"
    }
   ],
   "source": [
    "df2015hdays[\"datetime\"] = pd.to_datetime(df2015hdays[\"datetime\"])\n",
    "df2015hdays.head()"
   ]
  },
  {
   "cell_type": "markdown",
   "metadata": {},
   "source": [
    "Looking at New Year's Day traveling working off of Melanie's time series plots"
   ]
  },
  {
   "cell_type": "code",
   "execution_count": 82,
   "metadata": {},
   "outputs": [
    {
     "data": {
      "text/html": [
       "<div>\n",
       "<style scoped>\n",
       "    .dataframe tbody tr th:only-of-type {\n",
       "        vertical-align: middle;\n",
       "    }\n",
       "\n",
       "    .dataframe tbody tr th {\n",
       "        vertical-align: top;\n",
       "    }\n",
       "\n",
       "    .dataframe thead th {\n",
       "        text-align: right;\n",
       "    }\n",
       "</style>\n",
       "<table border=\"1\" class=\"dataframe\">\n",
       "  <thead>\n",
       "    <tr style=\"text-align: right;\">\n",
       "      <th></th>\n",
       "      <th>datetime</th>\n",
       "      <th>lat</th>\n",
       "      <th>lon</th>\n",
       "      <th>base</th>\n",
       "      <th>locationID</th>\n",
       "      <th>borough</th>\n",
       "      <th>zone</th>\n",
       "      <th>holiday</th>\n",
       "      <th>count</th>\n",
       "    </tr>\n",
       "  </thead>\n",
       "  <tbody>\n",
       "    <tr>\n",
       "      <th>0</th>\n",
       "      <td>2015-01-01 00:00:05</td>\n",
       "      <td>40.7188</td>\n",
       "      <td>-73.9574</td>\n",
       "      <td>B02764</td>\n",
       "      <td>255</td>\n",
       "      <td>Brooklyn</td>\n",
       "      <td>Williamsburg (North Side)</td>\n",
       "      <td>New Year Day</td>\n",
       "      <td>1</td>\n",
       "    </tr>\n",
       "    <tr>\n",
       "      <th>1</th>\n",
       "      <td>2015-01-01 00:00:05</td>\n",
       "      <td>40.7209</td>\n",
       "      <td>-73.9969</td>\n",
       "      <td>B02598</td>\n",
       "      <td>144</td>\n",
       "      <td>Manhattan</td>\n",
       "      <td>Little Italy/NoLiTa</td>\n",
       "      <td>New Year Day</td>\n",
       "      <td>1</td>\n",
       "    </tr>\n",
       "    <tr>\n",
       "      <th>2</th>\n",
       "      <td>2015-01-01 00:00:08</td>\n",
       "      <td>40.7326</td>\n",
       "      <td>-73.9943</td>\n",
       "      <td>B02682</td>\n",
       "      <td>113</td>\n",
       "      <td>Manhattan</td>\n",
       "      <td>Greenwich Village North</td>\n",
       "      <td>New Year Day</td>\n",
       "      <td>1</td>\n",
       "    </tr>\n",
       "    <tr>\n",
       "      <th>3</th>\n",
       "      <td>2015-01-01 00:00:11</td>\n",
       "      <td>40.7403</td>\n",
       "      <td>-73.9905</td>\n",
       "      <td>B02617</td>\n",
       "      <td>234</td>\n",
       "      <td>Manhattan</td>\n",
       "      <td>Union Sq</td>\n",
       "      <td>New Year Day</td>\n",
       "      <td>1</td>\n",
       "    </tr>\n",
       "    <tr>\n",
       "      <th>4</th>\n",
       "      <td>2015-01-01 00:00:13</td>\n",
       "      <td>40.7147</td>\n",
       "      <td>-73.9830</td>\n",
       "      <td>B02764</td>\n",
       "      <td>232</td>\n",
       "      <td>Manhattan</td>\n",
       "      <td>Two Bridges/Seward Park</td>\n",
       "      <td>New Year Day</td>\n",
       "      <td>1</td>\n",
       "    </tr>\n",
       "  </tbody>\n",
       "</table>\n",
       "</div>"
      ],
      "text/plain": [
       "             datetime      lat      lon    base  locationID    borough  \\\n",
       "0 2015-01-01 00:00:05  40.7188 -73.9574  B02764         255   Brooklyn   \n",
       "1 2015-01-01 00:00:05  40.7209 -73.9969  B02598         144  Manhattan   \n",
       "2 2015-01-01 00:00:08  40.7326 -73.9943  B02682         113  Manhattan   \n",
       "3 2015-01-01 00:00:11  40.7403 -73.9905  B02617         234  Manhattan   \n",
       "4 2015-01-01 00:00:13  40.7147 -73.9830  B02764         232  Manhattan   \n",
       "\n",
       "                        zone       holiday  count  \n",
       "0  Williamsburg (North Side)  New Year Day      1  \n",
       "1        Little Italy/NoLiTa  New Year Day      1  \n",
       "2    Greenwich Village North  New Year Day      1  \n",
       "3                   Union Sq  New Year Day      1  \n",
       "4    Two Bridges/Seward Park  New Year Day      1  "
      ]
     },
     "execution_count": 82,
     "metadata": {},
     "output_type": "execute_result"
    }
   ],
   "source": [
    "newyear = df2015hdays[df2015hdays['holiday']=='New Year Day']\n",
    "newyear.head()"
   ]
  },
  {
   "cell_type": "code",
   "execution_count": 83,
   "metadata": {},
   "outputs": [
    {
     "data": {
      "text/html": [
       "<div>\n",
       "<style scoped>\n",
       "    .dataframe tbody tr th:only-of-type {\n",
       "        vertical-align: middle;\n",
       "    }\n",
       "\n",
       "    .dataframe tbody tr th {\n",
       "        vertical-align: top;\n",
       "    }\n",
       "\n",
       "    .dataframe thead th {\n",
       "        text-align: right;\n",
       "    }\n",
       "</style>\n",
       "<table border=\"1\" class=\"dataframe\">\n",
       "  <thead>\n",
       "    <tr style=\"text-align: right;\">\n",
       "      <th></th>\n",
       "      <th>count</th>\n",
       "    </tr>\n",
       "    <tr>\n",
       "      <th>datetime</th>\n",
       "      <th></th>\n",
       "    </tr>\n",
       "  </thead>\n",
       "  <tbody>\n",
       "    <tr>\n",
       "      <th>0</th>\n",
       "      <td>6166</td>\n",
       "    </tr>\n",
       "    <tr>\n",
       "      <th>1</th>\n",
       "      <td>5742</td>\n",
       "    </tr>\n",
       "    <tr>\n",
       "      <th>2</th>\n",
       "      <td>6841</td>\n",
       "    </tr>\n",
       "    <tr>\n",
       "      <th>3</th>\n",
       "      <td>5619</td>\n",
       "    </tr>\n",
       "    <tr>\n",
       "      <th>4</th>\n",
       "      <td>3375</td>\n",
       "    </tr>\n",
       "  </tbody>\n",
       "</table>\n",
       "</div>"
      ],
      "text/plain": [
       "          count\n",
       "datetime       \n",
       "0          6166\n",
       "1          5742\n",
       "2          6841\n",
       "3          5619\n",
       "4          3375"
      ]
     },
     "execution_count": 83,
     "metadata": {},
     "output_type": "execute_result"
    }
   ],
   "source": [
    "total_per_hour = newyear[[\"datetime\", \"count\"]].groupby([newyear[\"datetime\"].dt.hour]).sum()\n",
    "total_per_hour.head()"
   ]
  },
  {
   "cell_type": "code",
   "execution_count": 84,
   "metadata": {},
   "outputs": [],
   "source": [
    "average_per_hour = total_per_hour\n",
    "average_per_hour[\"count\"] = average_per_hour[\"count\"] / 31"
   ]
  },
  {
   "cell_type": "code",
   "execution_count": 85,
   "metadata": {},
   "outputs": [
    {
     "data": {
      "image/png": "[encoded data removed]",
      "text/plain": [
       "<Figure size 432x288 with 1 Axes>"
      ]
     },
     "metadata": {
      "needs_background": "light"
     },
     "output_type": "display_data"
    }
   ],
   "source": [
    "sns.scatterplot(data=average_per_hour, x = \"datetime\", y = \"count\")\n",
    "plt.show()"
   ]
  },
  {
   "cell_type": "markdown",
   "metadata": {},
   "source": [
    "Looking at 1/2/15"
   ]
  },
  {
   "cell_type": "code",
   "execution_count": 120,
   "metadata": {},
   "outputs": [],
   "source": [
    "dayafterNY = df2015[(df2015['date'] >= '2015-01-02') & (df2015['date'] < '2015-01-03')]"
   ]
  },
  {
   "cell_type": "code",
   "execution_count": 121,
   "metadata": {},
   "outputs": [
    {
     "data": {
      "text/html": [
       "<div>\n",
       "<style scoped>\n",
       "    .dataframe tbody tr th:only-of-type {\n",
       "        vertical-align: middle;\n",
       "    }\n",
       "\n",
       "    .dataframe tbody tr th {\n",
       "        vertical-align: top;\n",
       "    }\n",
       "\n",
       "    .dataframe thead th {\n",
       "        text-align: right;\n",
       "    }\n",
       "</style>\n",
       "<table border=\"1\" class=\"dataframe\">\n",
       "  <thead>\n",
       "    <tr style=\"text-align: right;\">\n",
       "      <th></th>\n",
       "      <th>datetime</th>\n",
       "      <th>lat</th>\n",
       "      <th>lon</th>\n",
       "      <th>base</th>\n",
       "      <th>locationID</th>\n",
       "      <th>borough</th>\n",
       "      <th>zone</th>\n",
       "      <th>date</th>\n",
       "      <th>count</th>\n",
       "    </tr>\n",
       "  </thead>\n",
       "  <tbody>\n",
       "    <tr>\n",
       "      <th>58049</th>\n",
       "      <td>2015-01-02 00:00:04</td>\n",
       "      <td>40.7744</td>\n",
       "      <td>-73.8736</td>\n",
       "      <td>B02764</td>\n",
       "      <td>138</td>\n",
       "      <td>Queens</td>\n",
       "      <td>LaGuardia Airport</td>\n",
       "      <td>2015-01-02</td>\n",
       "      <td>1</td>\n",
       "    </tr>\n",
       "    <tr>\n",
       "      <th>58050</th>\n",
       "      <td>2015-01-02 00:00:04</td>\n",
       "      <td>40.7009</td>\n",
       "      <td>-73.9712</td>\n",
       "      <td>B02617</td>\n",
       "      <td>34</td>\n",
       "      <td>Brooklyn</td>\n",
       "      <td>Brooklyn Navy Yard</td>\n",
       "      <td>2015-01-02</td>\n",
       "      <td>1</td>\n",
       "    </tr>\n",
       "    <tr>\n",
       "      <th>58051</th>\n",
       "      <td>2015-01-02 00:00:07</td>\n",
       "      <td>40.7120</td>\n",
       "      <td>-74.0161</td>\n",
       "      <td>B02682</td>\n",
       "      <td>13</td>\n",
       "      <td>Manhattan</td>\n",
       "      <td>Battery Park City</td>\n",
       "      <td>2015-01-02</td>\n",
       "      <td>1</td>\n",
       "    </tr>\n",
       "    <tr>\n",
       "      <th>58052</th>\n",
       "      <td>2015-01-02 00:00:07</td>\n",
       "      <td>40.7189</td>\n",
       "      <td>-73.9909</td>\n",
       "      <td>B02617</td>\n",
       "      <td>148</td>\n",
       "      <td>Manhattan</td>\n",
       "      <td>Lower East Side</td>\n",
       "      <td>2015-01-02</td>\n",
       "      <td>1</td>\n",
       "    </tr>\n",
       "    <tr>\n",
       "      <th>58053</th>\n",
       "      <td>2015-01-02 00:00:08</td>\n",
       "      <td>40.7744</td>\n",
       "      <td>-73.8736</td>\n",
       "      <td>B02617</td>\n",
       "      <td>138</td>\n",
       "      <td>Queens</td>\n",
       "      <td>LaGuardia Airport</td>\n",
       "      <td>2015-01-02</td>\n",
       "      <td>1</td>\n",
       "    </tr>\n",
       "  </tbody>\n",
       "</table>\n",
       "</div>"
      ],
      "text/plain": [
       "                 datetime      lat      lon    base  locationID    borough  \\\n",
       "58049 2015-01-02 00:00:04  40.7744 -73.8736  B02764         138     Queens   \n",
       "58050 2015-01-02 00:00:04  40.7009 -73.9712  B02617          34   Brooklyn   \n",
       "58051 2015-01-02 00:00:07  40.7120 -74.0161  B02682          13  Manhattan   \n",
       "58052 2015-01-02 00:00:07  40.7189 -73.9909  B02617         148  Manhattan   \n",
       "58053 2015-01-02 00:00:08  40.7744 -73.8736  B02617         138     Queens   \n",
       "\n",
       "                     zone        date  count  \n",
       "58049   LaGuardia Airport  2015-01-02      1  \n",
       "58050  Brooklyn Navy Yard  2015-01-02      1  \n",
       "58051   Battery Park City  2015-01-02      1  \n",
       "58052     Lower East Side  2015-01-02      1  \n",
       "58053   LaGuardia Airport  2015-01-02      1  "
      ]
     },
     "execution_count": 121,
     "metadata": {},
     "output_type": "execute_result"
    }
   ],
   "source": [
    "dayafterNY.head()"
   ]
  },
  {
   "cell_type": "code",
   "execution_count": 124,
   "metadata": {},
   "outputs": [
    {
     "data": {
      "text/plain": [
       "<AxesSubplot:xlabel='datetime', ylabel='count'>"
      ]
     },
     "execution_count": 124,
     "metadata": {},
     "output_type": "execute_result"
    },
    {
     "data": {
      "image/png": "[encoded data removed]",
      "text/plain": [
       "<Figure size 432x288 with 1 Axes>"
      ]
     },
     "metadata": {
      "needs_background": "light"
     },
     "output_type": "display_data"
    }
   ],
   "source": [
    "total_per_hour = dayafterNY[[\"datetime\", \"count\"]].groupby([dayafterNY[\"datetime\"].dt.hour]).sum()\n",
    "average_per_hour = total_per_hour\n",
    "average_per_hour[\"count\"] = average_per_hour[\"count\"] / 31\n",
    "sns.scatterplot(data=average_per_hour, x = \"datetime\", y = \"count\")"
   ]
  },
  {
   "cell_type": "markdown",
   "metadata": {},
   "source": [
    "confirming with two days after"
   ]
  },
  {
   "cell_type": "code",
   "execution_count": 127,
   "metadata": {},
   "outputs": [],
   "source": [
    "twodayafterNY = df2015[(df2015['date'] >= '2015-01-03') & (df2015['date'] < '2015-01-04')]"
   ]
  },
  {
   "cell_type": "code",
   "execution_count": 128,
   "metadata": {},
   "outputs": [
    {
     "data": {
      "text/plain": [
       "<AxesSubplot:xlabel='datetime', ylabel='count'>"
      ]
     },
     "execution_count": 128,
     "metadata": {},
     "output_type": "execute_result"
    },
    {
     "data": {
      "image/png": "[encoded data removed]",
      "text/plain": [
       "<Figure size 432x288 with 1 Axes>"
      ]
     },
     "metadata": {
      "needs_background": "light"
     },
     "output_type": "display_data"
    }
   ],
   "source": [
    "total_per_hour = twodayafterNY[[\"datetime\", \"count\"]].groupby([twodayafterNY[\"datetime\"].dt.hour]).sum()\n",
    "average_per_hour = total_per_hour\n",
    "average_per_hour[\"count\"] = average_per_hour[\"count\"] / 31\n",
    "sns.scatterplot(data=average_per_hour, x = \"datetime\", y = \"count\")"
   ]
  },
  {
   "cell_type": "markdown",
   "metadata": {},
   "source": [
    "Going to add Days before also so we get a range. This is just a tester."
   ]
  },
  {
   "cell_type": "markdown",
   "metadata": {},
   "source": []
  }
 ],
 "metadata": {
  "interpreter": {
   "hash": "2d7ccb4b5c020a4df5cfce875b609042dc6346d21303e55a4c832687eb6a85dd"
  },
  "kernelspec": {
   "display_name": "Python 3.8.12 ('AppliedMachineLearning')",
   "language": "python",
   "name": "python3"
  },
  "language_info": {
   "codemirror_mode": {
    "name": "ipython",
    "version": 3
   },
   "file_extension": ".py",
   "mimetype": "text/x-python",
   "name": "python",
   "nbconvert_exporter": "python",
   "pygments_lexer": "ipython3",
   "version": "3.8.12"
  },
  "orig_nbformat": 4
 },
 "nbformat": 4,
 "nbformat_minor": 2
}
