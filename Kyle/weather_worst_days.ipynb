{
 "cells": [
  {
   "cell_type": "code",
   "execution_count": 1,
   "metadata": {},
   "outputs": [],
   "source": [
    "import numpy as np\n",
    "import pandas as pd \n",
    "import os \n",
    "import seaborn as sns\n",
    "import matplotlib.pyplot as plt\n",
    "pd.options.mode.chained_assignment = None "
   ]
  },
  {
   "cell_type": "code",
   "execution_count": 2,
   "metadata": {},
   "outputs": [],
   "source": [
    "os.chdir('C:/Users/rodri/Desktop/NCFS2/DistComp/proj2')"
   ]
  },
  {
   "cell_type": "code",
   "execution_count": 7,
   "metadata": {},
   "outputs": [],
   "source": [
    "csv_file = \"./weather_data_worst_days.csv\"\n",
    "weather= pd.read_csv(csv_file,sep=',')"
   ]
  },
  {
   "cell_type": "code",
   "execution_count": 8,
   "metadata": {},
   "outputs": [
    {
     "data": {
      "text/html": [
       "<div>\n",
       "<style scoped>\n",
       "    .dataframe tbody tr th:only-of-type {\n",
       "        vertical-align: middle;\n",
       "    }\n",
       "\n",
       "    .dataframe tbody tr th {\n",
       "        vertical-align: top;\n",
       "    }\n",
       "\n",
       "    .dataframe thead th {\n",
       "        text-align: right;\n",
       "    }\n",
       "</style>\n",
       "<table border=\"1\" class=\"dataframe\">\n",
       "  <thead>\n",
       "    <tr style=\"text-align: right;\">\n",
       "      <th></th>\n",
       "      <th>Unnamed: 0</th>\n",
       "      <th>date</th>\n",
       "      <th>hot</th>\n",
       "      <th>cold</th>\n",
       "      <th>is_raining</th>\n",
       "      <th>temp</th>\n",
       "      <th>rhum</th>\n",
       "      <th>wspd</th>\n",
       "      <th>prcp</th>\n",
       "      <th>heat_index</th>\n",
       "      <th>wind_chill</th>\n",
       "    </tr>\n",
       "  </thead>\n",
       "  <tbody>\n",
       "    <tr>\n",
       "      <th>0</th>\n",
       "      <td>78</td>\n",
       "      <td>6/18/2014</td>\n",
       "      <td>9</td>\n",
       "      <td>0</td>\n",
       "      <td>0</td>\n",
       "      <td>80.5040</td>\n",
       "      <td>60.400000</td>\n",
       "      <td>28.227894</td>\n",
       "      <td>0.0</td>\n",
       "      <td>80.772809</td>\n",
       "      <td>80.504000</td>\n",
       "    </tr>\n",
       "    <tr>\n",
       "      <th>1</th>\n",
       "      <td>321</td>\n",
       "      <td>2/16/2015</td>\n",
       "      <td>0</td>\n",
       "      <td>24</td>\n",
       "      <td>0</td>\n",
       "      <td>9.3755</td>\n",
       "      <td>41.075000</td>\n",
       "      <td>46.071495</td>\n",
       "      <td>0.0</td>\n",
       "      <td>9.375500</td>\n",
       "      <td>-16.884073</td>\n",
       "    </tr>\n",
       "    <tr>\n",
       "      <th>2</th>\n",
       "      <td>252</td>\n",
       "      <td>12/9/2014</td>\n",
       "      <td>0</td>\n",
       "      <td>13</td>\n",
       "      <td>16</td>\n",
       "      <td>38.7500</td>\n",
       "      <td>86.008333</td>\n",
       "      <td>45.341926</td>\n",
       "      <td>2.2</td>\n",
       "      <td>38.750000</td>\n",
       "      <td>24.690589</td>\n",
       "    </tr>\n",
       "  </tbody>\n",
       "</table>\n",
       "</div>"
      ],
      "text/plain": [
       "   Unnamed: 0       date  hot  cold  is_raining     temp       rhum  \\\n",
       "0          78  6/18/2014    9     0           0  80.5040  60.400000   \n",
       "1         321  2/16/2015    0    24           0   9.3755  41.075000   \n",
       "2         252  12/9/2014    0    13          16  38.7500  86.008333   \n",
       "\n",
       "        wspd  prcp  heat_index  wind_chill  \n",
       "0  28.227894   0.0   80.772809   80.504000  \n",
       "1  46.071495   0.0    9.375500  -16.884073  \n",
       "2  45.341926   2.2   38.750000   24.690589  "
      ]
     },
     "execution_count": 8,
     "metadata": {},
     "output_type": "execute_result"
    }
   ],
   "source": [
    "weather"
   ]
  },
  {
   "cell_type": "code",
   "execution_count": 9,
   "metadata": {},
   "outputs": [],
   "source": [
    "csv_file = \"./uber_all_processed.csv\"\n",
    "df= pd.read_csv(csv_file,sep=',')"
   ]
  },
  {
   "cell_type": "code",
   "execution_count": 14,
   "metadata": {},
   "outputs": [],
   "source": [
    "df['date']=pd.to_datetime(df['datetime'])\n",
    "df[\"count\"] = 1"
   ]
  },
  {
   "cell_type": "code",
   "execution_count": 19,
   "metadata": {},
   "outputs": [],
   "source": [
    "df['date']= df['date'].astype(str)\n",
    "df[\"datetime\"] = pd.to_datetime(df[\"datetime\"])"
   ]
  },
  {
   "cell_type": "code",
   "execution_count": 20,
   "metadata": {},
   "outputs": [
    {
     "data": {
      "text/plain": [
       "datetime      datetime64[ns]\n",
       "lat                  float64\n",
       "lon                  float64\n",
       "base                  object\n",
       "locationID             int64\n",
       "borough               object\n",
       "zone                  object\n",
       "date                  object\n",
       "count                  int64\n",
       "dtype: object"
      ]
     },
     "execution_count": 20,
     "metadata": {},
     "output_type": "execute_result"
    }
   ],
   "source": [
    "df.dtypes"
   ]
  },
  {
   "cell_type": "markdown",
   "metadata": {},
   "source": [
    "# Cold Day"
   ]
  },
  {
   "cell_type": "code",
   "execution_count": 21,
   "metadata": {},
   "outputs": [
    {
     "data": {
      "text/plain": [
       "<AxesSubplot:xlabel='datetime', ylabel='count'>"
      ]
     },
     "execution_count": 21,
     "metadata": {},
     "output_type": "execute_result"
    },
    {
     "data": {
      "image/png": "[encoded data removed]",
      "text/plain": [
       "<Figure size 432x288 with 1 Axes>"
      ]
     },
     "metadata": {
      "needs_background": "light"
     },
     "output_type": "display_data"
    }
   ],
   "source": [
    "coldDay = df[(df['date'] >= '2015-02-16') & (df['date'] < '2015-02-17')]\n",
    "total_per_hour = coldDay[[\"datetime\", \"count\"]].groupby([coldDay[\"datetime\"].dt.hour]).sum()\n",
    "average_per_hour = total_per_hour\n",
    "average_per_hour[\"count\"] = average_per_hour[\"count\"] / 31\n",
    "sns.scatterplot(data=average_per_hour, x = \"datetime\", y = \"count\")"
   ]
  },
  {
   "cell_type": "markdown",
   "metadata": {},
   "source": [
    "our sharp peak around rush hour is gone. "
   ]
  },
  {
   "cell_type": "code",
   "execution_count": 25,
   "metadata": {},
   "outputs": [
    {
     "data": {
      "text/plain": [
       "<AxesSubplot:xlabel='datetime', ylabel='count'>"
      ]
     },
     "execution_count": 25,
     "metadata": {},
     "output_type": "execute_result"
    },
    {
     "data": {
      "image/png": "[encoded data removed]",
      "text/plain": [
       "<Figure size 432x288 with 1 Axes>"
      ]
     },
     "metadata": {
      "needs_background": "light"
     },
     "output_type": "display_data"
    }
   ],
   "source": [
    "coldDayp = df[(df['date'] >= '2015-02-17') & (df['date'] < '2015-02-18')]\n",
    "total_per_hour = coldDayp[[\"datetime\", \"count\"]].groupby([coldDayp[\"datetime\"].dt.hour]).sum()\n",
    "average_per_hour = total_per_hour\n",
    "average_per_hour[\"count\"] = average_per_hour[\"count\"] / 31\n",
    "sns.scatterplot(data=average_per_hour, x = \"datetime\", y = \"count\")"
   ]
  },
  {
   "cell_type": "markdown",
   "metadata": {},
   "source": [
    "Above we see our pattern BUT it is at a much higher scale! turns out it was snowing that morning!"
   ]
  },
  {
   "cell_type": "code",
   "execution_count": 26,
   "metadata": {},
   "outputs": [
    {
     "data": {
      "text/plain": [
       "<AxesSubplot:xlabel='datetime', ylabel='count'>"
      ]
     },
     "execution_count": 26,
     "metadata": {},
     "output_type": "execute_result"
    },
    {
     "data": {
      "image/png": "[encoded data removed]",
      "text/plain": [
       "<Figure size 432x288 with 1 Axes>"
      ]
     },
     "metadata": {
      "needs_background": "light"
     },
     "output_type": "display_data"
    }
   ],
   "source": [
    "coldDaypp = df[(df['date'] >= '2015-02-18') & (df['date'] < '2015-02-19')]\n",
    "total_per_hour = coldDaypp[[\"datetime\", \"count\"]].groupby([coldDaypp[\"datetime\"].dt.hour]).sum()\n",
    "average_per_hour = total_per_hour\n",
    "average_per_hour[\"count\"] = average_per_hour[\"count\"] / 31\n",
    "sns.scatterplot(data=average_per_hour, x = \"datetime\", y = \"count\")"
   ]
  },
  {
   "cell_type": "markdown",
   "metadata": {},
   "source": [
    "We can see that now our pattern is back to normal"
   ]
  },
  {
   "cell_type": "markdown",
   "metadata": {},
   "source": [
    "# Hot Day"
   ]
  },
  {
   "cell_type": "code",
   "execution_count": 27,
   "metadata": {},
   "outputs": [
    {
     "data": {
      "text/plain": [
       "<AxesSubplot:xlabel='datetime', ylabel='count'>"
      ]
     },
     "execution_count": 27,
     "metadata": {},
     "output_type": "execute_result"
    },
    {
     "data": {
      "image/png": "[encoded data removed]",
      "text/plain": [
       "<Figure size 432x288 with 1 Axes>"
      ]
     },
     "metadata": {
      "needs_background": "light"
     },
     "output_type": "display_data"
    }
   ],
   "source": [
    "hotDay = df[(df['date'] >= '2014-06-18') & (df['date'] < '2014-06-19')]\n",
    "total_per_hour = hotDay[[\"datetime\", \"count\"]].groupby([hotDay[\"datetime\"].dt.hour]).sum()\n",
    "average_per_hour = total_per_hour\n",
    "average_per_hour[\"count\"] = average_per_hour[\"count\"] / 31\n",
    "sns.scatterplot(data=average_per_hour, x = \"datetime\", y = \"count\")"
   ]
  },
  {
   "cell_type": "code",
   "execution_count": 29,
   "metadata": {},
   "outputs": [
    {
     "data": {
      "text/plain": [
       "<AxesSubplot:xlabel='datetime', ylabel='count'>"
      ]
     },
     "execution_count": 29,
     "metadata": {},
     "output_type": "execute_result"
    },
    {
     "data": {
      "image/png": "[encoded data removed]",
      "text/plain": [
       "<Figure size 432x288 with 1 Axes>"
      ]
     },
     "metadata": {
      "needs_background": "light"
     },
     "output_type": "display_data"
    }
   ],
   "source": [
    "hotDayp = df[(df['date'] >= '2014-06-19') & (df['date'] < '2014-06-20')]\n",
    "total_per_hour = hotDayp[[\"datetime\", \"count\"]].groupby([hotDayp[\"datetime\"].dt.hour]).sum()\n",
    "average_per_hour = total_per_hour\n",
    "average_per_hour[\"count\"] = average_per_hour[\"count\"] / 31\n",
    "sns.scatterplot(data=average_per_hour, x = \"datetime\", y = \"count\")"
   ]
  },
  {
   "cell_type": "markdown",
   "metadata": {},
   "source": [
    "No real change from normal even though it was a significantly cooler day  (88 on the 18th vs 75 on the 19th)"
   ]
  },
  {
   "cell_type": "markdown",
   "metadata": {},
   "source": []
  }
 ],
 "metadata": {
  "interpreter": {
   "hash": "2d7ccb4b5c020a4df5cfce875b609042dc6346d21303e55a4c832687eb6a85dd"
  },
  "kernelspec": {
   "display_name": "Python 3.8.12 ('AppliedMachineLearning')",
   "language": "python",
   "name": "python3"
  },
  "language_info": {
   "codemirror_mode": {
    "name": "ipython",
    "version": 3
   },
   "file_extension": ".py",
   "mimetype": "text/x-python",
   "name": "python",
   "nbconvert_exporter": "python",
   "pygments_lexer": "ipython3",
   "version": "3.8.12"
  },
  "orig_nbformat": 4
 },
 "nbformat": 4,
 "nbformat_minor": 2
}
