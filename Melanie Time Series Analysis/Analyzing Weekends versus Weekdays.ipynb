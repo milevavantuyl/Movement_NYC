{
 "cells": [
  {
   "cell_type": "markdown",
   "id": "a9731542",
   "metadata": {},
   "source": [
    "# Introduction\n",
    "In this notebook, I will be doing similar analysis to the Time Series Analysis notebook: however, in this one, I will be analyzing how the traffic data changes depending on the day of the week, particularly for weekends versus weekdays."
   ]
  },
  {
   "cell_type": "code",
   "execution_count": 1,
   "id": "17cdb8b9",
   "metadata": {},
   "outputs": [],
   "source": [
    "from pyspark.sql import SparkSession, SQLContext\n",
    "from pyspark.ml.regression import LinearRegression\n",
    "from pyspark.ml.linalg import Vectors\n",
    "import pandas as pd\n",
    "import pyspark.sql.types as T\n",
    "import pyspark\n",
    "from scipy import stats\n",
    "import numpy as np\n",
    "import pyspark.sql.functions as F\n",
    "from pyspark.sql.window import Window\n",
    "import seaborn as sns\n",
    "import glob\n",
    "import os\n",
    "import matplotlib.pyplot as plt\n",
    "%matplotlib inline"
   ]
  },
  {
   "cell_type": "code",
   "execution_count": 2,
   "id": "7fb77a71",
   "metadata": {},
   "outputs": [],
   "source": [
    "plt.rcParams[\"axes.titlesize\"] = 40\n",
    "plt.rcParams[\"axes.labelsize\"] = 15"
   ]
  },
  {
   "cell_type": "markdown",
   "id": "9b5038f1",
   "metadata": {},
   "source": [
    "# Part 1: Reading in the Data"
   ]
  },
  {
   "cell_type": "code",
   "execution_count": 3,
   "id": "76e1d198",
   "metadata": {},
   "outputs": [
    {
     "data": {
      "text/plain": [
       "['../data/uber/uber-trip-data/uber-raw-data-jun14.csv',\n",
       " '../data/uber/uber-trip-data/uber-raw-data-may14.csv',\n",
       " '../data/uber/uber-trip-data/taxi-zone-lookup.csv',\n",
       " '../data/uber/uber-trip-data/uber-raw-data-jul14.csv',\n",
       " '../data/uber/uber-trip-data/uber-raw-data-sep14.csv',\n",
       " '../data/uber/uber-trip-data/uber-raw-data-apr14.csv',\n",
       " '../data/uber/uber-trip-data/uber-raw-data-aug14.csv']"
      ]
     },
     "execution_count": 3,
     "metadata": {},
     "output_type": "execute_result"
    }
   ],
   "source": [
    "data_dir = \"../data/uber/uber-trip-data/\"\n",
    "uber_files = glob.glob(data_dir + '*.csv') \n",
    "uber_files"
   ]
  },
  {
   "cell_type": "code",
   "execution_count": 4,
   "id": "f224e639",
   "metadata": {},
   "outputs": [],
   "source": [
    "uber_files.remove('../data/uber/uber-trip-data/taxi-zone-lookup.csv')"
   ]
  },
  {
   "cell_type": "code",
   "execution_count": 5,
   "id": "ba23520b",
   "metadata": {},
   "outputs": [
    {
     "name": "stderr",
     "output_type": "stream",
     "text": [
      "22/05/09 13:21:28 WARN Utils: Your hostname, DSGPU05 resolves to a loopback address: 127.0.1.1; using 10.10.11.64 instead (on interface eno1)\n",
      "22/05/09 13:21:28 WARN Utils: Set SPARK_LOCAL_IP if you need to bind to another address\n",
      "Using Spark's default log4j profile: org/apache/spark/log4j-defaults.properties\n",
      "Setting default log level to \"WARN\".\n",
      "To adjust logging level use sc.setLogLevel(newLevel). For SparkR, use setLogLevel(newLevel).\n",
      "22/05/09 13:21:30 WARN NativeCodeLoader: Unable to load native-hadoop library for your platform... using builtin-java classes where applicable\n",
      "22/05/09 13:21:33 WARN Utils: Service 'SparkUI' could not bind on port 4040. Attempting port 4041.\n"
     ]
    }
   ],
   "source": [
    "spark = SparkSession.builder \\\n",
    "    .master(\"local\") \\\n",
    "    .appName(\"Word Count\") \\\n",
    "    .config(\"spark.some.config.option\", \"some-value\") \\\n",
    "    .getOrCreate()"
   ]
  },
  {
   "cell_type": "code",
   "execution_count": 6,
   "id": "3234e618",
   "metadata": {},
   "outputs": [
    {
     "name": "stderr",
     "output_type": "stream",
     "text": [
      "                                                                                \r"
     ]
    }
   ],
   "source": [
    "df = spark.read.csv(uber_files, header=True)"
   ]
  },
  {
   "cell_type": "code",
   "execution_count": 7,
   "id": "d1b2a334",
   "metadata": {},
   "outputs": [
    {
     "name": "stdout",
     "output_type": "stream",
     "text": [
      "+----------------+-------+--------+------+\n",
      "|       Date/Time|    Lat|     Lon|  Base|\n",
      "+----------------+-------+--------+------+\n",
      "|9/1/2014 0:01:00|40.2201|-74.0021|B02512|\n",
      "|9/1/2014 0:01:00|  40.75|-74.0027|B02512|\n",
      "|9/1/2014 0:03:00|40.7559|-73.9864|B02512|\n",
      "|9/1/2014 0:06:00| 40.745|-73.9889|B02512|\n",
      "|9/1/2014 0:11:00|40.8145|-73.9444|B02512|\n",
      "|9/1/2014 0:12:00|40.6735|-73.9918|B02512|\n",
      "|9/1/2014 0:15:00|40.7471|-73.6472|B02512|\n",
      "|9/1/2014 0:16:00|40.6613|-74.2691|B02512|\n",
      "|9/1/2014 0:32:00|40.3745|-73.9999|B02512|\n",
      "|9/1/2014 0:33:00|40.7633|-73.9773|B02512|\n",
      "|9/1/2014 0:33:00|40.7467|-73.6131|B02512|\n",
      "|9/1/2014 0:37:00|40.8105|  -73.96|B02512|\n",
      "|9/1/2014 0:38:00| 40.679|-74.0111|B02512|\n",
      "|9/1/2014 0:39:00|40.4023|-73.9839|B02512|\n",
      "|9/1/2014 0:48:00|40.7378|-74.0395|B02512|\n",
      "|9/1/2014 0:48:00|40.7214|-73.9884|B02512|\n",
      "|9/1/2014 0:49:00|40.8646|-73.9081|B02512|\n",
      "|9/1/2014 1:08:00|40.7398|-74.0061|B02512|\n",
      "|9/1/2014 1:17:00|40.6793|-74.0116|B02512|\n",
      "|9/1/2014 1:19:00|40.7328|-73.9875|B02512|\n",
      "+----------------+-------+--------+------+\n",
      "only showing top 20 rows\n",
      "\n"
     ]
    }
   ],
   "source": [
    "df.show()"
   ]
  },
  {
   "cell_type": "code",
   "execution_count": 8,
   "id": "48c706f8",
   "metadata": {},
   "outputs": [],
   "source": [
    "df = df.withColumn(\"Date/Time\", F.to_timestamp(F.col(\"Date/Time\"), \"M/d/yyyy H:mm:ss\"))"
   ]
  },
  {
   "cell_type": "markdown",
   "id": "69c74911",
   "metadata": {},
   "source": [
    "# Part 2: Adding Columns for Day of Weeks and Count\n",
    "In order to analyze this, I need to create new variables depending on the weekday and count each ride as one variable.\n",
    "In PySpark, each day of the week is stored as an integer between 1 and 7, 1 is Sunday and 7 is Saturday.\n",
    "Each new ride is a count of 1, for aggregating I will sum this."
   ]
  },
  {
   "cell_type": "code",
   "execution_count": 9,
   "id": "f0b6b595",
   "metadata": {},
   "outputs": [
    {
     "name": "stdout",
     "output_type": "stream",
     "text": [
      "+-------------------+-------+--------+------+---------+\n",
      "|          Date/Time|    Lat|     Lon|  Base|DayOfWeek|\n",
      "+-------------------+-------+--------+------+---------+\n",
      "|2014-09-01 00:01:00|40.2201|-74.0021|B02512|        2|\n",
      "|2014-09-01 00:01:00|  40.75|-74.0027|B02512|        2|\n",
      "|2014-09-01 00:03:00|40.7559|-73.9864|B02512|        2|\n",
      "|2014-09-01 00:06:00| 40.745|-73.9889|B02512|        2|\n",
      "|2014-09-01 00:11:00|40.8145|-73.9444|B02512|        2|\n",
      "|2014-09-01 00:12:00|40.6735|-73.9918|B02512|        2|\n",
      "|2014-09-01 00:15:00|40.7471|-73.6472|B02512|        2|\n",
      "|2014-09-01 00:16:00|40.6613|-74.2691|B02512|        2|\n",
      "|2014-09-01 00:32:00|40.3745|-73.9999|B02512|        2|\n",
      "|2014-09-01 00:33:00|40.7633|-73.9773|B02512|        2|\n",
      "|2014-09-01 00:33:00|40.7467|-73.6131|B02512|        2|\n",
      "|2014-09-01 00:37:00|40.8105|  -73.96|B02512|        2|\n",
      "|2014-09-01 00:38:00| 40.679|-74.0111|B02512|        2|\n",
      "|2014-09-01 00:39:00|40.4023|-73.9839|B02512|        2|\n",
      "|2014-09-01 00:48:00|40.7378|-74.0395|B02512|        2|\n",
      "|2014-09-01 00:48:00|40.7214|-73.9884|B02512|        2|\n",
      "|2014-09-01 00:49:00|40.8646|-73.9081|B02512|        2|\n",
      "|2014-09-01 01:08:00|40.7398|-74.0061|B02512|        2|\n",
      "|2014-09-01 01:17:00|40.6793|-74.0116|B02512|        2|\n",
      "|2014-09-01 01:19:00|40.7328|-73.9875|B02512|        2|\n",
      "+-------------------+-------+--------+------+---------+\n",
      "only showing top 20 rows\n",
      "\n"
     ]
    }
   ],
   "source": [
    "df = df.withColumn(\"DayOfWeek\", F.dayofweek(F.col(\"Date/Time\")))\n",
    "df.show()"
   ]
  },
  {
   "cell_type": "code",
   "execution_count": 10,
   "id": "c4b2ec18",
   "metadata": {},
   "outputs": [
    {
     "name": "stdout",
     "output_type": "stream",
     "text": [
      "+-------------------+-------+--------+------+---------+-------+\n",
      "|          Date/Time|    Lat|     Lon|  Base|DayOfWeek|Weekend|\n",
      "+-------------------+-------+--------+------+---------+-------+\n",
      "|2014-09-01 00:01:00|40.2201|-74.0021|B02512|        2|Weekday|\n",
      "|2014-09-01 00:01:00|  40.75|-74.0027|B02512|        2|Weekday|\n",
      "|2014-09-01 00:03:00|40.7559|-73.9864|B02512|        2|Weekday|\n",
      "|2014-09-01 00:06:00| 40.745|-73.9889|B02512|        2|Weekday|\n",
      "|2014-09-01 00:11:00|40.8145|-73.9444|B02512|        2|Weekday|\n",
      "|2014-09-01 00:12:00|40.6735|-73.9918|B02512|        2|Weekday|\n",
      "|2014-09-01 00:15:00|40.7471|-73.6472|B02512|        2|Weekday|\n",
      "|2014-09-01 00:16:00|40.6613|-74.2691|B02512|        2|Weekday|\n",
      "|2014-09-01 00:32:00|40.3745|-73.9999|B02512|        2|Weekday|\n",
      "|2014-09-01 00:33:00|40.7633|-73.9773|B02512|        2|Weekday|\n",
      "|2014-09-01 00:33:00|40.7467|-73.6131|B02512|        2|Weekday|\n",
      "|2014-09-01 00:37:00|40.8105|  -73.96|B02512|        2|Weekday|\n",
      "|2014-09-01 00:38:00| 40.679|-74.0111|B02512|        2|Weekday|\n",
      "|2014-09-01 00:39:00|40.4023|-73.9839|B02512|        2|Weekday|\n",
      "|2014-09-01 00:48:00|40.7378|-74.0395|B02512|        2|Weekday|\n",
      "|2014-09-01 00:48:00|40.7214|-73.9884|B02512|        2|Weekday|\n",
      "|2014-09-01 00:49:00|40.8646|-73.9081|B02512|        2|Weekday|\n",
      "|2014-09-01 01:08:00|40.7398|-74.0061|B02512|        2|Weekday|\n",
      "|2014-09-01 01:17:00|40.6793|-74.0116|B02512|        2|Weekday|\n",
      "|2014-09-01 01:19:00|40.7328|-73.9875|B02512|        2|Weekday|\n",
      "+-------------------+-------+--------+------+---------+-------+\n",
      "only showing top 20 rows\n",
      "\n"
     ]
    }
   ],
   "source": [
    "df = df.withColumn(\"Weekend\", F.when( (df[\"DayOfWeek\"] == 7) | (df[\"DayOfWeek\"]==1), \"Weekend\").otherwise(\"Weekday\"))\n",
    "df.show()"
   ]
  },
  {
   "cell_type": "code",
   "execution_count": 11,
   "id": "b70bde93",
   "metadata": {},
   "outputs": [
    {
     "name": "stdout",
     "output_type": "stream",
     "text": [
      "+-------------------+-------+--------+------+---------+-------+-----+\n",
      "|          Date/Time|    Lat|     Lon|  Base|DayOfWeek|Weekend|Count|\n",
      "+-------------------+-------+--------+------+---------+-------+-----+\n",
      "|2014-09-01 00:01:00|40.2201|-74.0021|B02512|        2|Weekday|    1|\n",
      "|2014-09-01 00:01:00|  40.75|-74.0027|B02512|        2|Weekday|    1|\n",
      "|2014-09-01 00:03:00|40.7559|-73.9864|B02512|        2|Weekday|    1|\n",
      "|2014-09-01 00:06:00| 40.745|-73.9889|B02512|        2|Weekday|    1|\n",
      "|2014-09-01 00:11:00|40.8145|-73.9444|B02512|        2|Weekday|    1|\n",
      "|2014-09-01 00:12:00|40.6735|-73.9918|B02512|        2|Weekday|    1|\n",
      "|2014-09-01 00:15:00|40.7471|-73.6472|B02512|        2|Weekday|    1|\n",
      "|2014-09-01 00:16:00|40.6613|-74.2691|B02512|        2|Weekday|    1|\n",
      "|2014-09-01 00:32:00|40.3745|-73.9999|B02512|        2|Weekday|    1|\n",
      "|2014-09-01 00:33:00|40.7633|-73.9773|B02512|        2|Weekday|    1|\n",
      "|2014-09-01 00:33:00|40.7467|-73.6131|B02512|        2|Weekday|    1|\n",
      "|2014-09-01 00:37:00|40.8105|  -73.96|B02512|        2|Weekday|    1|\n",
      "|2014-09-01 00:38:00| 40.679|-74.0111|B02512|        2|Weekday|    1|\n",
      "|2014-09-01 00:39:00|40.4023|-73.9839|B02512|        2|Weekday|    1|\n",
      "|2014-09-01 00:48:00|40.7378|-74.0395|B02512|        2|Weekday|    1|\n",
      "|2014-09-01 00:48:00|40.7214|-73.9884|B02512|        2|Weekday|    1|\n",
      "|2014-09-01 00:49:00|40.8646|-73.9081|B02512|        2|Weekday|    1|\n",
      "|2014-09-01 01:08:00|40.7398|-74.0061|B02512|        2|Weekday|    1|\n",
      "|2014-09-01 01:17:00|40.6793|-74.0116|B02512|        2|Weekday|    1|\n",
      "|2014-09-01 01:19:00|40.7328|-73.9875|B02512|        2|Weekday|    1|\n",
      "+-------------------+-------+--------+------+---------+-------+-----+\n",
      "only showing top 20 rows\n",
      "\n"
     ]
    }
   ],
   "source": [
    "df = df.withColumn(\"Count\", F.lit(1))\n",
    "df.show()"
   ]
  },
  {
   "cell_type": "code",
   "execution_count": 12,
   "id": "2727c4bc",
   "metadata": {},
   "outputs": [
    {
     "name": "stdout",
     "output_type": "stream",
     "text": [
      "+-------------------+-------+--------+------+---------+-------+-----+\n",
      "|          Date/Time|    Lat|     Lon|  Base|DayOfWeek|Weekend|Count|\n",
      "+-------------------+-------+--------+------+---------+-------+-----+\n",
      "|2014-09-06 00:00:00|40.7619|-73.9654|B02512|        7|Weekend|    1|\n",
      "|2014-09-06 00:00:00|40.7273|-73.9921|B02512|        7|Weekend|    1|\n",
      "|2014-09-06 00:00:00|40.7385|-73.9898|B02512|        7|Weekend|    1|\n",
      "|2014-09-06 00:01:00| 40.732|-74.0009|B02512|        7|Weekend|    1|\n",
      "|2014-09-06 00:01:00|40.7395|-73.9928|B02512|        7|Weekend|    1|\n",
      "|2014-09-06 00:02:00| 40.741|-74.0075|B02512|        7|Weekend|    1|\n",
      "|2014-09-06 00:02:00| 40.741|-74.0075|B02512|        7|Weekend|    1|\n",
      "|2014-09-06 00:03:00|40.7228|-73.9937|B02512|        7|Weekend|    1|\n",
      "|2014-09-06 00:03:00|40.7501|-73.9838|B02512|        7|Weekend|    1|\n",
      "|2014-09-06 00:03:00|40.7482|-74.0042|B02512|        7|Weekend|    1|\n",
      "|2014-09-06 00:04:00|40.7072|-74.0017|B02512|        7|Weekend|    1|\n",
      "|2014-09-06 00:05:00|40.7402|-74.0054|B02512|        7|Weekend|    1|\n",
      "|2014-09-06 00:06:00|40.7269|-73.9892|B02512|        7|Weekend|    1|\n",
      "|2014-09-06 00:06:00|40.7638|-73.9741|B02512|        7|Weekend|    1|\n",
      "|2014-09-06 00:06:00|40.8121|-73.9499|B02512|        7|Weekend|    1|\n",
      "|2014-09-06 00:06:00|40.7602|-73.9877|B02512|        7|Weekend|    1|\n",
      "|2014-09-06 00:10:00|40.7745|-73.9637|B02512|        7|Weekend|    1|\n",
      "|2014-09-06 00:12:00|40.7232|-73.9828|B02512|        7|Weekend|    1|\n",
      "|2014-09-06 00:12:00|40.7572|-73.9677|B02512|        7|Weekend|    1|\n",
      "|2014-09-06 00:13:00|40.7456|-73.9937|B02512|        7|Weekend|    1|\n",
      "+-------------------+-------+--------+------+---------+-------+-----+\n",
      "only showing top 20 rows\n",
      "\n"
     ]
    },
    {
     "name": "stderr",
     "output_type": "stream",
     "text": [
      "                                                                                \r"
     ]
    }
   ],
   "source": [
    "weekends = df.filter(F.col(\"Weekend\") == \"Weekend\")\n",
    "weekends.show()"
   ]
  },
  {
   "cell_type": "code",
   "execution_count": 13,
   "id": "e029e4d9",
   "metadata": {},
   "outputs": [
    {
     "name": "stdout",
     "output_type": "stream",
     "text": [
      "+-------------------+-------+--------+------+---------+-------+-----+\n",
      "|          Date/Time|    Lat|     Lon|  Base|DayOfWeek|Weekend|Count|\n",
      "+-------------------+-------+--------+------+---------+-------+-----+\n",
      "|2014-09-01 00:01:00|40.2201|-74.0021|B02512|        2|Weekday|    1|\n",
      "|2014-09-01 00:01:00|  40.75|-74.0027|B02512|        2|Weekday|    1|\n",
      "|2014-09-01 00:03:00|40.7559|-73.9864|B02512|        2|Weekday|    1|\n",
      "|2014-09-01 00:06:00| 40.745|-73.9889|B02512|        2|Weekday|    1|\n",
      "|2014-09-01 00:11:00|40.8145|-73.9444|B02512|        2|Weekday|    1|\n",
      "|2014-09-01 00:12:00|40.6735|-73.9918|B02512|        2|Weekday|    1|\n",
      "|2014-09-01 00:15:00|40.7471|-73.6472|B02512|        2|Weekday|    1|\n",
      "|2014-09-01 00:16:00|40.6613|-74.2691|B02512|        2|Weekday|    1|\n",
      "|2014-09-01 00:32:00|40.3745|-73.9999|B02512|        2|Weekday|    1|\n",
      "|2014-09-01 00:33:00|40.7633|-73.9773|B02512|        2|Weekday|    1|\n",
      "|2014-09-01 00:33:00|40.7467|-73.6131|B02512|        2|Weekday|    1|\n",
      "|2014-09-01 00:37:00|40.8105|  -73.96|B02512|        2|Weekday|    1|\n",
      "|2014-09-01 00:38:00| 40.679|-74.0111|B02512|        2|Weekday|    1|\n",
      "|2014-09-01 00:39:00|40.4023|-73.9839|B02512|        2|Weekday|    1|\n",
      "|2014-09-01 00:48:00|40.7378|-74.0395|B02512|        2|Weekday|    1|\n",
      "|2014-09-01 00:48:00|40.7214|-73.9884|B02512|        2|Weekday|    1|\n",
      "|2014-09-01 00:49:00|40.8646|-73.9081|B02512|        2|Weekday|    1|\n",
      "|2014-09-01 01:08:00|40.7398|-74.0061|B02512|        2|Weekday|    1|\n",
      "|2014-09-01 01:17:00|40.6793|-74.0116|B02512|        2|Weekday|    1|\n",
      "|2014-09-01 01:19:00|40.7328|-73.9875|B02512|        2|Weekday|    1|\n",
      "+-------------------+-------+--------+------+---------+-------+-----+\n",
      "only showing top 20 rows\n",
      "\n"
     ]
    }
   ],
   "source": [
    "weekdays = df.filter(F.col(\"Weekend\") == \"Weekday\")\n",
    "weekdays.show()"
   ]
  },
  {
   "cell_type": "markdown",
   "id": "5c2ed2a6",
   "metadata": {},
   "source": [
    "# Part 3: Comparing Weekends versus Weekdays by Hour\n",
    "For this section, I will be comparing weekends versus weekdays and looking at whether the most popular hours change depending on whether we are looking at weekdays or weekends."
   ]
  },
  {
   "cell_type": "code",
   "execution_count": 14,
   "id": "c555f4d6",
   "metadata": {},
   "outputs": [
    {
     "name": "stderr",
     "output_type": "stream",
     "text": [
      "[Stage 7:=============================>                             (1 + 1) / 2]\r"
     ]
    },
    {
     "name": "stdout",
     "output_type": "stream",
     "text": [
      "+-----------+---------------+\n",
      "|Time of Day|Number of Trips|\n",
      "+-----------+---------------+\n",
      "|         17|         336190|\n",
      "|         18|         324679|\n",
      "|         16|         313400|\n",
      "|         19|         294513|\n",
      "|         20|         284604|\n",
      "|         21|         281460|\n",
      "|         15|         275466|\n",
      "|         22|         241858|\n",
      "|         14|         230625|\n",
      "|         13|         195877|\n",
      "|          7|         193094|\n",
      "|          8|         190504|\n",
      "|         12|         170452|\n",
      "|         23|         169190|\n",
      "|         11|         165703|\n",
      "|          9|         159967|\n",
      "|         10|         159148|\n",
      "|          6|         143213|\n",
      "|          0|         103836|\n",
      "|          5|          83939|\n",
      "|          1|          67227|\n",
      "|          4|          55230|\n",
      "|          3|          48287|\n",
      "|          2|          45865|\n",
      "+-----------+---------------+\n",
      "\n"
     ]
    },
    {
     "name": "stderr",
     "output_type": "stream",
     "text": [
      "                                                                                \r"
     ]
    }
   ],
   "source": [
    "hourly = df.groupBy(F.hour(\"Date/Time\").alias(\"Time of Day\")).agg(F.sum(\"Count\").alias(\"Number of Trips\"))\n",
    "hourly.sort(F.col(\"Number of Trips\").desc()).show(24)"
   ]
  },
  {
   "cell_type": "markdown",
   "id": "d9405b51",
   "metadata": {},
   "source": [
    "Overall, the most popular time to take an Uber is 5pm, with the least popular time being 2am. People appear to be more likely to go places in the afternoon and evenings, less likely in the early morning.\n",
    "Note: this data may be skewed since there are many more weekdays than weekends."
   ]
  },
  {
   "cell_type": "code",
   "execution_count": 15,
   "id": "ff621a90",
   "metadata": {},
   "outputs": [
    {
     "name": "stderr",
     "output_type": "stream",
     "text": [
      "[Stage 10:=============================>                            (1 + 1) / 2]\r"
     ]
    },
    {
     "name": "stdout",
     "output_type": "stream",
     "text": [
      "+-----------+---------------+\n",
      "|Time of Day|Number of Trips|\n",
      "+-----------+---------------+\n",
      "|         16|          76550|\n",
      "|         17|          74365|\n",
      "|         18|          74174|\n",
      "|         15|          69881|\n",
      "|         21|          67793|\n",
      "|         22|          67517|\n",
      "|         19|          67046|\n",
      "|         20|          63790|\n",
      "|          0|          60510|\n",
      "|         14|          59569|\n",
      "|         23|          55340|\n",
      "|         13|          53053|\n",
      "|         12|          48209|\n",
      "|         11|          45574|\n",
      "|          1|          42204|\n",
      "|         10|          40435|\n",
      "|          9|          34070|\n",
      "|          2|          28146|\n",
      "|          8|          26539|\n",
      "|          3|          20139|\n",
      "|          7|          19742|\n",
      "|          6|          15175|\n",
      "|          5|          13253|\n",
      "|          4|          13220|\n",
      "+-----------+---------------+\n",
      "\n"
     ]
    },
    {
     "name": "stderr",
     "output_type": "stream",
     "text": [
      "                                                                                \r"
     ]
    }
   ],
   "source": [
    "hourly_weekends = weekends.groupBy(F.hour(\"Date/Time\").alias(\"Time of Day\")).agg(F.sum(\"Count\").alias(\"Number of Trips\"))\n",
    "hourly_weekends.sort(F.col(\"Number of Trips\").desc()).show(24)"
   ]
  },
  {
   "cell_type": "markdown",
   "id": "291b1dfc",
   "metadata": {},
   "source": [
    "From this table, we can see that on weekends, 4am appears to have the fewest number of trips, while 4pm appears to have the most trips. This makes sense since that people may not be awake that early on weekends. The most popular time for rides is 4pm, so people may be going home or going to new places at 4pm on weekends."
   ]
  },
  {
   "cell_type": "code",
   "execution_count": 16,
   "id": "5dab658f",
   "metadata": {},
   "outputs": [
    {
     "name": "stderr",
     "output_type": "stream",
     "text": [
      "[Stage 13:=============================>                            (1 + 1) / 2]\r"
     ]
    },
    {
     "name": "stdout",
     "output_type": "stream",
     "text": [
      "+-----------+---------------+\n",
      "|Time of Day|Number of Trips|\n",
      "+-----------+---------------+\n",
      "|         17|         261825|\n",
      "|         18|         250505|\n",
      "|         16|         236850|\n",
      "|         19|         227467|\n",
      "|         20|         220814|\n",
      "|         21|         213667|\n",
      "|         15|         205585|\n",
      "|         22|         174341|\n",
      "|          7|         173352|\n",
      "|         14|         171056|\n",
      "|          8|         163965|\n",
      "|         13|         142824|\n",
      "|          6|         128038|\n",
      "|          9|         125897|\n",
      "|         12|         122243|\n",
      "|         11|         120129|\n",
      "|         10|         118713|\n",
      "|         23|         113850|\n",
      "|          5|          70686|\n",
      "|          0|          43326|\n",
      "|          4|          42010|\n",
      "|          3|          28148|\n",
      "|          1|          25023|\n",
      "|          2|          17719|\n",
      "+-----------+---------------+\n",
      "\n"
     ]
    },
    {
     "name": "stderr",
     "output_type": "stream",
     "text": [
      "                                                                                \r"
     ]
    }
   ],
   "source": [
    "hourly_weekdays = weekdays.groupBy(F.hour(\"Date/Time\").alias(\"Time of Day\")).agg(F.sum(\"Count\").alias(\"Number of Trips\"))\n",
    "hourly_weekdays.sort(F.col(\"Number of Trips\").desc()).show(24)"
   ]
  },
  {
   "cell_type": "markdown",
   "id": "b4347184",
   "metadata": {},
   "source": [
    "On weekdays, the most popular time to go places is 5pm, which may correspond to people leaving work to go places at 5pm. However, 7 and 8am are not among the top 5 most popular times to take Ubers. It's possible that people leave work from Uber to go to new places, but commute to work in a different way."
   ]
  },
  {
   "cell_type": "code",
   "execution_count": 17,
   "id": "08e0bf28",
   "metadata": {},
   "outputs": [
    {
     "name": "stderr",
     "output_type": "stream",
     "text": [
      "                                                                                \r"
     ]
    },
    {
     "data": {
      "text/html": [
       "<div>\n",
       "<style scoped>\n",
       "    .dataframe tbody tr th:only-of-type {\n",
       "        vertical-align: middle;\n",
       "    }\n",
       "\n",
       "    .dataframe tbody tr th {\n",
       "        vertical-align: top;\n",
       "    }\n",
       "\n",
       "    .dataframe thead th {\n",
       "        text-align: right;\n",
       "    }\n",
       "</style>\n",
       "<table border=\"1\" class=\"dataframe\">\n",
       "  <thead>\n",
       "    <tr style=\"text-align: right;\">\n",
       "      <th></th>\n",
       "      <th>Time of Day</th>\n",
       "      <th>Number of Trips</th>\n",
       "      <th>Weekend</th>\n",
       "    </tr>\n",
       "  </thead>\n",
       "  <tbody>\n",
       "    <tr>\n",
       "      <th>19</th>\n",
       "      <td>11</td>\n",
       "      <td>45574</td>\n",
       "      <td>Weekend</td>\n",
       "    </tr>\n",
       "    <tr>\n",
       "      <th>22</th>\n",
       "      <td>0</td>\n",
       "      <td>60510</td>\n",
       "      <td>Weekend</td>\n",
       "    </tr>\n",
       "    <tr>\n",
       "      <th>3</th>\n",
       "      <td>13</td>\n",
       "      <td>53053</td>\n",
       "      <td>Weekend</td>\n",
       "    </tr>\n",
       "    <tr>\n",
       "      <th>12</th>\n",
       "      <td>17</td>\n",
       "      <td>261825</td>\n",
       "      <td>Weekday</td>\n",
       "    </tr>\n",
       "    <tr>\n",
       "      <th>20</th>\n",
       "      <td>14</td>\n",
       "      <td>171056</td>\n",
       "      <td>Weekday</td>\n",
       "    </tr>\n",
       "  </tbody>\n",
       "</table>\n",
       "</div>"
      ],
      "text/plain": [
       "    Time of Day  Number of Trips  Weekend\n",
       "19           11            45574  Weekend\n",
       "22            0            60510  Weekend\n",
       "3            13            53053  Weekend\n",
       "12           17           261825  Weekday\n",
       "20           14           171056  Weekday"
      ]
     },
     "execution_count": 17,
     "metadata": {},
     "output_type": "execute_result"
    }
   ],
   "source": [
    "hourly_weekends_df = hourly_weekends.toPandas()\n",
    "hourly_weekdays_df = hourly_weekdays.toPandas()\n",
    "hourly_weekends_df[\"Weekend\"] = \"Weekend\"\n",
    "hourly_weekdays_df[\"Weekend\"] = \"Weekday\"\n",
    "hourly_df = pd.concat([hourly_weekdays_df, hourly_weekends_df])\n",
    "hourly_df.sample(5)"
   ]
  },
  {
   "cell_type": "code",
   "execution_count": 18,
   "id": "4c80e7a1",
   "metadata": {},
   "outputs": [
    {
     "data": {
      "image/png": "[encoded data removed]",
      "text/plain": [
       "<Figure size 432x288 with 1 Axes>"
      ]
     },
     "metadata": {
      "needs_background": "light"
     },
     "output_type": "display_data"
    }
   ],
   "source": [
    "sns.boxplot(data=hourly_df, y = \"Number of Trips\", x = \"Weekend\", hue=\"Weekend\")\n",
    "plt.title(\"Number of Trips per Weekend\")\n",
    "plt.show()"
   ]
  },
  {
   "cell_type": "markdown",
   "id": "03b75741",
   "metadata": {},
   "source": [
    "Weekdays appears to be right skewed, meaning that the mean is larger than the median for weekdays. Therefore, there are more hours with low travel times, but a few outliers. Weekends appears to be roughly normally distributed. As predicted, there are significantly more total weekday trips than weekend trips."
   ]
  },
  {
   "cell_type": "code",
   "execution_count": 19,
   "id": "e9fd1871",
   "metadata": {},
   "outputs": [
    {
     "data": {
      "image/png": "[encoded data removed]",
      "text/plain": [
       "<Figure size 432x288 with 1 Axes>"
      ]
     },
     "metadata": {
      "needs_background": "light"
     },
     "output_type": "display_data"
    }
   ],
   "source": [
    "sns.scatterplot(data=hourly_weekdays_df, x = \"Time of Day\", y = \"Number of Trips\", hue=\"Weekend\")\n",
    "plt.title(\"Number of Trips\")\n",
    "plt.show()"
   ]
  },
  {
   "cell_type": "code",
   "execution_count": 20,
   "id": "ff78c97a",
   "metadata": {},
   "outputs": [
    {
     "data": {
      "image/png": "[encoded data removed]",
      "text/plain": [
       "<Figure size 432x288 with 1 Axes>"
      ]
     },
     "metadata": {
      "needs_background": "light"
     },
     "output_type": "display_data"
    }
   ],
   "source": [
    "sns.scatterplot(data=hourly_weekends_df, x = \"Time of Day\", y = \"Number of Trips\")\n",
    "plt.title(\"Number of Trips on Weekends\")\n",
    "plt.show()"
   ]
  },
  {
   "cell_type": "code",
   "execution_count": 21,
   "id": "6d35d016",
   "metadata": {},
   "outputs": [
    {
     "data": {
      "image/png": "[encoded data removed]",
      "text/plain": [
       "<Figure size 432x288 with 1 Axes>"
      ]
     },
     "metadata": {
      "needs_background": "light"
     },
     "output_type": "display_data"
    }
   ],
   "source": [
    "sns.scatterplot(data=hourly_df, x = \"Time of Day\", y = \"Number of Trips\", hue=\"Weekend\")\n",
    "plt.title(\"Number of Trips\")\n",
    "plt.show()"
   ]
  },
  {
   "cell_type": "markdown",
   "id": "16f40419",
   "metadata": {},
   "source": [
    "Looking at the plot with both weekends and weekdays, we can see a few major differences. For one thing, there are differences in the peaks. During weekends, there is a high peak at midnight and the early hours of the day. This may indicate going home from places such as bars on weekends, or generally late night partying. Generally, the peaks on weekends correspond to late night/early afternoon. Although weekdays also have peaks in the number of trips in the late afternoon, there is also a significantly higher number of trips between 6-9am, which may be people commuting to work. For both weekends and weekdays, traffic is highest between 4-6pm. There appears to be significantly higher numbers of people taking Ubers after work as opposed to before work."
   ]
  },
  {
   "cell_type": "code",
   "execution_count": 22,
   "id": "b368d831",
   "metadata": {},
   "outputs": [
    {
     "data": {
      "text/plain": [
       "Ttest_indResult(statistic=-5.888567978030476, pvalue=4.252739431747199e-07)"
      ]
     },
     "execution_count": 22,
     "metadata": {},
     "output_type": "execute_result"
    }
   ],
   "source": [
    "stats.ttest_ind(a = hourly_weekends_df[\"Number of Trips\"], b = hourly_weekdays_df[\"Number of Trips\"])"
   ]
  },
  {
   "cell_type": "markdown",
   "id": "9e7d56bd",
   "metadata": {},
   "source": [
    "The mean number of trips on weekends is significantly higher than the mean number of trips on weekdays."
   ]
  },
  {
   "cell_type": "markdown",
   "id": "7ef8a758",
   "metadata": {},
   "source": [
    "# Daily Differences Between Weekdays and Weekends\n",
    "The next thing that I am going to analyze is the difference between weekdays and weekends among the Uber data."
   ]
  },
  {
   "cell_type": "code",
   "execution_count": 23,
   "id": "06314a4a",
   "metadata": {},
   "outputs": [
    {
     "name": "stdout",
     "output_type": "stream",
     "text": [
      "+-------------------+-------+--------+------+---------+-------+-----+\n",
      "|          Date/Time|    Lat|     Lon|  Base|DayOfWeek|Weekend|Count|\n",
      "+-------------------+-------+--------+------+---------+-------+-----+\n",
      "|2014-09-01 00:00:00|40.2201|-74.0021|B02512|        2|Weekday|    1|\n",
      "|2014-09-01 00:00:00|  40.75|-74.0027|B02512|        2|Weekday|    1|\n",
      "|2014-09-01 00:00:00|40.7559|-73.9864|B02512|        2|Weekday|    1|\n",
      "|2014-09-01 00:00:00| 40.745|-73.9889|B02512|        2|Weekday|    1|\n",
      "|2014-09-01 00:00:00|40.8145|-73.9444|B02512|        2|Weekday|    1|\n",
      "|2014-09-01 00:00:00|40.6735|-73.9918|B02512|        2|Weekday|    1|\n",
      "|2014-09-01 00:00:00|40.7471|-73.6472|B02512|        2|Weekday|    1|\n",
      "|2014-09-01 00:00:00|40.6613|-74.2691|B02512|        2|Weekday|    1|\n",
      "|2014-09-01 00:00:00|40.3745|-73.9999|B02512|        2|Weekday|    1|\n",
      "|2014-09-01 00:00:00|40.7633|-73.9773|B02512|        2|Weekday|    1|\n",
      "|2014-09-01 00:00:00|40.7467|-73.6131|B02512|        2|Weekday|    1|\n",
      "|2014-09-01 00:00:00|40.8105|  -73.96|B02512|        2|Weekday|    1|\n",
      "|2014-09-01 00:00:00| 40.679|-74.0111|B02512|        2|Weekday|    1|\n",
      "|2014-09-01 00:00:00|40.4023|-73.9839|B02512|        2|Weekday|    1|\n",
      "|2014-09-01 00:00:00|40.7378|-74.0395|B02512|        2|Weekday|    1|\n",
      "|2014-09-01 00:00:00|40.7214|-73.9884|B02512|        2|Weekday|    1|\n",
      "|2014-09-01 00:00:00|40.8646|-73.9081|B02512|        2|Weekday|    1|\n",
      "|2014-09-01 00:00:00|40.7398|-74.0061|B02512|        2|Weekday|    1|\n",
      "|2014-09-01 00:00:00|40.6793|-74.0116|B02512|        2|Weekday|    1|\n",
      "|2014-09-01 00:00:00|40.7328|-73.9875|B02512|        2|Weekday|    1|\n",
      "+-------------------+-------+--------+------+---------+-------+-----+\n",
      "only showing top 20 rows\n",
      "\n"
     ]
    }
   ],
   "source": [
    "daily = df.withColumn(\"Date/Time\", F.date_trunc('dd', F.col('Date/Time')))\n",
    "daily.show()"
   ]
  },
  {
   "cell_type": "code",
   "execution_count": 24,
   "id": "fa10f23a",
   "metadata": {},
   "outputs": [
    {
     "name": "stderr",
     "output_type": "stream",
     "text": [
      "[Stage 23:=============================>                            (1 + 1) / 2]\r"
     ]
    },
    {
     "name": "stdout",
     "output_type": "stream",
     "text": [
      "+-------------------+-------+---------------+\n",
      "|                Day|Weekend|Number of Trips|\n",
      "+-------------------+-------+---------------+\n",
      "|2014-08-05 00:00:00|Weekday|          28094|\n",
      "|2014-09-12 00:00:00|Weekday|          39540|\n",
      "|2014-08-06 00:00:00|Weekday|          30495|\n",
      "|2014-08-25 00:00:00|Weekday|          22093|\n",
      "|2014-07-01 00:00:00|Weekday|          21228|\n",
      "|2014-09-05 00:00:00|Weekday|          42319|\n",
      "|2014-07-16 00:00:00|Weekday|          28607|\n",
      "|2014-09-03 00:00:00|Weekday|          32631|\n",
      "|2014-09-13 00:00:00|Weekend|          43205|\n",
      "|2014-08-13 00:00:00|Weekday|          29788|\n",
      "|2014-08-09 00:00:00|Weekend|          26286|\n",
      "|2014-08-17 00:00:00|Weekend|          21209|\n",
      "|2014-09-10 00:00:00|Weekday|          35910|\n",
      "|2014-07-30 00:00:00|Weekday|          30740|\n",
      "|2014-09-18 00:00:00|Weekday|          40274|\n",
      "|2014-09-08 00:00:00|Weekday|          30360|\n",
      "|2014-07-20 00:00:00|Weekend|          21212|\n",
      "|2014-07-24 00:00:00|Weekday|          32050|\n",
      "|2014-09-16 00:00:00|Weekday|          36092|\n",
      "|2014-09-11 00:00:00|Weekday|          36439|\n",
      "+-------------------+-------+---------------+\n",
      "only showing top 20 rows\n",
      "\n"
     ]
    },
    {
     "name": "stderr",
     "output_type": "stream",
     "text": [
      "                                                                                \r"
     ]
    }
   ],
   "source": [
    "daily = daily.groupBy(F.col(\"Date/Time\").alias(\"Day\"), F.col(\"Weekend\")).agg(F.sum(\"Count\").alias(\"Number of Trips\"))\n",
    "daily.show()"
   ]
  },
  {
   "cell_type": "code",
   "execution_count": null,
   "id": "057bee95",
   "metadata": {},
   "outputs": [],
   "source": []
  },
  {
   "cell_type": "code",
   "execution_count": null,
   "id": "f8d92ad3",
   "metadata": {},
   "outputs": [
    {
     "name": "stderr",
     "output_type": "stream",
     "text": [
      "[Stage 26:>                                                         (0 + 1) / 2]\r"
     ]
    }
   ],
   "source": [
    "daily_df = daily.toPandas()"
   ]
  },
  {
   "cell_type": "code",
   "execution_count": null,
   "id": "a2774f4b",
   "metadata": {},
   "outputs": [],
   "source": [
    "sns.lineplot(data=daily_df, x=\"Day\", y = \"Number of Trips\", hue=\"Weekend\")\n",
    "plt.title(\"Number of Trips per Day\")\n",
    "plt.show()"
   ]
  },
  {
   "cell_type": "code",
   "execution_count": null,
   "id": "2039eb32",
   "metadata": {},
   "outputs": [],
   "source": [
    "daily_weekends_df = daily_df[daily_df[\"Weekend\"] == \"Weekend\"]\n",
    "daily_weekends_df.head()"
   ]
  },
  {
   "cell_type": "code",
   "execution_count": null,
   "id": "54e3c7fe",
   "metadata": {},
   "outputs": [],
   "source": [
    "daily_weekdays_df = daily_df[daily_df[\"Weekend\"] == \"Weekday\"]\n",
    "daily_weekdays_df.head()"
   ]
  },
  {
   "cell_type": "code",
   "execution_count": null,
   "id": "6ade77e8",
   "metadata": {},
   "outputs": [],
   "source": [
    "y=np.array(daily_weekdays_df['Number of Trips'].dropna().values, dtype=float)\n",
    "x=np.array(pd.to_datetime(daily_weekdays_df['Day'].dropna()).index.values, dtype=float)\n",
    "slope, intercept, r_value, p_value, std_err =stats.linregress(x,y)\n",
    "xf = np.linspace(min(x),max(x),len(x))\n",
    "xf1 = xf.copy()\n",
    "xf1 = pd.to_datetime(xf1)\n",
    "yf = (slope*xf)+intercept\n",
    "print('r = ', r_value, '\\n', 'p = ', p_value, '\\n', 's = ', std_err)"
   ]
  },
  {
   "cell_type": "code",
   "execution_count": null,
   "id": "beb0e161",
   "metadata": {},
   "outputs": [],
   "source": [
    "(slope, intercept)"
   ]
  },
  {
   "cell_type": "code",
   "execution_count": null,
   "id": "8c002d85",
   "metadata": {},
   "outputs": [],
   "source": [
    "sns.lineplot(x=daily_weekdays_df[\"Day\"], y=yf, palette=\"viridian\")\n",
    "sns.lineplot(x=daily_weekdays_df[\"Day\"], y=daily_weekdays_df[\"Number of Trips\"])\n",
    "plt.show()"
   ]
  },
  {
   "cell_type": "markdown",
   "id": "a10723eb",
   "metadata": {},
   "source": [
    "We can expect that for every new weekday, there will be 65 more Uber rides."
   ]
  },
  {
   "cell_type": "code",
   "execution_count": null,
   "id": "69b68067",
   "metadata": {},
   "outputs": [],
   "source": [
    "y=np.array(daily_df['Number of Trips'].dropna().values, dtype=float)\n",
    "x=np.array(pd.to_datetime(daily_df['Day'].dropna()).index.values, dtype=float)\n",
    "slope, intercept, r_value, p_value, std_err =stats.linregress(x,y)\n",
    "xf = np.linspace(min(x),max(x),len(x))\n",
    "xf1 = xf.copy()\n",
    "xf1 = pd.to_datetime(xf1)\n",
    "yf = (slope*xf)+intercept\n",
    "print('r = ', r_value, '\\n', 'p = ', p_value, '\\n', 's = ', std_err)"
   ]
  },
  {
   "cell_type": "code",
   "execution_count": null,
   "id": "36df5162",
   "metadata": {},
   "outputs": [],
   "source": [
    "sns.lineplot(x=daily_df[\"Day\"], y=yf)\n",
    "sns.lineplot(x=daily_df[\"Day\"], y=daily_df[\"Number of Trips\"], palette=['r', 'g'])\n",
    "plt.show()"
   ]
  },
  {
   "cell_type": "code",
   "execution_count": null,
   "id": "163fd9fb",
   "metadata": {},
   "outputs": [],
   "source": []
  },
  {
   "cell_type": "code",
   "execution_count": null,
   "id": "4bb11506",
   "metadata": {},
   "outputs": [],
   "source": []
  }
 ],
 "metadata": {
  "kernelspec": {
   "display_name": "Python 3 (ipykernel)",
   "language": "python",
   "name": "python3"
  },
  "language_info": {
   "codemirror_mode": {
    "name": "ipython",
    "version": 3
   },
   "file_extension": ".py",
   "mimetype": "text/x-python",
   "name": "python",
   "nbconvert_exporter": "python",
   "pygments_lexer": "ipython3",
   "version": "3.8.6"
  }
 },
 "nbformat": 4,
 "nbformat_minor": 5
}
