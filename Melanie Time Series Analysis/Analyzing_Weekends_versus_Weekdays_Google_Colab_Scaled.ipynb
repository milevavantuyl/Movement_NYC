{
  "cells": [
    {
      "cell_type": "markdown",
      "metadata": {
        "id": "view-in-github",
        "colab_type": "text"
      },
      "source": [
        "<a href=\"https://colab.research.google.com/github/milevavantuyl/Movement_NYC/blob/main/Melanie%20Time%20Series%20Analysis/Analyzing_Weekends_versus_Weekdays_Google_Colab_Scaled.ipynb\" target=\"_parent\"><img src=\"https://colab.research.google.com/assets/colab-badge.svg\" alt=\"Open In Colab\"/></a>"
      ]
    },
    {
      "cell_type": "markdown",
      "id": "1347356f",
      "metadata": {
        "id": "1347356f"
      },
      "source": [
        "# Introduction\n",
        "In this notebook, I will be doing similar analysis to the Time Series Analysis notebook: however, in this one, I will be analyzing how the traffic data changes depending on the day of the week, particularly for weekends versus weekdays."
      ]
    },
    {
      "cell_type": "code",
      "source": [
        "! pip install pyspark"
      ],
      "metadata": {
        "id": "t4T8p5ZOvESa",
        "colab": {
          "base_uri": "https://localhost:8080/"
        },
        "outputId": "fcf72293-0d5f-4418-edc3-8d544d7e14fa"
      },
      "id": "t4T8p5ZOvESa",
      "execution_count": 1,
      "outputs": [
        {
          "output_type": "stream",
          "name": "stdout",
          "text": [
            "Requirement already satisfied: pyspark in /usr/local/lib/python3.7/dist-packages (3.2.1)\n",
            "Requirement already satisfied: py4j==0.10.9.3 in /usr/local/lib/python3.7/dist-packages (from pyspark) (0.10.9.3)\n"
          ]
        }
      ]
    },
    {
      "cell_type": "code",
      "source": [
        "#mount your google drive.\n",
        "#it will be visible in the file navigator on the left of this notebook\n",
        "#there should be a folder in your drive with your data\n",
        "from google.colab import drive\n",
        "drive.mount('/content/gdrive')"
      ],
      "metadata": {
        "id": "VFRZgQOLvHIV",
        "colab": {
          "base_uri": "https://localhost:8080/"
        },
        "outputId": "1e77245a-aaab-4d71-a9ec-54532754f165"
      },
      "id": "VFRZgQOLvHIV",
      "execution_count": 2,
      "outputs": [
        {
          "output_type": "stream",
          "name": "stdout",
          "text": [
            "Drive already mounted at /content/gdrive; to attempt to forcibly remount, call drive.mount(\"/content/gdrive\", force_remount=True).\n"
          ]
        }
      ]
    },
    {
      "cell_type": "code",
      "execution_count": 3,
      "id": "8eecc8a0",
      "metadata": {
        "id": "8eecc8a0"
      },
      "outputs": [],
      "source": [
        "from pyspark.sql import SparkSession, SQLContext\n",
        "from pyspark.ml.regression import LinearRegression\n",
        "from pyspark.ml.linalg import Vectors\n",
        "import pandas as pd\n",
        "import pyspark.sql.types as T\n",
        "import pyspark\n",
        "from scipy import stats\n",
        "import numpy as np\n",
        "import pyspark.sql.functions as F\n",
        "from pyspark.sql.window import Window\n",
        "import seaborn as sns\n",
        "import glob\n",
        "import os\n",
        "import matplotlib.pyplot as plt\n",
        "%matplotlib inline"
      ]
    },
    {
      "cell_type": "code",
      "execution_count": 4,
      "id": "802d47d3",
      "metadata": {
        "id": "802d47d3"
      },
      "outputs": [],
      "source": [
        "plt.rcParams[\"axes.titlesize\"] = 40\n",
        "plt.rcParams[\"axes.labelsize\"] = 15"
      ]
    },
    {
      "cell_type": "markdown",
      "id": "69f4f2f5",
      "metadata": {
        "id": "69f4f2f5"
      },
      "source": [
        "# Part 1: Reading in the Data"
      ]
    },
    {
      "cell_type": "code",
      "source": [
        "! ls '/content/gdrive/MyDrive/DC project 2'"
      ],
      "metadata": {
        "colab": {
          "base_uri": "https://localhost:8080/"
        },
        "id": "AqdiS8RRvtBU",
        "outputId": "78f679c3-eb63-45a9-85b5-5569d174f7b0"
      },
      "id": "AqdiS8RRvtBU",
      "execution_count": 5,
      "outputs": [
        {
          "output_type": "stream",
          "name": "stdout",
          "text": [
            "'Aggregate FHV Data.xlsx'   other-FHV-data\t 'Trip data w taxi codes'\n",
            " choropleths\t\t    plotly_scatterplots   Uber-Jan-Feb-FOIL.csv\n",
            " Downloads\t\t    README.md\t\t  uber-trip-data\n",
            " mileva_analysis.ipynb\t    TLC_letter2.pdf\t  weather_data_daily.csv\n",
            " mileva_processing.ipynb    TLC_letter3.pdf\t  weather_data_hourly.csv\n",
            "'NYC Uber Trips.gslides'    TLC_letter.pdf\t  weather_data_worst_days.csv\n"
          ]
        }
      ]
    },
    {
      "cell_type": "code",
      "execution_count": 6,
      "id": "33c21ba7",
      "metadata": {
        "id": "33c21ba7"
      },
      "outputs": [],
      "source": [
        "data_dir = \"/content/gdrive/MyDrive/DC project 2\"\n",
        "uber_files = os.path.join(data_dir, \"uber_all_processed.csv\")"
      ]
    },
    {
      "cell_type": "code",
      "execution_count": 6,
      "id": "d3665b94",
      "metadata": {
        "id": "d3665b94"
      },
      "outputs": [],
      "source": [
        ""
      ]
    },
    {
      "cell_type": "code",
      "execution_count": 7,
      "id": "8614b8f3",
      "metadata": {
        "id": "8614b8f3"
      },
      "outputs": [],
      "source": [
        "spark = SparkSession.builder \\\n",
        "    .master(\"local\") \\\n",
        "    .appName(\"Word Count\") \\\n",
        "    .config(\"spark.some.config.option\", \"some-value\") \\\n",
        "    .getOrCreate()"
      ]
    },
    {
      "cell_type": "code",
      "execution_count": 8,
      "id": "5f6fd73e",
      "metadata": {
        "id": "5f6fd73e"
      },
      "outputs": [],
      "source": [
        "df = spark.read.csv(\"/content/gdrive/MyDrive/DC project 2/Trip data w taxi codes/uber_all_processed.csv\", header=True)"
      ]
    },
    {
      "cell_type": "code",
      "execution_count": 9,
      "id": "a3456682",
      "metadata": {
        "id": "a3456682",
        "outputId": "7e4e0bce-48fe-4414-f3b2-f4feeaf1e1c0",
        "colab": {
          "base_uri": "https://localhost:8080/"
        }
      },
      "outputs": [
        {
          "output_type": "stream",
          "name": "stdout",
          "text": [
            "+-------------------+-------+--------+------+----------+---------+--------------------+\n",
            "|           datetime|    lat|     lon|  base|locationID|  borough|                zone|\n",
            "+-------------------+-------+--------+------+----------+---------+--------------------+\n",
            "|2014-04-01 00:00:00|40.7188|-73.9863|B02598|       232|Manhattan|Two Bridges/Sewar...|\n",
            "|2014-04-01 00:00:00|40.7637|  -73.96|B02598|       141|Manhattan|     Lenox Hill West|\n",
            "|2014-04-01 00:00:00|40.7215|-73.9952|B02682|       144|Manhattan| Little Italy/NoLiTa|\n",
            "|2014-04-01 00:01:00|40.7355|-73.9966|B02617|       113|Manhattan|Greenwich Village...|\n",
            "|2014-04-01 00:02:00|40.7184|-73.9601|B02682|       255| Brooklyn|Williamsburg (Nor...|\n",
            "|2014-04-01 00:02:00|40.7556|-73.9874|B02598|       100|Manhattan|    Garment District|\n",
            "|2014-04-01 00:02:00|40.7444|-73.9964|B02598|        90|Manhattan|            Flatiron|\n",
            "|2014-04-01 00:03:00| 40.743|-73.9849|B02617|       234|Manhattan|            Union Sq|\n",
            "|2014-04-01 00:03:00|40.7741|-73.8722|B02598|       138|   Queens|   LaGuardia Airport|\n",
            "|2014-04-01 00:04:00|40.7153|-73.9666|B02682|       256| Brooklyn|Williamsburg (Sou...|\n",
            "|2014-04-01 00:05:00|40.7572|-73.9781|B02598|       161|Manhattan|      Midtown Center|\n",
            "|2014-04-01 00:06:00|40.7308|-73.9808|B02617|       224|Manhattan|Stuy Town/Peter C...|\n",
            "|2014-04-01 00:07:00|40.7445|-73.9985|B02617|        90|Manhattan|            Flatiron|\n",
            "|2014-04-01 00:07:00|40.7193|-74.0041|B02682|       231|Manhattan|TriBeCa/Civic Center|\n",
            "|2014-04-01 00:07:00|40.7613|-73.9857|B02682|       230|Manhattan|Times Sq/Theatre ...|\n",
            "|2014-04-01 00:07:00|40.7556|-73.9873|B02617|       100|Manhattan|    Garment District|\n",
            "|2014-04-01 00:08:00|40.7501|-73.9813|B02682|       170|Manhattan|         Murray Hill|\n",
            "|2014-04-01 00:09:00|40.6421|-74.0157|B02617|       228| Brooklyn|    Sunset Park West|\n",
            "|2014-04-01 00:09:00|40.7145|-73.9922|B02682|       148|Manhattan|     Lower East Side|\n",
            "|2014-04-01 00:11:00|40.8134|-73.9453|B02598|        42|Manhattan|Central Harlem North|\n",
            "+-------------------+-------+--------+------+----------+---------+--------------------+\n",
            "only showing top 20 rows\n",
            "\n"
          ]
        }
      ],
      "source": [
        "df.show()"
      ]
    },
    {
      "cell_type": "code",
      "execution_count": 10,
      "id": "d1b07843",
      "metadata": {
        "id": "d1b07843",
        "colab": {
          "base_uri": "https://localhost:8080/"
        },
        "outputId": "e1fda62c-6237-470b-a554-399813374314"
      },
      "outputs": [
        {
          "output_type": "stream",
          "name": "stdout",
          "text": [
            "+-------------------+-------+--------+------+----------+---------+--------------------+\n",
            "|           datetime|    lat|     lon|  base|locationID|  borough|                zone|\n",
            "+-------------------+-------+--------+------+----------+---------+--------------------+\n",
            "|2014-04-01 00:00:00|40.7188|-73.9863|B02598|       232|Manhattan|Two Bridges/Sewar...|\n",
            "|2014-04-01 00:00:00|40.7637|  -73.96|B02598|       141|Manhattan|     Lenox Hill West|\n",
            "|2014-04-01 00:00:00|40.7215|-73.9952|B02682|       144|Manhattan| Little Italy/NoLiTa|\n",
            "|2014-04-01 00:01:00|40.7355|-73.9966|B02617|       113|Manhattan|Greenwich Village...|\n",
            "|2014-04-01 00:02:00|40.7184|-73.9601|B02682|       255| Brooklyn|Williamsburg (Nor...|\n",
            "|2014-04-01 00:02:00|40.7556|-73.9874|B02598|       100|Manhattan|    Garment District|\n",
            "|2014-04-01 00:02:00|40.7444|-73.9964|B02598|        90|Manhattan|            Flatiron|\n",
            "|2014-04-01 00:03:00| 40.743|-73.9849|B02617|       234|Manhattan|            Union Sq|\n",
            "|2014-04-01 00:03:00|40.7741|-73.8722|B02598|       138|   Queens|   LaGuardia Airport|\n",
            "|2014-04-01 00:04:00|40.7153|-73.9666|B02682|       256| Brooklyn|Williamsburg (Sou...|\n",
            "|2014-04-01 00:05:00|40.7572|-73.9781|B02598|       161|Manhattan|      Midtown Center|\n",
            "|2014-04-01 00:06:00|40.7308|-73.9808|B02617|       224|Manhattan|Stuy Town/Peter C...|\n",
            "|2014-04-01 00:07:00|40.7445|-73.9985|B02617|        90|Manhattan|            Flatiron|\n",
            "|2014-04-01 00:07:00|40.7193|-74.0041|B02682|       231|Manhattan|TriBeCa/Civic Center|\n",
            "|2014-04-01 00:07:00|40.7613|-73.9857|B02682|       230|Manhattan|Times Sq/Theatre ...|\n",
            "|2014-04-01 00:07:00|40.7556|-73.9873|B02617|       100|Manhattan|    Garment District|\n",
            "|2014-04-01 00:08:00|40.7501|-73.9813|B02682|       170|Manhattan|         Murray Hill|\n",
            "|2014-04-01 00:09:00|40.6421|-74.0157|B02617|       228| Brooklyn|    Sunset Park West|\n",
            "|2014-04-01 00:09:00|40.7145|-73.9922|B02682|       148|Manhattan|     Lower East Side|\n",
            "|2014-04-01 00:11:00|40.8134|-73.9453|B02598|        42|Manhattan|Central Harlem North|\n",
            "+-------------------+-------+--------+------+----------+---------+--------------------+\n",
            "only showing top 20 rows\n",
            "\n"
          ]
        }
      ],
      "source": [
        "df = df.withColumn(\"datetime\", F.to_timestamp(F.col(\"datetime\"), \"yyyy-MM-dd HH:mm:ss\"))\n",
        "df.show()"
      ]
    },
    {
      "cell_type": "code",
      "source": [
        "df = df.withColumn(\"justday\", F.date_trunc(\"dd\", F.col(\"datetime\")))\n",
        "df.show()"
      ],
      "metadata": {
        "colab": {
          "base_uri": "https://localhost:8080/"
        },
        "id": "qaGJQczv3Jvv",
        "outputId": "2b7cef21-96fa-4dce-e485-6cbde652979a"
      },
      "id": "qaGJQczv3Jvv",
      "execution_count": 12,
      "outputs": [
        {
          "output_type": "stream",
          "name": "stdout",
          "text": [
            "+-------------------+-------+--------+------+----------+---------+--------------------+-------------------+\n",
            "|           datetime|    lat|     lon|  base|locationID|  borough|                zone|            justday|\n",
            "+-------------------+-------+--------+------+----------+---------+--------------------+-------------------+\n",
            "|2014-04-01 00:00:00|40.7188|-73.9863|B02598|       232|Manhattan|Two Bridges/Sewar...|2014-04-01 00:00:00|\n",
            "|2014-04-01 00:00:00|40.7637|  -73.96|B02598|       141|Manhattan|     Lenox Hill West|2014-04-01 00:00:00|\n",
            "|2014-04-01 00:00:00|40.7215|-73.9952|B02682|       144|Manhattan| Little Italy/NoLiTa|2014-04-01 00:00:00|\n",
            "|2014-04-01 00:01:00|40.7355|-73.9966|B02617|       113|Manhattan|Greenwich Village...|2014-04-01 00:00:00|\n",
            "|2014-04-01 00:02:00|40.7184|-73.9601|B02682|       255| Brooklyn|Williamsburg (Nor...|2014-04-01 00:00:00|\n",
            "|2014-04-01 00:02:00|40.7556|-73.9874|B02598|       100|Manhattan|    Garment District|2014-04-01 00:00:00|\n",
            "|2014-04-01 00:02:00|40.7444|-73.9964|B02598|        90|Manhattan|            Flatiron|2014-04-01 00:00:00|\n",
            "|2014-04-01 00:03:00| 40.743|-73.9849|B02617|       234|Manhattan|            Union Sq|2014-04-01 00:00:00|\n",
            "|2014-04-01 00:03:00|40.7741|-73.8722|B02598|       138|   Queens|   LaGuardia Airport|2014-04-01 00:00:00|\n",
            "|2014-04-01 00:04:00|40.7153|-73.9666|B02682|       256| Brooklyn|Williamsburg (Sou...|2014-04-01 00:00:00|\n",
            "|2014-04-01 00:05:00|40.7572|-73.9781|B02598|       161|Manhattan|      Midtown Center|2014-04-01 00:00:00|\n",
            "|2014-04-01 00:06:00|40.7308|-73.9808|B02617|       224|Manhattan|Stuy Town/Peter C...|2014-04-01 00:00:00|\n",
            "|2014-04-01 00:07:00|40.7445|-73.9985|B02617|        90|Manhattan|            Flatiron|2014-04-01 00:00:00|\n",
            "|2014-04-01 00:07:00|40.7193|-74.0041|B02682|       231|Manhattan|TriBeCa/Civic Center|2014-04-01 00:00:00|\n",
            "|2014-04-01 00:07:00|40.7613|-73.9857|B02682|       230|Manhattan|Times Sq/Theatre ...|2014-04-01 00:00:00|\n",
            "|2014-04-01 00:07:00|40.7556|-73.9873|B02617|       100|Manhattan|    Garment District|2014-04-01 00:00:00|\n",
            "|2014-04-01 00:08:00|40.7501|-73.9813|B02682|       170|Manhattan|         Murray Hill|2014-04-01 00:00:00|\n",
            "|2014-04-01 00:09:00|40.6421|-74.0157|B02617|       228| Brooklyn|    Sunset Park West|2014-04-01 00:00:00|\n",
            "|2014-04-01 00:09:00|40.7145|-73.9922|B02682|       148|Manhattan|     Lower East Side|2014-04-01 00:00:00|\n",
            "|2014-04-01 00:11:00|40.8134|-73.9453|B02598|        42|Manhattan|Central Harlem North|2014-04-01 00:00:00|\n",
            "+-------------------+-------+--------+------+----------+---------+--------------------+-------------------+\n",
            "only showing top 20 rows\n",
            "\n"
          ]
        }
      ]
    },
    {
      "cell_type": "code",
      "source": [
        "num_days = df.select(\"justday\").distinct().count()\n",
        "num_days"
      ],
      "metadata": {
        "colab": {
          "base_uri": "https://localhost:8080/"
        },
        "id": "jX-SMOO96D25",
        "outputId": "5dfdabc1-12e0-4888-908b-01f313aa5bfb"
      },
      "id": "jX-SMOO96D25",
      "execution_count": 26,
      "outputs": [
        {
          "output_type": "execute_result",
          "data": {
            "text/plain": [
              "364"
            ]
          },
          "metadata": {},
          "execution_count": 26
        }
      ]
    },
    {
      "cell_type": "markdown",
      "id": "68eaaa98",
      "metadata": {
        "id": "68eaaa98"
      },
      "source": [
        "# Part 2: Adding Columns for Day of Weeks and Count\n",
        "In order to analyze this, I need to create new variables depending on the weekday and count each ride as one variable.\n",
        "In PySpark, each day of the week is stored as an integer between 1 and 7, 1 is Sunday and 7 is Saturday.\n",
        "Each new ride is a count of 1, for aggregating I will sum this."
      ]
    },
    {
      "cell_type": "code",
      "execution_count": 15,
      "id": "9be8b9c5",
      "metadata": {
        "id": "9be8b9c5",
        "outputId": "6c99c83f-7b56-4828-fb10-af8f66098e94",
        "colab": {
          "base_uri": "https://localhost:8080/"
        }
      },
      "outputs": [
        {
          "output_type": "stream",
          "name": "stdout",
          "text": [
            "+-------------------+-------+--------+------+----------+---------+--------------------+-------------------+---------+\n",
            "|           datetime|    lat|     lon|  base|locationID|  borough|                zone|            justday|DayOfWeek|\n",
            "+-------------------+-------+--------+------+----------+---------+--------------------+-------------------+---------+\n",
            "|2014-04-01 00:00:00|40.7188|-73.9863|B02598|       232|Manhattan|Two Bridges/Sewar...|2014-04-01 00:00:00|        3|\n",
            "|2014-04-01 00:00:00|40.7637|  -73.96|B02598|       141|Manhattan|     Lenox Hill West|2014-04-01 00:00:00|        3|\n",
            "|2014-04-01 00:00:00|40.7215|-73.9952|B02682|       144|Manhattan| Little Italy/NoLiTa|2014-04-01 00:00:00|        3|\n",
            "|2014-04-01 00:01:00|40.7355|-73.9966|B02617|       113|Manhattan|Greenwich Village...|2014-04-01 00:00:00|        3|\n",
            "|2014-04-01 00:02:00|40.7184|-73.9601|B02682|       255| Brooklyn|Williamsburg (Nor...|2014-04-01 00:00:00|        3|\n",
            "|2014-04-01 00:02:00|40.7556|-73.9874|B02598|       100|Manhattan|    Garment District|2014-04-01 00:00:00|        3|\n",
            "|2014-04-01 00:02:00|40.7444|-73.9964|B02598|        90|Manhattan|            Flatiron|2014-04-01 00:00:00|        3|\n",
            "|2014-04-01 00:03:00| 40.743|-73.9849|B02617|       234|Manhattan|            Union Sq|2014-04-01 00:00:00|        3|\n",
            "|2014-04-01 00:03:00|40.7741|-73.8722|B02598|       138|   Queens|   LaGuardia Airport|2014-04-01 00:00:00|        3|\n",
            "|2014-04-01 00:04:00|40.7153|-73.9666|B02682|       256| Brooklyn|Williamsburg (Sou...|2014-04-01 00:00:00|        3|\n",
            "|2014-04-01 00:05:00|40.7572|-73.9781|B02598|       161|Manhattan|      Midtown Center|2014-04-01 00:00:00|        3|\n",
            "|2014-04-01 00:06:00|40.7308|-73.9808|B02617|       224|Manhattan|Stuy Town/Peter C...|2014-04-01 00:00:00|        3|\n",
            "|2014-04-01 00:07:00|40.7445|-73.9985|B02617|        90|Manhattan|            Flatiron|2014-04-01 00:00:00|        3|\n",
            "|2014-04-01 00:07:00|40.7193|-74.0041|B02682|       231|Manhattan|TriBeCa/Civic Center|2014-04-01 00:00:00|        3|\n",
            "|2014-04-01 00:07:00|40.7613|-73.9857|B02682|       230|Manhattan|Times Sq/Theatre ...|2014-04-01 00:00:00|        3|\n",
            "|2014-04-01 00:07:00|40.7556|-73.9873|B02617|       100|Manhattan|    Garment District|2014-04-01 00:00:00|        3|\n",
            "|2014-04-01 00:08:00|40.7501|-73.9813|B02682|       170|Manhattan|         Murray Hill|2014-04-01 00:00:00|        3|\n",
            "|2014-04-01 00:09:00|40.6421|-74.0157|B02617|       228| Brooklyn|    Sunset Park West|2014-04-01 00:00:00|        3|\n",
            "|2014-04-01 00:09:00|40.7145|-73.9922|B02682|       148|Manhattan|     Lower East Side|2014-04-01 00:00:00|        3|\n",
            "|2014-04-01 00:11:00|40.8134|-73.9453|B02598|        42|Manhattan|Central Harlem North|2014-04-01 00:00:00|        3|\n",
            "+-------------------+-------+--------+------+----------+---------+--------------------+-------------------+---------+\n",
            "only showing top 20 rows\n",
            "\n"
          ]
        }
      ],
      "source": [
        "df = df.withColumn(\"DayOfWeek\", F.dayofweek(F.col(\"datetime\")))\n",
        "df.show()"
      ]
    },
    {
      "cell_type": "code",
      "execution_count": 16,
      "id": "b7e3d306",
      "metadata": {
        "id": "b7e3d306",
        "outputId": "7a5209ba-0e04-4b3c-e1b8-b54122b142d5",
        "colab": {
          "base_uri": "https://localhost:8080/"
        }
      },
      "outputs": [
        {
          "output_type": "stream",
          "name": "stdout",
          "text": [
            "+-------------------+-------+--------+------+----------+---------+--------------------+-------------------+---------+-------+\n",
            "|           datetime|    lat|     lon|  base|locationID|  borough|                zone|            justday|DayOfWeek|Weekend|\n",
            "+-------------------+-------+--------+------+----------+---------+--------------------+-------------------+---------+-------+\n",
            "|2014-04-01 00:00:00|40.7188|-73.9863|B02598|       232|Manhattan|Two Bridges/Sewar...|2014-04-01 00:00:00|        3|Weekday|\n",
            "|2014-04-01 00:00:00|40.7637|  -73.96|B02598|       141|Manhattan|     Lenox Hill West|2014-04-01 00:00:00|        3|Weekday|\n",
            "|2014-04-01 00:00:00|40.7215|-73.9952|B02682|       144|Manhattan| Little Italy/NoLiTa|2014-04-01 00:00:00|        3|Weekday|\n",
            "|2014-04-01 00:01:00|40.7355|-73.9966|B02617|       113|Manhattan|Greenwich Village...|2014-04-01 00:00:00|        3|Weekday|\n",
            "|2014-04-01 00:02:00|40.7184|-73.9601|B02682|       255| Brooklyn|Williamsburg (Nor...|2014-04-01 00:00:00|        3|Weekday|\n",
            "|2014-04-01 00:02:00|40.7556|-73.9874|B02598|       100|Manhattan|    Garment District|2014-04-01 00:00:00|        3|Weekday|\n",
            "|2014-04-01 00:02:00|40.7444|-73.9964|B02598|        90|Manhattan|            Flatiron|2014-04-01 00:00:00|        3|Weekday|\n",
            "|2014-04-01 00:03:00| 40.743|-73.9849|B02617|       234|Manhattan|            Union Sq|2014-04-01 00:00:00|        3|Weekday|\n",
            "|2014-04-01 00:03:00|40.7741|-73.8722|B02598|       138|   Queens|   LaGuardia Airport|2014-04-01 00:00:00|        3|Weekday|\n",
            "|2014-04-01 00:04:00|40.7153|-73.9666|B02682|       256| Brooklyn|Williamsburg (Sou...|2014-04-01 00:00:00|        3|Weekday|\n",
            "|2014-04-01 00:05:00|40.7572|-73.9781|B02598|       161|Manhattan|      Midtown Center|2014-04-01 00:00:00|        3|Weekday|\n",
            "|2014-04-01 00:06:00|40.7308|-73.9808|B02617|       224|Manhattan|Stuy Town/Peter C...|2014-04-01 00:00:00|        3|Weekday|\n",
            "|2014-04-01 00:07:00|40.7445|-73.9985|B02617|        90|Manhattan|            Flatiron|2014-04-01 00:00:00|        3|Weekday|\n",
            "|2014-04-01 00:07:00|40.7193|-74.0041|B02682|       231|Manhattan|TriBeCa/Civic Center|2014-04-01 00:00:00|        3|Weekday|\n",
            "|2014-04-01 00:07:00|40.7613|-73.9857|B02682|       230|Manhattan|Times Sq/Theatre ...|2014-04-01 00:00:00|        3|Weekday|\n",
            "|2014-04-01 00:07:00|40.7556|-73.9873|B02617|       100|Manhattan|    Garment District|2014-04-01 00:00:00|        3|Weekday|\n",
            "|2014-04-01 00:08:00|40.7501|-73.9813|B02682|       170|Manhattan|         Murray Hill|2014-04-01 00:00:00|        3|Weekday|\n",
            "|2014-04-01 00:09:00|40.6421|-74.0157|B02617|       228| Brooklyn|    Sunset Park West|2014-04-01 00:00:00|        3|Weekday|\n",
            "|2014-04-01 00:09:00|40.7145|-73.9922|B02682|       148|Manhattan|     Lower East Side|2014-04-01 00:00:00|        3|Weekday|\n",
            "|2014-04-01 00:11:00|40.8134|-73.9453|B02598|        42|Manhattan|Central Harlem North|2014-04-01 00:00:00|        3|Weekday|\n",
            "+-------------------+-------+--------+------+----------+---------+--------------------+-------------------+---------+-------+\n",
            "only showing top 20 rows\n",
            "\n"
          ]
        }
      ],
      "source": [
        "df = df.withColumn(\"Weekend\", F.when( (df[\"DayOfWeek\"] == 7) | (df[\"DayOfWeek\"]==1), \"Weekend\").otherwise(\"Weekday\"))\n",
        "df.show()"
      ]
    },
    {
      "cell_type": "code",
      "execution_count": 17,
      "id": "0d654767",
      "metadata": {
        "id": "0d654767",
        "outputId": "c85ed7e5-1b4a-4c39-9a8b-a6d92a26f345",
        "colab": {
          "base_uri": "https://localhost:8080/"
        }
      },
      "outputs": [
        {
          "output_type": "stream",
          "name": "stdout",
          "text": [
            "+-------------------+-------+--------+------+----------+---------+--------------------+-------------------+---------+-------+-----+\n",
            "|           datetime|    lat|     lon|  base|locationID|  borough|                zone|            justday|DayOfWeek|Weekend|Count|\n",
            "+-------------------+-------+--------+------+----------+---------+--------------------+-------------------+---------+-------+-----+\n",
            "|2014-04-01 00:00:00|40.7188|-73.9863|B02598|       232|Manhattan|Two Bridges/Sewar...|2014-04-01 00:00:00|        3|Weekday|    1|\n",
            "|2014-04-01 00:00:00|40.7637|  -73.96|B02598|       141|Manhattan|     Lenox Hill West|2014-04-01 00:00:00|        3|Weekday|    1|\n",
            "|2014-04-01 00:00:00|40.7215|-73.9952|B02682|       144|Manhattan| Little Italy/NoLiTa|2014-04-01 00:00:00|        3|Weekday|    1|\n",
            "|2014-04-01 00:01:00|40.7355|-73.9966|B02617|       113|Manhattan|Greenwich Village...|2014-04-01 00:00:00|        3|Weekday|    1|\n",
            "|2014-04-01 00:02:00|40.7184|-73.9601|B02682|       255| Brooklyn|Williamsburg (Nor...|2014-04-01 00:00:00|        3|Weekday|    1|\n",
            "|2014-04-01 00:02:00|40.7556|-73.9874|B02598|       100|Manhattan|    Garment District|2014-04-01 00:00:00|        3|Weekday|    1|\n",
            "|2014-04-01 00:02:00|40.7444|-73.9964|B02598|        90|Manhattan|            Flatiron|2014-04-01 00:00:00|        3|Weekday|    1|\n",
            "|2014-04-01 00:03:00| 40.743|-73.9849|B02617|       234|Manhattan|            Union Sq|2014-04-01 00:00:00|        3|Weekday|    1|\n",
            "|2014-04-01 00:03:00|40.7741|-73.8722|B02598|       138|   Queens|   LaGuardia Airport|2014-04-01 00:00:00|        3|Weekday|    1|\n",
            "|2014-04-01 00:04:00|40.7153|-73.9666|B02682|       256| Brooklyn|Williamsburg (Sou...|2014-04-01 00:00:00|        3|Weekday|    1|\n",
            "|2014-04-01 00:05:00|40.7572|-73.9781|B02598|       161|Manhattan|      Midtown Center|2014-04-01 00:00:00|        3|Weekday|    1|\n",
            "|2014-04-01 00:06:00|40.7308|-73.9808|B02617|       224|Manhattan|Stuy Town/Peter C...|2014-04-01 00:00:00|        3|Weekday|    1|\n",
            "|2014-04-01 00:07:00|40.7445|-73.9985|B02617|        90|Manhattan|            Flatiron|2014-04-01 00:00:00|        3|Weekday|    1|\n",
            "|2014-04-01 00:07:00|40.7193|-74.0041|B02682|       231|Manhattan|TriBeCa/Civic Center|2014-04-01 00:00:00|        3|Weekday|    1|\n",
            "|2014-04-01 00:07:00|40.7613|-73.9857|B02682|       230|Manhattan|Times Sq/Theatre ...|2014-04-01 00:00:00|        3|Weekday|    1|\n",
            "|2014-04-01 00:07:00|40.7556|-73.9873|B02617|       100|Manhattan|    Garment District|2014-04-01 00:00:00|        3|Weekday|    1|\n",
            "|2014-04-01 00:08:00|40.7501|-73.9813|B02682|       170|Manhattan|         Murray Hill|2014-04-01 00:00:00|        3|Weekday|    1|\n",
            "|2014-04-01 00:09:00|40.6421|-74.0157|B02617|       228| Brooklyn|    Sunset Park West|2014-04-01 00:00:00|        3|Weekday|    1|\n",
            "|2014-04-01 00:09:00|40.7145|-73.9922|B02682|       148|Manhattan|     Lower East Side|2014-04-01 00:00:00|        3|Weekday|    1|\n",
            "|2014-04-01 00:11:00|40.8134|-73.9453|B02598|        42|Manhattan|Central Harlem North|2014-04-01 00:00:00|        3|Weekday|    1|\n",
            "+-------------------+-------+--------+------+----------+---------+--------------------+-------------------+---------+-------+-----+\n",
            "only showing top 20 rows\n",
            "\n"
          ]
        }
      ],
      "source": [
        "df = df.withColumn(\"Count\", F.lit(1))\n",
        "df.show()"
      ]
    },
    {
      "cell_type": "code",
      "execution_count": 18,
      "id": "026d5dc6",
      "metadata": {
        "id": "026d5dc6",
        "outputId": "3116e60b-f69d-467d-bb09-e8456e548b32",
        "colab": {
          "base_uri": "https://localhost:8080/"
        }
      },
      "outputs": [
        {
          "output_type": "stream",
          "name": "stdout",
          "text": [
            "+-------------------+-------+--------+------+----------+---------+--------------------+-------------------+---------+-------+-----+\n",
            "|           datetime|    lat|     lon|  base|locationID|  borough|                zone|            justday|DayOfWeek|Weekend|Count|\n",
            "+-------------------+-------+--------+------+----------+---------+--------------------+-------------------+---------+-------+-----+\n",
            "|2014-04-05 00:00:00|40.7732| -73.895|B02682|       223|   Queens|            Steinway|2014-04-05 00:00:00|        7|Weekend|    1|\n",
            "|2014-04-05 00:00:00|40.7258|-74.0075|B02598|       125|Manhattan|           Hudson Sq|2014-04-05 00:00:00|        7|Weekend|    1|\n",
            "|2014-04-05 00:00:00| 40.769|-73.9825|B02512|       142|Manhattan| Lincoln Square East|2014-04-05 00:00:00|        7|Weekend|    1|\n",
            "|2014-04-05 00:00:00|40.7415| -74.002|B02598|        68|Manhattan|        East Chelsea|2014-04-05 00:00:00|        7|Weekend|    1|\n",
            "|2014-04-05 00:00:00| 40.736|-74.0059|B02617|       249|Manhattan|        West Village|2014-04-05 00:00:00|        7|Weekend|    1|\n",
            "|2014-04-05 00:00:00|40.7594|-73.9641|B02512|       229|Manhattan|Sutton Place/Turt...|2014-04-05 00:00:00|        7|Weekend|    1|\n",
            "|2014-04-05 00:00:00| 40.731|-73.9896|B02682|        79|Manhattan|        East Village|2014-04-05 00:00:00|        7|Weekend|    1|\n",
            "|2014-04-05 00:00:00|40.6973|-73.9071|B02682|        36| Brooklyn|      Bushwick North|2014-04-05 00:00:00|        7|Weekend|    1|\n",
            "|2014-04-05 00:00:00|40.7234|-73.9978|B02682|       144|Manhattan| Little Italy/NoLiTa|2014-04-05 00:00:00|        7|Weekend|    1|\n",
            "|2014-04-05 00:00:00|40.6739|-73.7959|B02598|         9|   Queens|        Baisley Park|2014-04-05 00:00:00|        7|Weekend|    1|\n",
            "|2014-04-05 00:00:00| 40.705|-74.0128|B02598|        88|Manhattan|Financial Distric...|2014-04-05 00:00:00|        7|Weekend|    1|\n",
            "|2014-04-05 00:00:00|40.7366|-73.9869|B02682|       107|Manhattan|            Gramercy|2014-04-05 00:00:00|        7|Weekend|    1|\n",
            "|2014-04-05 00:00:00| 40.728| -73.991|B02682|        79|Manhattan|        East Village|2014-04-05 00:00:00|        7|Weekend|    1|\n",
            "|2014-04-05 00:00:00|40.7366|-73.9887|B02598|       107|Manhattan|            Gramercy|2014-04-05 00:00:00|        7|Weekend|    1|\n",
            "|2014-04-05 00:00:00|40.6811|-73.9633|B02682|        49| Brooklyn|        Clinton Hill|2014-04-05 00:00:00|        7|Weekend|    1|\n",
            "|2014-04-05 00:01:00|40.7109|-74.0078|B02682|       209|Manhattan|             Seaport|2014-04-05 00:00:00|        7|Weekend|    1|\n",
            "|2014-04-05 00:01:00|40.7375|-74.0038|B02617|       249|Manhattan|        West Village|2014-04-05 00:00:00|        7|Weekend|    1|\n",
            "|2014-04-05 00:01:00|40.8084|-73.9447|B02598|        42|Manhattan|Central Harlem North|2014-04-05 00:00:00|        7|Weekend|    1|\n",
            "|2014-04-05 00:01:00|40.7601|-73.9964|B02598|        50|Manhattan|        Clinton West|2014-04-05 00:00:00|        7|Weekend|    1|\n",
            "|2014-04-05 00:01:00|40.7386|-73.9854|B02598|       107|Manhattan|            Gramercy|2014-04-05 00:00:00|        7|Weekend|    1|\n",
            "+-------------------+-------+--------+------+----------+---------+--------------------+-------------------+---------+-------+-----+\n",
            "only showing top 20 rows\n",
            "\n"
          ]
        }
      ],
      "source": [
        "weekends = df.filter(F.col(\"Weekend\") == \"Weekend\")\n",
        "weekends.show()"
      ]
    },
    {
      "cell_type": "code",
      "source": [
        "num_weekends = weekends.select(\"justday\").distinct().count()\n",
        "num_weekends"
      ],
      "metadata": {
        "colab": {
          "base_uri": "https://localhost:8080/"
        },
        "id": "xf6Lb6427nzr",
        "outputId": "fa59961b-944d-4e79-8eb0-6bfb194b2d93"
      },
      "id": "xf6Lb6427nzr",
      "execution_count": 21,
      "outputs": [
        {
          "output_type": "execute_result",
          "data": {
            "text/plain": [
              "104"
            ]
          },
          "metadata": {},
          "execution_count": 21
        }
      ]
    },
    {
      "cell_type": "code",
      "execution_count": 23,
      "id": "62f46439",
      "metadata": {
        "id": "62f46439",
        "outputId": "792a1436-70f6-4883-c596-aa94301cbc18",
        "colab": {
          "base_uri": "https://localhost:8080/"
        }
      },
      "outputs": [
        {
          "output_type": "stream",
          "name": "stdout",
          "text": [
            "+-------------------+-------+--------+------+----------+---------+--------------------+-------------------+---------+-------+-----+\n",
            "|           datetime|    lat|     lon|  base|locationID|  borough|                zone|            justday|DayOfWeek|Weekend|Count|\n",
            "+-------------------+-------+--------+------+----------+---------+--------------------+-------------------+---------+-------+-----+\n",
            "|2014-04-01 00:00:00|40.7188|-73.9863|B02598|       232|Manhattan|Two Bridges/Sewar...|2014-04-01 00:00:00|        3|Weekday|    1|\n",
            "|2014-04-01 00:00:00|40.7637|  -73.96|B02598|       141|Manhattan|     Lenox Hill West|2014-04-01 00:00:00|        3|Weekday|    1|\n",
            "|2014-04-01 00:00:00|40.7215|-73.9952|B02682|       144|Manhattan| Little Italy/NoLiTa|2014-04-01 00:00:00|        3|Weekday|    1|\n",
            "|2014-04-01 00:01:00|40.7355|-73.9966|B02617|       113|Manhattan|Greenwich Village...|2014-04-01 00:00:00|        3|Weekday|    1|\n",
            "|2014-04-01 00:02:00|40.7184|-73.9601|B02682|       255| Brooklyn|Williamsburg (Nor...|2014-04-01 00:00:00|        3|Weekday|    1|\n",
            "|2014-04-01 00:02:00|40.7556|-73.9874|B02598|       100|Manhattan|    Garment District|2014-04-01 00:00:00|        3|Weekday|    1|\n",
            "|2014-04-01 00:02:00|40.7444|-73.9964|B02598|        90|Manhattan|            Flatiron|2014-04-01 00:00:00|        3|Weekday|    1|\n",
            "|2014-04-01 00:03:00| 40.743|-73.9849|B02617|       234|Manhattan|            Union Sq|2014-04-01 00:00:00|        3|Weekday|    1|\n",
            "|2014-04-01 00:03:00|40.7741|-73.8722|B02598|       138|   Queens|   LaGuardia Airport|2014-04-01 00:00:00|        3|Weekday|    1|\n",
            "|2014-04-01 00:04:00|40.7153|-73.9666|B02682|       256| Brooklyn|Williamsburg (Sou...|2014-04-01 00:00:00|        3|Weekday|    1|\n",
            "|2014-04-01 00:05:00|40.7572|-73.9781|B02598|       161|Manhattan|      Midtown Center|2014-04-01 00:00:00|        3|Weekday|    1|\n",
            "|2014-04-01 00:06:00|40.7308|-73.9808|B02617|       224|Manhattan|Stuy Town/Peter C...|2014-04-01 00:00:00|        3|Weekday|    1|\n",
            "|2014-04-01 00:07:00|40.7445|-73.9985|B02617|        90|Manhattan|            Flatiron|2014-04-01 00:00:00|        3|Weekday|    1|\n",
            "|2014-04-01 00:07:00|40.7193|-74.0041|B02682|       231|Manhattan|TriBeCa/Civic Center|2014-04-01 00:00:00|        3|Weekday|    1|\n",
            "|2014-04-01 00:07:00|40.7613|-73.9857|B02682|       230|Manhattan|Times Sq/Theatre ...|2014-04-01 00:00:00|        3|Weekday|    1|\n",
            "|2014-04-01 00:07:00|40.7556|-73.9873|B02617|       100|Manhattan|    Garment District|2014-04-01 00:00:00|        3|Weekday|    1|\n",
            "|2014-04-01 00:08:00|40.7501|-73.9813|B02682|       170|Manhattan|         Murray Hill|2014-04-01 00:00:00|        3|Weekday|    1|\n",
            "|2014-04-01 00:09:00|40.6421|-74.0157|B02617|       228| Brooklyn|    Sunset Park West|2014-04-01 00:00:00|        3|Weekday|    1|\n",
            "|2014-04-01 00:09:00|40.7145|-73.9922|B02682|       148|Manhattan|     Lower East Side|2014-04-01 00:00:00|        3|Weekday|    1|\n",
            "|2014-04-01 00:11:00|40.8134|-73.9453|B02598|        42|Manhattan|Central Harlem North|2014-04-01 00:00:00|        3|Weekday|    1|\n",
            "+-------------------+-------+--------+------+----------+---------+--------------------+-------------------+---------+-------+-----+\n",
            "only showing top 20 rows\n",
            "\n"
          ]
        }
      ],
      "source": [
        "weekdays = df.filter(F.col(\"Weekend\") == \"Weekday\")\n",
        "weekdays.show()"
      ]
    },
    {
      "cell_type": "code",
      "source": [
        "num_weekdays = weekdays.select(\"justday\").distinct().count()"
      ],
      "metadata": {
        "id": "bI9hD8LQ73fD"
      },
      "id": "bI9hD8LQ73fD",
      "execution_count": 22,
      "outputs": []
    },
    {
      "cell_type": "code",
      "source": [
        "num_weekdays"
      ],
      "metadata": {
        "colab": {
          "base_uri": "https://localhost:8080/"
        },
        "id": "uwbM_Jf173j9",
        "outputId": "04182208-6f33-4f7b-93fc-6a273f4fea39"
      },
      "id": "uwbM_Jf173j9",
      "execution_count": 24,
      "outputs": [
        {
          "output_type": "execute_result",
          "data": {
            "text/plain": [
              "260"
            ]
          },
          "metadata": {},
          "execution_count": 24
        }
      ]
    },
    {
      "cell_type": "markdown",
      "id": "0a54cca3",
      "metadata": {
        "id": "0a54cca3"
      },
      "source": [
        "# Part 3: Comparing Weekends versus Weekdays by Hour\n",
        "For this section, I will be comparing weekends versus weekdays and looking at whether the most popular hours change depending on whether we are looking at weekdays or weekends."
      ]
    },
    {
      "cell_type": "code",
      "execution_count": 27,
      "id": "fa38fbf4",
      "metadata": {
        "id": "fa38fbf4",
        "outputId": "7cd3e38a-33e3-4530-cbea-c03d18ad4bd9",
        "colab": {
          "base_uri": "https://localhost:8080/"
        }
      },
      "outputs": [
        {
          "output_type": "stream",
          "name": "stdout",
          "text": [
            "+-----------+------------------+\n",
            "|Time of Day|   Number of Trips|\n",
            "+-----------+------------------+\n",
            "|         18| 3589.620879120879|\n",
            "|         19|3563.8983516483518|\n",
            "|         20|3373.1016483516482|\n",
            "|         21| 3312.197802197802|\n",
            "|         17|3282.3104395604396|\n",
            "|         22| 3184.263736263736|\n",
            "|         16| 2871.980769230769|\n",
            "|         23|2691.1675824175823|\n",
            "|         15|2527.7417582417584|\n",
            "|         14|2226.6923076923076|\n",
            "|          8| 2118.445054945055|\n",
            "|          9|2062.0274725274726|\n",
            "|         13|2004.7884615384614|\n",
            "|          0|1929.9505494505495|\n",
            "|         12|1922.5247252747254|\n",
            "|         11|1865.0879120879122|\n",
            "|         10| 1857.392857142857|\n",
            "|          7|1740.2527472527472|\n",
            "|          1|1261.9093406593406|\n",
            "|          6|1179.3186813186812|\n",
            "|          2| 838.4725274725274|\n",
            "|          5| 756.7554945054945|\n",
            "|          3| 633.1620879120879|\n",
            "|          4| 622.1730769230769|\n",
            "+-----------+------------------+\n",
            "\n"
          ]
        }
      ],
      "source": [
        "hourly = df.groupBy(F.hour(\"datetime\").alias(\"Time of Day\")).agg(F.sum(\"Count\").alias(\"Number of Trips\"))\n",
        "hourly = hourly.withColumn(\"Number of Trips\", F.col(\"Number of Trips\") / num_days)\n",
        "hourly.sort(F.col(\"Number of Trips\").desc()).show(24)"
      ]
    },
    {
      "cell_type": "markdown",
      "id": "64e4c241",
      "metadata": {
        "id": "64e4c241"
      },
      "source": [
        "Overall, the most popular time to take an Uber is 5pm, with the least popular time being 2am. People appear to be more likely to go places in the afternoon and evenings, less likely in the early morning.\n",
        "Note: this data may be skewed since there are many more weekdays than weekends."
      ]
    },
    {
      "cell_type": "code",
      "execution_count": 28,
      "id": "549bb02e",
      "metadata": {
        "id": "549bb02e",
        "outputId": "29c2e303-561a-45b4-ac73-fa8c057414a8",
        "colab": {
          "base_uri": "https://localhost:8080/"
        }
      },
      "outputs": [
        {
          "output_type": "stream",
          "name": "stdout",
          "text": [
            "+-----------+------------------+\n",
            "|Time of Day|   Number of Trips|\n",
            "+-----------+------------------+\n",
            "|          0| 3471.298076923077|\n",
            "|         19|3288.3076923076924|\n",
            "|         18|3276.4423076923076|\n",
            "|         22| 3194.548076923077|\n",
            "|         17|3165.1153846153848|\n",
            "|         20| 3100.394230769231|\n",
            "|         21| 3062.201923076923|\n",
            "|         23|2970.8076923076924|\n",
            "|         16|2924.4423076923076|\n",
            "|         15| 2625.826923076923|\n",
            "|          1|2592.9134615384614|\n",
            "|         14|2426.4134615384614|\n",
            "|         13| 2319.894230769231|\n",
            "|         12| 2195.221153846154|\n",
            "|         11|2007.0384615384614|\n",
            "|          2|1795.8846153846155|\n",
            "|         10|1709.1153846153845|\n",
            "|          9|1352.6153846153845|\n",
            "|          3|1261.9038461538462|\n",
            "|          8|1002.4519230769231|\n",
            "|          4| 884.6346153846154|\n",
            "|          7| 735.1442307692307|\n",
            "|          6| 626.9711538461538|\n",
            "|          5| 626.0480769230769|\n",
            "+-----------+------------------+\n",
            "\n"
          ]
        }
      ],
      "source": [
        "hourly_weekends = weekends.groupBy(F.hour(\"datetime\").alias(\"Time of Day\")).agg(F.sum(\"Count\").alias(\"Number of Trips\"))\n",
        "hourly_weekends = hourly_weekends.withColumn(\"Number of Trips\", F.col(\"Number of Trips\") / num_weekends)\n",
        "hourly_weekends.sort(F.col(\"Number of Trips\").desc()).show(24)"
      ]
    },
    {
      "cell_type": "markdown",
      "id": "676dc739",
      "metadata": {
        "id": "676dc739"
      },
      "source": [
        "From this table, we can see that on weekends, 4am appears to have the fewest number of trips, while 4pm appears to have the most trips. This makes sense since that people may not be awake that early on weekends. The most popular time for rides is 4pm, so people may be going home or going to new places at 4pm on weekends."
      ]
    },
    {
      "cell_type": "code",
      "execution_count": 30,
      "id": "e0c88c83",
      "metadata": {
        "id": "e0c88c83",
        "colab": {
          "base_uri": "https://localhost:8080/"
        },
        "outputId": "6dc00dcf-6c89-479a-a4bd-2ed8f6544659"
      },
      "outputs": [
        {
          "output_type": "stream",
          "name": "stdout",
          "text": [
            "+-----------+------------------+\n",
            "|Time of Day|   Number of Trips|\n",
            "+-----------+------------------+\n",
            "|         18| 3714.892307692308|\n",
            "|         19|3674.1346153846152|\n",
            "|         20|3482.1846153846154|\n",
            "|         21|3412.1961538461537|\n",
            "|         17|3329.1884615384615|\n",
            "|         22|           3180.15|\n",
            "|         16| 2850.996153846154|\n",
            "|         23|2579.3115384615385|\n",
            "|          8|2564.8423076923077|\n",
            "|         15| 2488.507692307692|\n",
            "|          9|2345.7923076923075|\n",
            "|         14|2146.8038461538463|\n",
            "|          7|2142.2961538461536|\n",
            "|         10|1916.7038461538461|\n",
            "|         13| 1878.746153846154|\n",
            "|         12| 1813.446153846154|\n",
            "|         11|1808.3076923076924|\n",
            "|          6|1400.2576923076922|\n",
            "|          0|1313.4115384615384|\n",
            "|          5| 809.0384615384615|\n",
            "|          1| 729.5076923076923|\n",
            "|          4| 517.1884615384615|\n",
            "|          2| 455.5076923076923|\n",
            "|          3| 381.6653846153846|\n",
            "+-----------+------------------+\n",
            "\n"
          ]
        }
      ],
      "source": [
        "hourly_weekdays = weekdays.groupBy(F.hour(\"datetime\").alias(\"Time of Day\")).agg(F.sum(\"Count\").alias(\"Number of Trips\"))\n",
        "hourly_weekdays = hourly_weekdays.withColumn(\"Number of Trips\", F.col(\"Number of Trips\") / num_weekdays)\n",
        "hourly_weekdays.sort(F.col(\"Number of Trips\").desc()).show(24)"
      ]
    },
    {
      "cell_type": "markdown",
      "id": "851670ce",
      "metadata": {
        "id": "851670ce"
      },
      "source": [
        "On weekdays, the most popular time to go places is 5pm, which may correspond to people leaving work to go places at 5pm. However, 7 and 8am are not among the top 5 most popular times to take Ubers. It's possible that people leave work from Uber to go to new places, but commute to work in a different way."
      ]
    },
    {
      "cell_type": "code",
      "execution_count": 31,
      "id": "5f3d3c0b",
      "metadata": {
        "id": "5f3d3c0b",
        "colab": {
          "base_uri": "https://localhost:8080/",
          "height": 206
        },
        "outputId": "dd77c758-ede0-43c5-d13f-49ef05a8d3ce"
      },
      "outputs": [
        {
          "output_type": "execute_result",
          "data": {
            "text/plain": [
              "    Time of Day  Number of Trips  Weekend\n",
              "19           11      2007.038462  Weekend\n",
              "11            9      1352.615385  Weekend\n",
              "18           21      3062.201923  Weekend\n",
              "9            19      3288.307692  Weekend\n",
              "15           23      2970.807692  Weekend"
            ],
            "text/html": [
              "\n",
              "  <div id=\"df-732ce41e-be09-46ea-a556-52ee185b8f64\">\n",
              "    <div class=\"colab-df-container\">\n",
              "      <div>\n",
              "<style scoped>\n",
              "    .dataframe tbody tr th:only-of-type {\n",
              "        vertical-align: middle;\n",
              "    }\n",
              "\n",
              "    .dataframe tbody tr th {\n",
              "        vertical-align: top;\n",
              "    }\n",
              "\n",
              "    .dataframe thead th {\n",
              "        text-align: right;\n",
              "    }\n",
              "</style>\n",
              "<table border=\"1\" class=\"dataframe\">\n",
              "  <thead>\n",
              "    <tr style=\"text-align: right;\">\n",
              "      <th></th>\n",
              "      <th>Time of Day</th>\n",
              "      <th>Number of Trips</th>\n",
              "      <th>Weekend</th>\n",
              "    </tr>\n",
              "  </thead>\n",
              "  <tbody>\n",
              "    <tr>\n",
              "      <th>19</th>\n",
              "      <td>11</td>\n",
              "      <td>2007.038462</td>\n",
              "      <td>Weekend</td>\n",
              "    </tr>\n",
              "    <tr>\n",
              "      <th>11</th>\n",
              "      <td>9</td>\n",
              "      <td>1352.615385</td>\n",
              "      <td>Weekend</td>\n",
              "    </tr>\n",
              "    <tr>\n",
              "      <th>18</th>\n",
              "      <td>21</td>\n",
              "      <td>3062.201923</td>\n",
              "      <td>Weekend</td>\n",
              "    </tr>\n",
              "    <tr>\n",
              "      <th>9</th>\n",
              "      <td>19</td>\n",
              "      <td>3288.307692</td>\n",
              "      <td>Weekend</td>\n",
              "    </tr>\n",
              "    <tr>\n",
              "      <th>15</th>\n",
              "      <td>23</td>\n",
              "      <td>2970.807692</td>\n",
              "      <td>Weekend</td>\n",
              "    </tr>\n",
              "  </tbody>\n",
              "</table>\n",
              "</div>\n",
              "      <button class=\"colab-df-convert\" onclick=\"convertToInteractive('df-732ce41e-be09-46ea-a556-52ee185b8f64')\"\n",
              "              title=\"Convert this dataframe to an interactive table.\"\n",
              "              style=\"display:none;\">\n",
              "        \n",
              "  <svg xmlns=\"http://www.w3.org/2000/svg\" height=\"24px\"viewBox=\"0 0 24 24\"\n",
              "       width=\"24px\">\n",
              "    <path d=\"M0 0h24v24H0V0z\" fill=\"none\"/>\n",
              "    <path d=\"M18.56 5.44l.94 2.06.94-2.06 2.06-.94-2.06-.94-.94-2.06-.94 2.06-2.06.94zm-11 1L8.5 8.5l.94-2.06 2.06-.94-2.06-.94L8.5 2.5l-.94 2.06-2.06.94zm10 10l.94 2.06.94-2.06 2.06-.94-2.06-.94-.94-2.06-.94 2.06-2.06.94z\"/><path d=\"M17.41 7.96l-1.37-1.37c-.4-.4-.92-.59-1.43-.59-.52 0-1.04.2-1.43.59L10.3 9.45l-7.72 7.72c-.78.78-.78 2.05 0 2.83L4 21.41c.39.39.9.59 1.41.59.51 0 1.02-.2 1.41-.59l7.78-7.78 2.81-2.81c.8-.78.8-2.07 0-2.86zM5.41 20L4 18.59l7.72-7.72 1.47 1.35L5.41 20z\"/>\n",
              "  </svg>\n",
              "      </button>\n",
              "      \n",
              "  <style>\n",
              "    .colab-df-container {\n",
              "      display:flex;\n",
              "      flex-wrap:wrap;\n",
              "      gap: 12px;\n",
              "    }\n",
              "\n",
              "    .colab-df-convert {\n",
              "      background-color: #E8F0FE;\n",
              "      border: none;\n",
              "      border-radius: 50%;\n",
              "      cursor: pointer;\n",
              "      display: none;\n",
              "      fill: #1967D2;\n",
              "      height: 32px;\n",
              "      padding: 0 0 0 0;\n",
              "      width: 32px;\n",
              "    }\n",
              "\n",
              "    .colab-df-convert:hover {\n",
              "      background-color: #E2EBFA;\n",
              "      box-shadow: 0px 1px 2px rgba(60, 64, 67, 0.3), 0px 1px 3px 1px rgba(60, 64, 67, 0.15);\n",
              "      fill: #174EA6;\n",
              "    }\n",
              "\n",
              "    [theme=dark] .colab-df-convert {\n",
              "      background-color: #3B4455;\n",
              "      fill: #D2E3FC;\n",
              "    }\n",
              "\n",
              "    [theme=dark] .colab-df-convert:hover {\n",
              "      background-color: #434B5C;\n",
              "      box-shadow: 0px 1px 3px 1px rgba(0, 0, 0, 0.15);\n",
              "      filter: drop-shadow(0px 1px 2px rgba(0, 0, 0, 0.3));\n",
              "      fill: #FFFFFF;\n",
              "    }\n",
              "  </style>\n",
              "\n",
              "      <script>\n",
              "        const buttonEl =\n",
              "          document.querySelector('#df-732ce41e-be09-46ea-a556-52ee185b8f64 button.colab-df-convert');\n",
              "        buttonEl.style.display =\n",
              "          google.colab.kernel.accessAllowed ? 'block' : 'none';\n",
              "\n",
              "        async function convertToInteractive(key) {\n",
              "          const element = document.querySelector('#df-732ce41e-be09-46ea-a556-52ee185b8f64');\n",
              "          const dataTable =\n",
              "            await google.colab.kernel.invokeFunction('convertToInteractive',\n",
              "                                                     [key], {});\n",
              "          if (!dataTable) return;\n",
              "\n",
              "          const docLinkHtml = 'Like what you see? Visit the ' +\n",
              "            '<a target=\"_blank\" href=https://colab.research.google.com/notebooks/data_table.ipynb>data table notebook</a>'\n",
              "            + ' to learn more about interactive tables.';\n",
              "          element.innerHTML = '';\n",
              "          dataTable['output_type'] = 'display_data';\n",
              "          await google.colab.output.renderOutput(dataTable, element);\n",
              "          const docLink = document.createElement('div');\n",
              "          docLink.innerHTML = docLinkHtml;\n",
              "          element.appendChild(docLink);\n",
              "        }\n",
              "      </script>\n",
              "    </div>\n",
              "  </div>\n",
              "  "
            ]
          },
          "metadata": {},
          "execution_count": 31
        }
      ],
      "source": [
        "hourly_weekends_df = hourly_weekends.toPandas()\n",
        "hourly_weekdays_df = hourly_weekdays.toPandas()\n",
        "hourly_weekends_df[\"Weekend\"] = \"Weekend\"\n",
        "hourly_weekdays_df[\"Weekend\"] = \"Weekday\"\n",
        "hourly_df = pd.concat([hourly_weekdays_df, hourly_weekends_df])\n",
        "hourly_df.sample(5)"
      ]
    },
    {
      "cell_type": "code",
      "execution_count": 32,
      "id": "46847dc2",
      "metadata": {
        "id": "46847dc2",
        "colab": {
          "base_uri": "https://localhost:8080/",
          "height": 324
        },
        "outputId": "8131e0f8-ef72-40ef-bcdf-2c24b8e66b10"
      },
      "outputs": [
        {
          "output_type": "display_data",
          "data": {
            "text/plain": [
              "<Figure size 432x288 with 1 Axes>"
            ],
            "image/png": "[encoded data removed]"
          },
          "metadata": {
            "needs_background": "light"
          }
        }
      ],
      "source": [
        "sns.boxplot(data=hourly_df, y = \"Number of Trips\", x = \"Weekend\", hue=\"Weekend\")\n",
        "plt.title(\"Average Number of Uber Trips per Hour in Weekend in NYC\")\n",
        "plt.show()"
      ]
    },
    {
      "cell_type": "markdown",
      "id": "d7753fbf",
      "metadata": {
        "id": "d7753fbf"
      },
      "source": [
        "Weekdays appears to be right skewed, meaning that the mean is larger than the median for weekdays. Therefore, there are more hours with low travel times, but a few outliers. Weekends appears to be roughly normally distributed. As predicted, there are significantly more total weekday trips than weekend trips."
      ]
    },
    {
      "cell_type": "code",
      "execution_count": 38,
      "id": "2cb81292",
      "metadata": {
        "id": "2cb81292",
        "colab": {
          "base_uri": "https://localhost:8080/",
          "height": 324
        },
        "outputId": "e434aefe-a1b4-4389-b7da-4c865b659ca7"
      },
      "outputs": [
        {
          "output_type": "display_data",
          "data": {
            "text/plain": [
              "<Figure size 432x288 with 1 Axes>"
            ],
            "image/png": "[encoded data removed]"
          },
          "metadata": {
            "needs_background": "light"
          }
        }
      ],
      "source": [
        "sns.scatterplot(data=hourly_weekdays_df, x = \"Time of Day\", y = \"Number of Trips\", hue=\"Weekend\")\n",
        "plt.title(\"Average Number of Uber Trips per Hour on Weekdays\")\n",
        "plt.show()"
      ]
    },
    {
      "cell_type": "code",
      "execution_count": 39,
      "id": "7d12326c",
      "metadata": {
        "id": "7d12326c",
        "colab": {
          "base_uri": "https://localhost:8080/",
          "height": 324
        },
        "outputId": "4bc88954-f86e-458b-a3c5-d7248564a924"
      },
      "outputs": [
        {
          "output_type": "display_data",
          "data": {
            "text/plain": [
              "<Figure size 432x288 with 1 Axes>"
            ],
            "image/png": "[encoded data removed]"
          },
          "metadata": {
            "needs_background": "light"
          }
        }
      ],
      "source": [
        "sns.scatterplot(data=hourly_weekends_df, x = \"Time of Day\", y = \"Number of Trips\")\n",
        "plt.title(\"Average Number of Uber Trips per Hour on Weekends\")\n",
        "plt.show()"
      ]
    },
    {
      "cell_type": "code",
      "execution_count": 62,
      "id": "4c8a07ae",
      "metadata": {
        "id": "4c8a07ae",
        "colab": {
          "base_uri": "https://localhost:8080/",
          "height": 324
        },
        "outputId": "0f6d5f16-4e74-4ed6-a76c-42b3c6cbc59d"
      },
      "outputs": [
        {
          "output_type": "display_data",
          "data": {
            "text/plain": [
              "<Figure size 432x288 with 1 Axes>"
            ],
            "image/png": "[encoded data removed]"
          },
          "metadata": {
            "needs_background": "light"
          }
        }
      ],
      "source": [
        "sns.scatterplot(data=hourly_df, x = \"Time of Day\", y = \"Number of Trips\", hue=\"Weekend\")\n",
        "plt.title(\"Average Number of Uber Trips per Hour\")\n",
        "plt.show()"
      ]
    },
    {
      "cell_type": "markdown",
      "id": "d99f6d4e",
      "metadata": {
        "id": "d99f6d4e"
      },
      "source": [
        "Looking at the plot with both weekends and weekdays, we can see a few major differences. For one thing, there are differences in the peaks. During weekends, there is a high peak at midnight and the early hours of the day. This may indicate going home from places such as bars on weekends, or generally late night partying. Generally, the peaks on weekends correspond to late night/early afternoon. Although weekdays also have peaks in the number of trips in the late afternoon, there is also a significantly higher number of trips between 6-9am, which may be people commuting to work. For both weekends and weekdays, traffic is highest between 4-6pm. There appears to be significantly higher numbers of people taking Ubers after work as opposed to before work."
      ]
    },
    {
      "cell_type": "code",
      "execution_count": 41,
      "id": "c7e7abe5",
      "metadata": {
        "id": "c7e7abe5",
        "colab": {
          "base_uri": "https://localhost:8080/"
        },
        "outputId": "2b0d0d28-d753-4d3a-ca53-4036c54d3b5b"
      },
      "outputs": [
        {
          "output_type": "execute_result",
          "data": {
            "text/plain": [
              "Ttest_indResult(statistic=0.24015582633728522, pvalue=0.8112764950097194)"
            ]
          },
          "metadata": {},
          "execution_count": 41
        }
      ],
      "source": [
        "stats.ttest_ind(a = hourly_weekends_df[\"Number of Trips\"], b = hourly_weekdays_df[\"Number of Trips\"])"
      ]
    },
    {
      "cell_type": "markdown",
      "id": "26201be8",
      "metadata": {
        "id": "26201be8"
      },
      "source": [
        "The mean number of trips on weekends is significantly higher than the mean number of trips on weekdays."
      ]
    },
    {
      "cell_type": "markdown",
      "id": "0719cda5",
      "metadata": {
        "id": "0719cda5"
      },
      "source": [
        "# Daily Differences Between Weekdays and Weekends\n",
        "The next thing that I am going to analyze is the difference between weekdays and weekends among the Uber data."
      ]
    },
    {
      "cell_type": "code",
      "execution_count": 51,
      "id": "bf154625",
      "metadata": {
        "id": "bf154625",
        "colab": {
          "base_uri": "https://localhost:8080/"
        },
        "outputId": "4c3bbcce-a6f7-4351-c88f-613f9aca63b0"
      },
      "outputs": [
        {
          "output_type": "stream",
          "name": "stdout",
          "text": [
            "+-------------------+-------+--------+------+----------+---------+--------------------+-------------------+---------+-------+-----+\n",
            "|           datetime|    lat|     lon|  base|locationID|  borough|                zone|            justday|DayOfWeek|Weekend|Count|\n",
            "+-------------------+-------+--------+------+----------+---------+--------------------+-------------------+---------+-------+-----+\n",
            "|2014-04-01 00:00:00|40.7188|-73.9863|B02598|       232|Manhattan|Two Bridges/Sewar...|2014-04-01 00:00:00|        3|Weekday|    1|\n",
            "|2014-04-01 00:00:00|40.7637|  -73.96|B02598|       141|Manhattan|     Lenox Hill West|2014-04-01 00:00:00|        3|Weekday|    1|\n",
            "|2014-04-01 00:00:00|40.7215|-73.9952|B02682|       144|Manhattan| Little Italy/NoLiTa|2014-04-01 00:00:00|        3|Weekday|    1|\n",
            "|2014-04-01 00:00:00|40.7355|-73.9966|B02617|       113|Manhattan|Greenwich Village...|2014-04-01 00:00:00|        3|Weekday|    1|\n",
            "|2014-04-01 00:00:00|40.7184|-73.9601|B02682|       255| Brooklyn|Williamsburg (Nor...|2014-04-01 00:00:00|        3|Weekday|    1|\n",
            "|2014-04-01 00:00:00|40.7556|-73.9874|B02598|       100|Manhattan|    Garment District|2014-04-01 00:00:00|        3|Weekday|    1|\n",
            "|2014-04-01 00:00:00|40.7444|-73.9964|B02598|        90|Manhattan|            Flatiron|2014-04-01 00:00:00|        3|Weekday|    1|\n",
            "|2014-04-01 00:00:00| 40.743|-73.9849|B02617|       234|Manhattan|            Union Sq|2014-04-01 00:00:00|        3|Weekday|    1|\n",
            "|2014-04-01 00:00:00|40.7741|-73.8722|B02598|       138|   Queens|   LaGuardia Airport|2014-04-01 00:00:00|        3|Weekday|    1|\n",
            "|2014-04-01 00:00:00|40.7153|-73.9666|B02682|       256| Brooklyn|Williamsburg (Sou...|2014-04-01 00:00:00|        3|Weekday|    1|\n",
            "|2014-04-01 00:00:00|40.7572|-73.9781|B02598|       161|Manhattan|      Midtown Center|2014-04-01 00:00:00|        3|Weekday|    1|\n",
            "|2014-04-01 00:00:00|40.7308|-73.9808|B02617|       224|Manhattan|Stuy Town/Peter C...|2014-04-01 00:00:00|        3|Weekday|    1|\n",
            "|2014-04-01 00:00:00|40.7445|-73.9985|B02617|        90|Manhattan|            Flatiron|2014-04-01 00:00:00|        3|Weekday|    1|\n",
            "|2014-04-01 00:00:00|40.7193|-74.0041|B02682|       231|Manhattan|TriBeCa/Civic Center|2014-04-01 00:00:00|        3|Weekday|    1|\n",
            "|2014-04-01 00:00:00|40.7613|-73.9857|B02682|       230|Manhattan|Times Sq/Theatre ...|2014-04-01 00:00:00|        3|Weekday|    1|\n",
            "|2014-04-01 00:00:00|40.7556|-73.9873|B02617|       100|Manhattan|    Garment District|2014-04-01 00:00:00|        3|Weekday|    1|\n",
            "|2014-04-01 00:00:00|40.7501|-73.9813|B02682|       170|Manhattan|         Murray Hill|2014-04-01 00:00:00|        3|Weekday|    1|\n",
            "|2014-04-01 00:00:00|40.6421|-74.0157|B02617|       228| Brooklyn|    Sunset Park West|2014-04-01 00:00:00|        3|Weekday|    1|\n",
            "|2014-04-01 00:00:00|40.7145|-73.9922|B02682|       148|Manhattan|     Lower East Side|2014-04-01 00:00:00|        3|Weekday|    1|\n",
            "|2014-04-01 00:00:00|40.8134|-73.9453|B02598|        42|Manhattan|Central Harlem North|2014-04-01 00:00:00|        3|Weekday|    1|\n",
            "+-------------------+-------+--------+------+----------+---------+--------------------+-------------------+---------+-------+-----+\n",
            "only showing top 20 rows\n",
            "\n"
          ]
        }
      ],
      "source": [
        "daily = df.withColumn(\"datetime\", F.date_trunc('dd', F.col('datetime')))\n",
        "daily.show()"
      ]
    },
    {
      "cell_type": "code",
      "execution_count": 52,
      "id": "13aa9288",
      "metadata": {
        "id": "13aa9288",
        "colab": {
          "base_uri": "https://localhost:8080/"
        },
        "outputId": "f8f546a6-b76d-4ef6-90f0-4a2c624fe4dc"
      },
      "outputs": [
        {
          "output_type": "stream",
          "name": "stdout",
          "text": [
            "+-------------------+-------+------------------+\n",
            "|                Day|Weekend|   Number of Trips|\n",
            "+-------------------+-------+------------------+\n",
            "|2014-04-22 00:00:00|Weekday| 45.90934065934066|\n",
            "|2014-05-06 00:00:00|Weekday|52.362637362637365|\n",
            "|2014-04-24 00:00:00|Weekday| 63.21153846153846|\n",
            "|2014-04-29 00:00:00|Weekday|61.997252747252745|\n",
            "|2014-05-07 00:00:00|Weekday|59.285714285714285|\n",
            "|2014-06-17 00:00:00|Weekday| 59.01648351648352|\n",
            "|2014-04-02 00:00:00|Weekday| 47.19505494505494|\n",
            "|2014-06-11 00:00:00|Weekday|  69.5934065934066|\n",
            "|2014-06-25 00:00:00|Weekday|  71.6565934065934|\n",
            "|2014-05-31 00:00:00|Weekend|56.870879120879124|\n",
            "|2014-04-03 00:00:00|Weekday| 55.94230769230769|\n",
            "|2014-05-10 00:00:00|Weekend| 60.55769230769231|\n",
            "|2014-06-18 00:00:00|Weekday| 66.62087912087912|\n",
            "|2014-06-10 00:00:00|Weekday|62.032967032967036|\n",
            "|2014-06-14 00:00:00|Weekend|51.777472527472526|\n",
            "|2014-04-28 00:00:00|Weekday|41.777472527472526|\n",
            "|2014-05-18 00:00:00|Weekend|44.285714285714285|\n",
            "|2014-05-21 00:00:00|Weekday|63.667582417582416|\n",
            "|2014-05-09 00:00:00|Weekday| 71.42032967032966|\n",
            "|2014-06-01 00:00:00|Weekend|42.612637362637365|\n",
            "+-------------------+-------+------------------+\n",
            "only showing top 20 rows\n",
            "\n"
          ]
        }
      ],
      "source": [
        "daily = daily.groupBy(F.col(\"datetime\").alias(\"Day\"), F.col(\"Weekend\")).agg(F.sum(\"Count\").alias(\"Number of Trips\"))\n",
        "daily = daily.withColumn(\"Number of Trips\", F.col(\"Number of Trips\") / num_days)\n",
        "daily.show()"
      ]
    },
    {
      "cell_type": "code",
      "execution_count": 57,
      "id": "a4bae139",
      "metadata": {
        "id": "a4bae139"
      },
      "outputs": [],
      "source": [
        ""
      ]
    },
    {
      "cell_type": "code",
      "execution_count": 53,
      "id": "d2da1452",
      "metadata": {
        "id": "d2da1452"
      },
      "outputs": [],
      "source": [
        "daily_df = daily.toPandas()"
      ]
    },
    {
      "cell_type": "code",
      "execution_count": 54,
      "id": "b5721b8e",
      "metadata": {
        "id": "b5721b8e",
        "colab": {
          "base_uri": "https://localhost:8080/",
          "height": 324
        },
        "outputId": "f5d67218-dbe2-4afd-aa35-bcaf2b21a8c9"
      },
      "outputs": [
        {
          "output_type": "display_data",
          "data": {
            "text/plain": [
              "<Figure size 432x288 with 1 Axes>"
            ],
            "image/png": "[encoded data removed]"
          },
          "metadata": {
            "needs_background": "light"
          }
        }
      ],
      "source": [
        "sns.lineplot(data=daily_df, x=\"Day\", y = \"Number of Trips\", hue=\"Weekend\")\n",
        "plt.title(\"Average Number of Uber Trips per Day\")\n",
        "plt.show()"
      ]
    },
    {
      "cell_type": "code",
      "execution_count": 55,
      "id": "d0f02624",
      "metadata": {
        "id": "d0f02624",
        "colab": {
          "base_uri": "https://localhost:8080/",
          "height": 206
        },
        "outputId": "1c47b707-87fb-4167-abba-5dcce21e9199"
      },
      "outputs": [
        {
          "output_type": "execute_result",
          "data": {
            "text/plain": [
              "          Day  Weekend  Number of Trips\n",
              "9  2014-05-31  Weekend        56.870879\n",
              "11 2014-05-10  Weekend        60.557692\n",
              "14 2014-06-14  Weekend        51.777473\n",
              "16 2014-05-18  Weekend        44.285714\n",
              "19 2014-06-01  Weekend        42.612637"
            ],
            "text/html": [
              "\n",
              "  <div id=\"df-f6906444-e410-4783-baba-49787e60f904\">\n",
              "    <div class=\"colab-df-container\">\n",
              "      <div>\n",
              "<style scoped>\n",
              "    .dataframe tbody tr th:only-of-type {\n",
              "        vertical-align: middle;\n",
              "    }\n",
              "\n",
              "    .dataframe tbody tr th {\n",
              "        vertical-align: top;\n",
              "    }\n",
              "\n",
              "    .dataframe thead th {\n",
              "        text-align: right;\n",
              "    }\n",
              "</style>\n",
              "<table border=\"1\" class=\"dataframe\">\n",
              "  <thead>\n",
              "    <tr style=\"text-align: right;\">\n",
              "      <th></th>\n",
              "      <th>Day</th>\n",
              "      <th>Weekend</th>\n",
              "      <th>Number of Trips</th>\n",
              "    </tr>\n",
              "  </thead>\n",
              "  <tbody>\n",
              "    <tr>\n",
              "      <th>9</th>\n",
              "      <td>2014-05-31</td>\n",
              "      <td>Weekend</td>\n",
              "      <td>56.870879</td>\n",
              "    </tr>\n",
              "    <tr>\n",
              "      <th>11</th>\n",
              "      <td>2014-05-10</td>\n",
              "      <td>Weekend</td>\n",
              "      <td>60.557692</td>\n",
              "    </tr>\n",
              "    <tr>\n",
              "      <th>14</th>\n",
              "      <td>2014-06-14</td>\n",
              "      <td>Weekend</td>\n",
              "      <td>51.777473</td>\n",
              "    </tr>\n",
              "    <tr>\n",
              "      <th>16</th>\n",
              "      <td>2014-05-18</td>\n",
              "      <td>Weekend</td>\n",
              "      <td>44.285714</td>\n",
              "    </tr>\n",
              "    <tr>\n",
              "      <th>19</th>\n",
              "      <td>2014-06-01</td>\n",
              "      <td>Weekend</td>\n",
              "      <td>42.612637</td>\n",
              "    </tr>\n",
              "  </tbody>\n",
              "</table>\n",
              "</div>\n",
              "      <button class=\"colab-df-convert\" onclick=\"convertToInteractive('df-f6906444-e410-4783-baba-49787e60f904')\"\n",
              "              title=\"Convert this dataframe to an interactive table.\"\n",
              "              style=\"display:none;\">\n",
              "        \n",
              "  <svg xmlns=\"http://www.w3.org/2000/svg\" height=\"24px\"viewBox=\"0 0 24 24\"\n",
              "       width=\"24px\">\n",
              "    <path d=\"M0 0h24v24H0V0z\" fill=\"none\"/>\n",
              "    <path d=\"M18.56 5.44l.94 2.06.94-2.06 2.06-.94-2.06-.94-.94-2.06-.94 2.06-2.06.94zm-11 1L8.5 8.5l.94-2.06 2.06-.94-2.06-.94L8.5 2.5l-.94 2.06-2.06.94zm10 10l.94 2.06.94-2.06 2.06-.94-2.06-.94-.94-2.06-.94 2.06-2.06.94z\"/><path d=\"M17.41 7.96l-1.37-1.37c-.4-.4-.92-.59-1.43-.59-.52 0-1.04.2-1.43.59L10.3 9.45l-7.72 7.72c-.78.78-.78 2.05 0 2.83L4 21.41c.39.39.9.59 1.41.59.51 0 1.02-.2 1.41-.59l7.78-7.78 2.81-2.81c.8-.78.8-2.07 0-2.86zM5.41 20L4 18.59l7.72-7.72 1.47 1.35L5.41 20z\"/>\n",
              "  </svg>\n",
              "      </button>\n",
              "      \n",
              "  <style>\n",
              "    .colab-df-container {\n",
              "      display:flex;\n",
              "      flex-wrap:wrap;\n",
              "      gap: 12px;\n",
              "    }\n",
              "\n",
              "    .colab-df-convert {\n",
              "      background-color: #E8F0FE;\n",
              "      border: none;\n",
              "      border-radius: 50%;\n",
              "      cursor: pointer;\n",
              "      display: none;\n",
              "      fill: #1967D2;\n",
              "      height: 32px;\n",
              "      padding: 0 0 0 0;\n",
              "      width: 32px;\n",
              "    }\n",
              "\n",
              "    .colab-df-convert:hover {\n",
              "      background-color: #E2EBFA;\n",
              "      box-shadow: 0px 1px 2px rgba(60, 64, 67, 0.3), 0px 1px 3px 1px rgba(60, 64, 67, 0.15);\n",
              "      fill: #174EA6;\n",
              "    }\n",
              "\n",
              "    [theme=dark] .colab-df-convert {\n",
              "      background-color: #3B4455;\n",
              "      fill: #D2E3FC;\n",
              "    }\n",
              "\n",
              "    [theme=dark] .colab-df-convert:hover {\n",
              "      background-color: #434B5C;\n",
              "      box-shadow: 0px 1px 3px 1px rgba(0, 0, 0, 0.15);\n",
              "      filter: drop-shadow(0px 1px 2px rgba(0, 0, 0, 0.3));\n",
              "      fill: #FFFFFF;\n",
              "    }\n",
              "  </style>\n",
              "\n",
              "      <script>\n",
              "        const buttonEl =\n",
              "          document.querySelector('#df-f6906444-e410-4783-baba-49787e60f904 button.colab-df-convert');\n",
              "        buttonEl.style.display =\n",
              "          google.colab.kernel.accessAllowed ? 'block' : 'none';\n",
              "\n",
              "        async function convertToInteractive(key) {\n",
              "          const element = document.querySelector('#df-f6906444-e410-4783-baba-49787e60f904');\n",
              "          const dataTable =\n",
              "            await google.colab.kernel.invokeFunction('convertToInteractive',\n",
              "                                                     [key], {});\n",
              "          if (!dataTable) return;\n",
              "\n",
              "          const docLinkHtml = 'Like what you see? Visit the ' +\n",
              "            '<a target=\"_blank\" href=https://colab.research.google.com/notebooks/data_table.ipynb>data table notebook</a>'\n",
              "            + ' to learn more about interactive tables.';\n",
              "          element.innerHTML = '';\n",
              "          dataTable['output_type'] = 'display_data';\n",
              "          await google.colab.output.renderOutput(dataTable, element);\n",
              "          const docLink = document.createElement('div');\n",
              "          docLink.innerHTML = docLinkHtml;\n",
              "          element.appendChild(docLink);\n",
              "        }\n",
              "      </script>\n",
              "    </div>\n",
              "  </div>\n",
              "  "
            ]
          },
          "metadata": {},
          "execution_count": 55
        }
      ],
      "source": [
        "daily_weekends_df = daily_df[daily_df[\"Weekend\"] == \"Weekend\"]\n",
        "daily_weekends_df.head()"
      ]
    },
    {
      "cell_type": "code",
      "execution_count": 56,
      "id": "50f84ec1",
      "metadata": {
        "id": "50f84ec1",
        "colab": {
          "base_uri": "https://localhost:8080/",
          "height": 206
        },
        "outputId": "67997db1-d0c3-4931-e9c6-381a8f33c579"
      },
      "outputs": [
        {
          "output_type": "execute_result",
          "data": {
            "text/plain": [
              "         Day  Weekend  Number of Trips\n",
              "0 2014-04-22  Weekday        45.909341\n",
              "1 2014-05-06  Weekday        52.362637\n",
              "2 2014-04-24  Weekday        63.211538\n",
              "3 2014-04-29  Weekday        61.997253\n",
              "4 2014-05-07  Weekday        59.285714"
            ],
            "text/html": [
              "\n",
              "  <div id=\"df-70807d4e-d112-41bc-a5f2-1b5fa66f9935\">\n",
              "    <div class=\"colab-df-container\">\n",
              "      <div>\n",
              "<style scoped>\n",
              "    .dataframe tbody tr th:only-of-type {\n",
              "        vertical-align: middle;\n",
              "    }\n",
              "\n",
              "    .dataframe tbody tr th {\n",
              "        vertical-align: top;\n",
              "    }\n",
              "\n",
              "    .dataframe thead th {\n",
              "        text-align: right;\n",
              "    }\n",
              "</style>\n",
              "<table border=\"1\" class=\"dataframe\">\n",
              "  <thead>\n",
              "    <tr style=\"text-align: right;\">\n",
              "      <th></th>\n",
              "      <th>Day</th>\n",
              "      <th>Weekend</th>\n",
              "      <th>Number of Trips</th>\n",
              "    </tr>\n",
              "  </thead>\n",
              "  <tbody>\n",
              "    <tr>\n",
              "      <th>0</th>\n",
              "      <td>2014-04-22</td>\n",
              "      <td>Weekday</td>\n",
              "      <td>45.909341</td>\n",
              "    </tr>\n",
              "    <tr>\n",
              "      <th>1</th>\n",
              "      <td>2014-05-06</td>\n",
              "      <td>Weekday</td>\n",
              "      <td>52.362637</td>\n",
              "    </tr>\n",
              "    <tr>\n",
              "      <th>2</th>\n",
              "      <td>2014-04-24</td>\n",
              "      <td>Weekday</td>\n",
              "      <td>63.211538</td>\n",
              "    </tr>\n",
              "    <tr>\n",
              "      <th>3</th>\n",
              "      <td>2014-04-29</td>\n",
              "      <td>Weekday</td>\n",
              "      <td>61.997253</td>\n",
              "    </tr>\n",
              "    <tr>\n",
              "      <th>4</th>\n",
              "      <td>2014-05-07</td>\n",
              "      <td>Weekday</td>\n",
              "      <td>59.285714</td>\n",
              "    </tr>\n",
              "  </tbody>\n",
              "</table>\n",
              "</div>\n",
              "      <button class=\"colab-df-convert\" onclick=\"convertToInteractive('df-70807d4e-d112-41bc-a5f2-1b5fa66f9935')\"\n",
              "              title=\"Convert this dataframe to an interactive table.\"\n",
              "              style=\"display:none;\">\n",
              "        \n",
              "  <svg xmlns=\"http://www.w3.org/2000/svg\" height=\"24px\"viewBox=\"0 0 24 24\"\n",
              "       width=\"24px\">\n",
              "    <path d=\"M0 0h24v24H0V0z\" fill=\"none\"/>\n",
              "    <path d=\"M18.56 5.44l.94 2.06.94-2.06 2.06-.94-2.06-.94-.94-2.06-.94 2.06-2.06.94zm-11 1L8.5 8.5l.94-2.06 2.06-.94-2.06-.94L8.5 2.5l-.94 2.06-2.06.94zm10 10l.94 2.06.94-2.06 2.06-.94-2.06-.94-.94-2.06-.94 2.06-2.06.94z\"/><path d=\"M17.41 7.96l-1.37-1.37c-.4-.4-.92-.59-1.43-.59-.52 0-1.04.2-1.43.59L10.3 9.45l-7.72 7.72c-.78.78-.78 2.05 0 2.83L4 21.41c.39.39.9.59 1.41.59.51 0 1.02-.2 1.41-.59l7.78-7.78 2.81-2.81c.8-.78.8-2.07 0-2.86zM5.41 20L4 18.59l7.72-7.72 1.47 1.35L5.41 20z\"/>\n",
              "  </svg>\n",
              "      </button>\n",
              "      \n",
              "  <style>\n",
              "    .colab-df-container {\n",
              "      display:flex;\n",
              "      flex-wrap:wrap;\n",
              "      gap: 12px;\n",
              "    }\n",
              "\n",
              "    .colab-df-convert {\n",
              "      background-color: #E8F0FE;\n",
              "      border: none;\n",
              "      border-radius: 50%;\n",
              "      cursor: pointer;\n",
              "      display: none;\n",
              "      fill: #1967D2;\n",
              "      height: 32px;\n",
              "      padding: 0 0 0 0;\n",
              "      width: 32px;\n",
              "    }\n",
              "\n",
              "    .colab-df-convert:hover {\n",
              "      background-color: #E2EBFA;\n",
              "      box-shadow: 0px 1px 2px rgba(60, 64, 67, 0.3), 0px 1px 3px 1px rgba(60, 64, 67, 0.15);\n",
              "      fill: #174EA6;\n",
              "    }\n",
              "\n",
              "    [theme=dark] .colab-df-convert {\n",
              "      background-color: #3B4455;\n",
              "      fill: #D2E3FC;\n",
              "    }\n",
              "\n",
              "    [theme=dark] .colab-df-convert:hover {\n",
              "      background-color: #434B5C;\n",
              "      box-shadow: 0px 1px 3px 1px rgba(0, 0, 0, 0.15);\n",
              "      filter: drop-shadow(0px 1px 2px rgba(0, 0, 0, 0.3));\n",
              "      fill: #FFFFFF;\n",
              "    }\n",
              "  </style>\n",
              "\n",
              "      <script>\n",
              "        const buttonEl =\n",
              "          document.querySelector('#df-70807d4e-d112-41bc-a5f2-1b5fa66f9935 button.colab-df-convert');\n",
              "        buttonEl.style.display =\n",
              "          google.colab.kernel.accessAllowed ? 'block' : 'none';\n",
              "\n",
              "        async function convertToInteractive(key) {\n",
              "          const element = document.querySelector('#df-70807d4e-d112-41bc-a5f2-1b5fa66f9935');\n",
              "          const dataTable =\n",
              "            await google.colab.kernel.invokeFunction('convertToInteractive',\n",
              "                                                     [key], {});\n",
              "          if (!dataTable) return;\n",
              "\n",
              "          const docLinkHtml = 'Like what you see? Visit the ' +\n",
              "            '<a target=\"_blank\" href=https://colab.research.google.com/notebooks/data_table.ipynb>data table notebook</a>'\n",
              "            + ' to learn more about interactive tables.';\n",
              "          element.innerHTML = '';\n",
              "          dataTable['output_type'] = 'display_data';\n",
              "          await google.colab.output.renderOutput(dataTable, element);\n",
              "          const docLink = document.createElement('div');\n",
              "          docLink.innerHTML = docLinkHtml;\n",
              "          element.appendChild(docLink);\n",
              "        }\n",
              "      </script>\n",
              "    </div>\n",
              "  </div>\n",
              "  "
            ]
          },
          "metadata": {},
          "execution_count": 56
        }
      ],
      "source": [
        "daily_weekdays_df = daily_df[daily_df[\"Weekend\"] == \"Weekday\"]\n",
        "daily_weekdays_df.head()"
      ]
    },
    {
      "cell_type": "code",
      "execution_count": 57,
      "id": "4535012d",
      "metadata": {
        "id": "4535012d",
        "colab": {
          "base_uri": "https://localhost:8080/"
        },
        "outputId": "f34c4049-9b04-4ccf-f53c-fe59c65c227c"
      },
      "outputs": [
        {
          "output_type": "stream",
          "name": "stdout",
          "text": [
            "r =  0.896882254363296 \n",
            " p =  2.1369127441209886e-93 \n",
            " s =  0.020143173938158405\n"
          ]
        }
      ],
      "source": [
        "y=np.array(daily_weekdays_df['Number of Trips'].dropna().values, dtype=float)\n",
        "x=np.array(pd.to_datetime(daily_weekdays_df['Day'].dropna()).index.values, dtype=float)\n",
        "slope, intercept, r_value, p_value, std_err =stats.linregress(x,y)\n",
        "xf = np.linspace(min(x),max(x),len(x))\n",
        "xf1 = xf.copy()\n",
        "xf1 = pd.to_datetime(xf1)\n",
        "yf = (slope*xf)+intercept\n",
        "print('r = ', r_value, '\\n', 'p = ', p_value, '\\n', 's = ', std_err)"
      ]
    },
    {
      "cell_type": "code",
      "execution_count": 58,
      "id": "cbca8c71",
      "metadata": {
        "id": "cbca8c71",
        "colab": {
          "base_uri": "https://localhost:8080/"
        },
        "outputId": "ea80c19a-28ac-4695-99e2-8b51f990e885"
      },
      "outputs": [
        {
          "output_type": "execute_result",
          "data": {
            "text/plain": [
              "(0.6561245611770413, 20.754074138657103)"
            ]
          },
          "metadata": {},
          "execution_count": 58
        }
      ],
      "source": [
        "(slope, intercept)"
      ]
    },
    {
      "cell_type": "code",
      "execution_count": 59,
      "id": "e3559d55",
      "metadata": {
        "id": "e3559d55",
        "colab": {
          "base_uri": "https://localhost:8080/",
          "height": 284
        },
        "outputId": "925cfd97-7afe-4f52-88ce-c9557b252652"
      },
      "outputs": [
        {
          "output_type": "display_data",
          "data": {
            "text/plain": [
              "<Figure size 432x288 with 1 Axes>"
            ],
            "image/png": "[encoded data removed]"
          },
          "metadata": {
            "needs_background": "light"
          }
        }
      ],
      "source": [
        "sns.lineplot(x=daily_weekdays_df[\"Day\"], y=yf, palette=\"viridian\")\n",
        "sns.lineplot(x=daily_weekdays_df[\"Day\"], y=daily_weekdays_df[\"Number of Trips\"])\n",
        "plt.show()"
      ]
    },
    {
      "cell_type": "markdown",
      "id": "1b3be2fd",
      "metadata": {
        "id": "1b3be2fd"
      },
      "source": [
        "We can expect that for every new weekday, there will be 65 more Uber rides."
      ]
    },
    {
      "cell_type": "code",
      "execution_count": 60,
      "id": "947cdc44",
      "metadata": {
        "id": "947cdc44",
        "colab": {
          "base_uri": "https://localhost:8080/"
        },
        "outputId": "6df66e14-7cc4-4b2c-d4ca-d60a7ebf159d"
      },
      "outputs": [
        {
          "output_type": "stream",
          "name": "stdout",
          "text": [
            "r =  0.8933800127628869 \n",
            " p =  7.758528699215706e-128 \n",
            " s =  0.01844661956460077\n"
          ]
        }
      ],
      "source": [
        "y=np.array(daily_df['Number of Trips'].dropna().values, dtype=float)\n",
        "x=np.array(pd.to_datetime(daily_df['Day'].dropna()).index.values, dtype=float)\n",
        "slope, intercept, r_value, p_value, std_err =stats.linregress(x,y)\n",
        "xf = np.linspace(min(x),max(x),len(x))\n",
        "xf1 = xf.copy()\n",
        "xf1 = pd.to_datetime(xf1)\n",
        "yf = (slope*xf)+intercept\n",
        "print('r = ', r_value, '\\n', 'p = ', p_value, '\\n', 's = ', std_err)"
      ]
    },
    {
      "cell_type": "code",
      "execution_count": 61,
      "id": "03dfc0de",
      "metadata": {
        "id": "03dfc0de",
        "colab": {
          "base_uri": "https://localhost:8080/",
          "height": 284
        },
        "outputId": "0a87fd79-f1b9-436f-814e-b6125b3923bf"
      },
      "outputs": [
        {
          "output_type": "display_data",
          "data": {
            "text/plain": [
              "<Figure size 432x288 with 1 Axes>"
            ],
            "image/png": "[encoded data removed]"
          },
          "metadata": {
            "needs_background": "light"
          }
        }
      ],
      "source": [
        "sns.lineplot(x=daily_df[\"Day\"], y=yf)\n",
        "sns.lineplot(x=daily_df[\"Day\"], y=daily_df[\"Number of Trips\"], palette=['r', 'g'])\n",
        "plt.show()"
      ]
    },
    {
      "cell_type": "code",
      "execution_count": null,
      "id": "da8b5533",
      "metadata": {
        "id": "da8b5533"
      },
      "outputs": [],
      "source": [
        ""
      ]
    },
    {
      "cell_type": "code",
      "execution_count": null,
      "id": "75350867",
      "metadata": {
        "id": "75350867"
      },
      "outputs": [],
      "source": [
        ""
      ]
    }
  ],
  "metadata": {
    "kernelspec": {
      "display_name": "Python 3 (ipykernel)",
      "language": "python",
      "name": "python3"
    },
    "language_info": {
      "codemirror_mode": {
        "name": "ipython",
        "version": 3
      },
      "file_extension": ".py",
      "mimetype": "text/x-python",
      "name": "python",
      "nbconvert_exporter": "python",
      "pygments_lexer": "ipython3",
      "version": "3.8.6"
    },
    "colab": {
      "name": "Analyzing Weekends versus Weekdays Google Colab Scaled.ipynb",
      "provenance": [],
      "collapsed_sections": [],
      "include_colab_link": true
    }
  },
  "nbformat": 4,
  "nbformat_minor": 5
}