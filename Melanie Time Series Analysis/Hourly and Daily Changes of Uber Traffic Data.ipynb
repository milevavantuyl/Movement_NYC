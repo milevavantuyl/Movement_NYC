{
 "cells": [
  {
   "cell_type": "markdown",
   "id": "d3d9bbfa",
   "metadata": {},
   "source": [
    "# Introduction\n",
    "In this notebook, I will be analyzing how traffic data changes depending on the hour and the particular day. For my other analyses, see the other notebooks in the directory."
   ]
  },
  {
   "cell_type": "code",
   "execution_count": 1,
   "id": "af02581a",
   "metadata": {},
   "outputs": [],
   "source": [
    "from pyspark.sql import SparkSession, SQLContext\n",
    "from pyspark.ml.linalg import Vectors\n",
    "from pyspark.ml.regression import LinearRegression\n",
    "from pyspark.ml.feature import VectorAssembler\n",
    "import pyspark.sql.types as T\n",
    "import pyspark\n",
    "import pyspark.sql.functions as F\n",
    "import seaborn as sns\n",
    "import glob\n",
    "import os\n",
    "import matplotlib.pyplot as plt\n",
    "%matplotlib inline"
   ]
  },
  {
   "cell_type": "code",
   "execution_count": 2,
   "id": "31cce7fd",
   "metadata": {},
   "outputs": [],
   "source": [
    "plt.rcParams[\"axes.titlesize\"] = 40\n",
    "plt.rcParams[\"axes.labelsize\"] = 15"
   ]
  },
  {
   "cell_type": "markdown",
   "id": "9a98a732",
   "metadata": {},
   "source": [
    "# Part 1: Setting Up the Notebook\n",
    "The first step will be to load in the data. Since the data is quite large, the data wrangling is done in PySpark."
   ]
  },
  {
   "cell_type": "code",
   "execution_count": 3,
   "id": "16677d66",
   "metadata": {},
   "outputs": [
    {
     "data": {
      "text/plain": [
       "['../data/uber/uber-trip-data/uber-raw-data-jun14.csv',\n",
       " '../data/uber/uber-trip-data/uber-raw-data-may14.csv',\n",
       " '../data/uber/uber-trip-data/taxi-zone-lookup.csv',\n",
       " '../data/uber/uber-trip-data/uber-raw-data-jul14.csv',\n",
       " '../data/uber/uber-trip-data/uber-raw-data-sep14.csv',\n",
       " '../data/uber/uber-trip-data/uber-raw-data-apr14.csv',\n",
       " '../data/uber/uber-trip-data/uber-raw-data-aug14.csv']"
      ]
     },
     "execution_count": 3,
     "metadata": {},
     "output_type": "execute_result"
    }
   ],
   "source": [
    "data_dir = \"../data/uber/uber-trip-data/\"\n",
    "uber_files = glob.glob(data_dir + '*.csv') \n",
    "uber_files"
   ]
  },
  {
   "cell_type": "code",
   "execution_count": 4,
   "id": "fb1a3a5a",
   "metadata": {},
   "outputs": [],
   "source": [
    "uber_files.remove('../data/uber/uber-trip-data/taxi-zone-lookup.csv')"
   ]
  },
  {
   "cell_type": "code",
   "execution_count": 5,
   "id": "754682dd",
   "metadata": {},
   "outputs": [
    {
     "data": {
      "text/plain": [
       "['../data/uber/uber-trip-data/uber-raw-data-jun14.csv',\n",
       " '../data/uber/uber-trip-data/uber-raw-data-may14.csv',\n",
       " '../data/uber/uber-trip-data/uber-raw-data-jul14.csv',\n",
       " '../data/uber/uber-trip-data/uber-raw-data-sep14.csv',\n",
       " '../data/uber/uber-trip-data/uber-raw-data-apr14.csv',\n",
       " '../data/uber/uber-trip-data/uber-raw-data-aug14.csv']"
      ]
     },
     "execution_count": 5,
     "metadata": {},
     "output_type": "execute_result"
    }
   ],
   "source": [
    "uber_files"
   ]
  },
  {
   "cell_type": "code",
   "execution_count": 6,
   "id": "db2f1b33",
   "metadata": {},
   "outputs": [
    {
     "name": "stderr",
     "output_type": "stream",
     "text": [
      "22/05/09 18:26:40 WARN Utils: Your hostname, DSGPU05 resolves to a loopback address: 127.0.1.1; using 10.10.11.64 instead (on interface eno1)\n",
      "22/05/09 18:26:40 WARN Utils: Set SPARK_LOCAL_IP if you need to bind to another address\n",
      "Using Spark's default log4j profile: org/apache/spark/log4j-defaults.properties\n",
      "Setting default log level to \"WARN\".\n",
      "To adjust logging level use sc.setLogLevel(newLevel). For SparkR, use setLogLevel(newLevel).\n",
      "22/05/09 18:26:41 WARN NativeCodeLoader: Unable to load native-hadoop library for your platform... using builtin-java classes where applicable\n"
     ]
    }
   ],
   "source": [
    "spark = SparkSession.builder \\\n",
    "    .master(\"local\") \\\n",
    "    .appName(\"Word Count\") \\\n",
    "    .config(\"spark.some.config.option\", \"some-value\") \\\n",
    "    .getOrCreate()"
   ]
  },
  {
   "cell_type": "code",
   "execution_count": 7,
   "id": "9b9550d9",
   "metadata": {},
   "outputs": [
    {
     "name": "stderr",
     "output_type": "stream",
     "text": [
      "                                                                                \r"
     ]
    }
   ],
   "source": [
    "df = spark.read.csv(uber_files, header=True)"
   ]
  },
  {
   "cell_type": "code",
   "execution_count": 8,
   "id": "39e38e11",
   "metadata": {},
   "outputs": [
    {
     "name": "stdout",
     "output_type": "stream",
     "text": [
      "+----------------+-------+--------+------+\n",
      "|       Date/Time|    Lat|     Lon|  Base|\n",
      "+----------------+-------+--------+------+\n",
      "|9/1/2014 0:01:00|40.2201|-74.0021|B02512|\n",
      "|9/1/2014 0:01:00|  40.75|-74.0027|B02512|\n",
      "|9/1/2014 0:03:00|40.7559|-73.9864|B02512|\n",
      "|9/1/2014 0:06:00| 40.745|-73.9889|B02512|\n",
      "|9/1/2014 0:11:00|40.8145|-73.9444|B02512|\n",
      "|9/1/2014 0:12:00|40.6735|-73.9918|B02512|\n",
      "|9/1/2014 0:15:00|40.7471|-73.6472|B02512|\n",
      "|9/1/2014 0:16:00|40.6613|-74.2691|B02512|\n",
      "|9/1/2014 0:32:00|40.3745|-73.9999|B02512|\n",
      "|9/1/2014 0:33:00|40.7633|-73.9773|B02512|\n",
      "|9/1/2014 0:33:00|40.7467|-73.6131|B02512|\n",
      "|9/1/2014 0:37:00|40.8105|  -73.96|B02512|\n",
      "|9/1/2014 0:38:00| 40.679|-74.0111|B02512|\n",
      "|9/1/2014 0:39:00|40.4023|-73.9839|B02512|\n",
      "|9/1/2014 0:48:00|40.7378|-74.0395|B02512|\n",
      "|9/1/2014 0:48:00|40.7214|-73.9884|B02512|\n",
      "|9/1/2014 0:49:00|40.8646|-73.9081|B02512|\n",
      "|9/1/2014 1:08:00|40.7398|-74.0061|B02512|\n",
      "|9/1/2014 1:17:00|40.6793|-74.0116|B02512|\n",
      "|9/1/2014 1:19:00|40.7328|-73.9875|B02512|\n",
      "+----------------+-------+--------+------+\n",
      "only showing top 20 rows\n",
      "\n"
     ]
    }
   ],
   "source": [
    "df.show()"
   ]
  },
  {
   "cell_type": "code",
   "execution_count": 9,
   "id": "6c029d23",
   "metadata": {},
   "outputs": [],
   "source": [
    "df = df.withColumn(\"Date/Time\", F.to_timestamp(F.col(\"Date/Time\"), \"M/d/yyyy H:mm:ss\"))"
   ]
  },
  {
   "cell_type": "code",
   "execution_count": null,
   "id": "67a22080",
   "metadata": {},
   "outputs": [],
   "source": []
  },
  {
   "cell_type": "code",
   "execution_count": 10,
   "id": "da77e8bf",
   "metadata": {},
   "outputs": [
    {
     "name": "stdout",
     "output_type": "stream",
     "text": [
      "+-------------------+-------+--------+------+\n",
      "|          Date/Time|    Lat|     Lon|  Base|\n",
      "+-------------------+-------+--------+------+\n",
      "|2014-09-01 00:01:00|40.2201|-74.0021|B02512|\n",
      "|2014-09-01 00:01:00|  40.75|-74.0027|B02512|\n",
      "|2014-09-01 00:03:00|40.7559|-73.9864|B02512|\n",
      "|2014-09-01 00:06:00| 40.745|-73.9889|B02512|\n",
      "|2014-09-01 00:11:00|40.8145|-73.9444|B02512|\n",
      "|2014-09-01 00:12:00|40.6735|-73.9918|B02512|\n",
      "|2014-09-01 00:15:00|40.7471|-73.6472|B02512|\n",
      "|2014-09-01 00:16:00|40.6613|-74.2691|B02512|\n",
      "|2014-09-01 00:32:00|40.3745|-73.9999|B02512|\n",
      "|2014-09-01 00:33:00|40.7633|-73.9773|B02512|\n",
      "|2014-09-01 00:33:00|40.7467|-73.6131|B02512|\n",
      "|2014-09-01 00:37:00|40.8105|  -73.96|B02512|\n",
      "|2014-09-01 00:38:00| 40.679|-74.0111|B02512|\n",
      "|2014-09-01 00:39:00|40.4023|-73.9839|B02512|\n",
      "|2014-09-01 00:48:00|40.7378|-74.0395|B02512|\n",
      "|2014-09-01 00:48:00|40.7214|-73.9884|B02512|\n",
      "|2014-09-01 00:49:00|40.8646|-73.9081|B02512|\n",
      "|2014-09-01 01:08:00|40.7398|-74.0061|B02512|\n",
      "|2014-09-01 01:17:00|40.6793|-74.0116|B02512|\n",
      "|2014-09-01 01:19:00|40.7328|-73.9875|B02512|\n",
      "+-------------------+-------+--------+------+\n",
      "only showing top 20 rows\n",
      "\n"
     ]
    }
   ],
   "source": [
    "df.show()"
   ]
  },
  {
   "cell_type": "code",
   "execution_count": 11,
   "id": "432e1652",
   "metadata": {},
   "outputs": [
    {
     "name": "stdout",
     "output_type": "stream",
     "text": [
      "+-------------------+-------+--------+------+-----+\n",
      "|          Date/Time|    Lat|     Lon|  Base|Count|\n",
      "+-------------------+-------+--------+------+-----+\n",
      "|2014-09-01 00:01:00|40.2201|-74.0021|B02512|    1|\n",
      "|2014-09-01 00:01:00|  40.75|-74.0027|B02512|    1|\n",
      "|2014-09-01 00:03:00|40.7559|-73.9864|B02512|    1|\n",
      "|2014-09-01 00:06:00| 40.745|-73.9889|B02512|    1|\n",
      "|2014-09-01 00:11:00|40.8145|-73.9444|B02512|    1|\n",
      "|2014-09-01 00:12:00|40.6735|-73.9918|B02512|    1|\n",
      "|2014-09-01 00:15:00|40.7471|-73.6472|B02512|    1|\n",
      "|2014-09-01 00:16:00|40.6613|-74.2691|B02512|    1|\n",
      "|2014-09-01 00:32:00|40.3745|-73.9999|B02512|    1|\n",
      "|2014-09-01 00:33:00|40.7633|-73.9773|B02512|    1|\n",
      "|2014-09-01 00:33:00|40.7467|-73.6131|B02512|    1|\n",
      "|2014-09-01 00:37:00|40.8105|  -73.96|B02512|    1|\n",
      "|2014-09-01 00:38:00| 40.679|-74.0111|B02512|    1|\n",
      "|2014-09-01 00:39:00|40.4023|-73.9839|B02512|    1|\n",
      "|2014-09-01 00:48:00|40.7378|-74.0395|B02512|    1|\n",
      "|2014-09-01 00:48:00|40.7214|-73.9884|B02512|    1|\n",
      "|2014-09-01 00:49:00|40.8646|-73.9081|B02512|    1|\n",
      "|2014-09-01 01:08:00|40.7398|-74.0061|B02512|    1|\n",
      "|2014-09-01 01:17:00|40.6793|-74.0116|B02512|    1|\n",
      "|2014-09-01 01:19:00|40.7328|-73.9875|B02512|    1|\n",
      "+-------------------+-------+--------+------+-----+\n",
      "only showing top 20 rows\n",
      "\n"
     ]
    }
   ],
   "source": [
    "df = df.withColumn(\"Count\", F.lit(1))\n",
    "df.show()"
   ]
  },
  {
   "cell_type": "code",
   "execution_count": 12,
   "id": "ad8b6b06",
   "metadata": {},
   "outputs": [],
   "source": [
    "df = df.withColumn(\"hour\", F.hour(df[\"Date/Time\"]))"
   ]
  },
  {
   "cell_type": "code",
   "execution_count": 13,
   "id": "dbfb83df",
   "metadata": {},
   "outputs": [],
   "source": [
    "hourly = df.groupBy(F.hour(\"Date/Time\").alias(\"Time of Day\")).agg(F.sum(\"Count\").alias(\"Number of Trips\"))"
   ]
  },
  {
   "cell_type": "code",
   "execution_count": 14,
   "id": "18e7862c",
   "metadata": {},
   "outputs": [
    {
     "name": "stderr",
     "output_type": "stream",
     "text": [
      "[Stage 4:=============================>                             (1 + 1) / 2]\r"
     ]
    },
    {
     "name": "stdout",
     "output_type": "stream",
     "text": [
      "+-----------+---------------+\n",
      "|Time of Day|Number of Trips|\n",
      "+-----------+---------------+\n",
      "|         17|         336190|\n",
      "|         18|         324679|\n",
      "|         16|         313400|\n",
      "|         19|         294513|\n",
      "|         20|         284604|\n",
      "|         21|         281460|\n",
      "|         15|         275466|\n",
      "|         22|         241858|\n",
      "|         14|         230625|\n",
      "|         13|         195877|\n",
      "|          7|         193094|\n",
      "|          8|         190504|\n",
      "|         12|         170452|\n",
      "|         23|         169190|\n",
      "|         11|         165703|\n",
      "|          9|         159967|\n",
      "|         10|         159148|\n",
      "|          6|         143213|\n",
      "|          0|         103836|\n",
      "|          5|          83939|\n",
      "+-----------+---------------+\n",
      "only showing top 20 rows\n",
      "\n"
     ]
    },
    {
     "name": "stderr",
     "output_type": "stream",
     "text": [
      "                                                                                \r"
     ]
    }
   ],
   "source": [
    "hourly.sort(F.col(\"Number of Trips\").desc()).show()"
   ]
  },
  {
   "cell_type": "markdown",
   "id": "b9331d8b",
   "metadata": {},
   "source": [
    "# Visualizing Hourly Data\n",
    "The first thing I want to look at is the total number of Uber trips, separated by hour. There are times when there are a lot of cars on the road, and then there are times where there is no traffic.\n",
    "I expect to see patterns of very little traffic, for example at odd hours, and patterns of high traffic perhaps representing rush hour/going places after work."
   ]
  },
  {
   "cell_type": "code",
   "execution_count": 15,
   "id": "9b877c39",
   "metadata": {},
   "outputs": [
    {
     "name": "stderr",
     "output_type": "stream",
     "text": [
      "                                                                                \r"
     ]
    },
    {
     "data": {
      "text/plain": [
       "Text(0.5, 1.0, 'Total Number of Trips per Hour')"
      ]
     },
     "execution_count": 15,
     "metadata": {},
     "output_type": "execute_result"
    },
    {
     "data": {
      "image/png": "[encoded data removed]",
      "text/plain": [
       "<Figure size 432x288 with 1 Axes>"
      ]
     },
     "metadata": {
      "needs_background": "light"
     },
     "output_type": "display_data"
    }
   ],
   "source": [
    "sns.boxplot(data=hourly.toPandas(), x = \"Number of Trips\")\n",
    "plt.title(\"Total Number of Trips per Hour\")"
   ]
  },
  {
   "cell_type": "markdown",
   "id": "b7daa853",
   "metadata": {},
   "source": [
    "It looks like the overall distribution of hourly data is right skewed, so the mean will be larger than the median. However, it is not overly right skewed."
   ]
  },
  {
   "cell_type": "code",
   "execution_count": 16,
   "id": "12aff7e9",
   "metadata": {},
   "outputs": [
    {
     "data": {
      "image/png": "[encoded data removed]",
      "text/plain": [
       "<Figure size 432x288 with 1 Axes>"
      ]
     },
     "metadata": {
      "needs_background": "light"
     },
     "output_type": "display_data"
    }
   ],
   "source": [
    "sns.barplot(data=hourly.toPandas(), x = \"Time of Day\", y=\"Number of Trips\")\n",
    "plt.title(\"Total Number of Trips By Hour\")\n",
    "plt.show()"
   ]
  },
  {
   "cell_type": "code",
   "execution_count": 17,
   "id": "68f62951",
   "metadata": {},
   "outputs": [
    {
     "data": {
      "image/png": "[encoded data removed]",
      "text/plain": [
       "<Figure size 432x288 with 1 Axes>"
      ]
     },
     "metadata": {
      "needs_background": "light"
     },
     "output_type": "display_data"
    }
   ],
   "source": [
    "import seaborn as sns\n",
    "test_df = hourly.toPandas()\n",
    "sns.scatterplot(x = \"Time of Day\", y = \"Number of Trips\", data = test_df)\n",
    "plt.title(\"Uber Trips\")\n",
    "plt.show()"
   ]
  },
  {
   "cell_type": "markdown",
   "id": "85c129af",
   "metadata": {},
   "source": [
    "It looks like overall, the total number of trips increases as the time goes on. There is a minor peak around 7-8 am, then less traffic, which may correspond to rush hour traffic. There are significantly more rides around 5-6pm, and a peak between 4-6 pm. Overall, the number of rides increase from 9-5, peak around 5, and gradually decrease until 11pm, but still remain significantly higher than in the morning.\n",
    "One possible explanation could be that people tend to use Uber more for getting to and from parties later in the day and are less likely to do so in the morning."
   ]
  },
  {
   "cell_type": "code",
   "execution_count": 18,
   "id": "caa4fd93",
   "metadata": {},
   "outputs": [
    {
     "name": "stdout",
     "output_type": "stream",
     "text": [
      "+-------------------+-------+--------+------+-----+----+\n",
      "|          Date/Time|    Lat|     Lon|  Base|Count|hour|\n",
      "+-------------------+-------+--------+------+-----+----+\n",
      "|2014-09-01 00:00:00|40.2201|-74.0021|B02512|    1|   0|\n",
      "|2014-09-01 00:00:00|  40.75|-74.0027|B02512|    1|   0|\n",
      "|2014-09-01 00:00:00|40.7559|-73.9864|B02512|    1|   0|\n",
      "|2014-09-01 00:00:00| 40.745|-73.9889|B02512|    1|   0|\n",
      "|2014-09-01 00:00:00|40.8145|-73.9444|B02512|    1|   0|\n",
      "|2014-09-01 00:00:00|40.6735|-73.9918|B02512|    1|   0|\n",
      "|2014-09-01 00:00:00|40.7471|-73.6472|B02512|    1|   0|\n",
      "|2014-09-01 00:00:00|40.6613|-74.2691|B02512|    1|   0|\n",
      "|2014-09-01 00:00:00|40.3745|-73.9999|B02512|    1|   0|\n",
      "|2014-09-01 00:00:00|40.7633|-73.9773|B02512|    1|   0|\n",
      "|2014-09-01 00:00:00|40.7467|-73.6131|B02512|    1|   0|\n",
      "|2014-09-01 00:00:00|40.8105|  -73.96|B02512|    1|   0|\n",
      "|2014-09-01 00:00:00| 40.679|-74.0111|B02512|    1|   0|\n",
      "|2014-09-01 00:00:00|40.4023|-73.9839|B02512|    1|   0|\n",
      "|2014-09-01 00:00:00|40.7378|-74.0395|B02512|    1|   0|\n",
      "|2014-09-01 00:00:00|40.7214|-73.9884|B02512|    1|   0|\n",
      "|2014-09-01 00:00:00|40.8646|-73.9081|B02512|    1|   0|\n",
      "|2014-09-01 00:00:00|40.7398|-74.0061|B02512|    1|   1|\n",
      "|2014-09-01 00:00:00|40.6793|-74.0116|B02512|    1|   1|\n",
      "|2014-09-01 00:00:00|40.7328|-73.9875|B02512|    1|   1|\n",
      "+-------------------+-------+--------+------+-----+----+\n",
      "only showing top 20 rows\n",
      "\n"
     ]
    }
   ],
   "source": [
    "daily = df.withColumn(\"Date/Time\", F.date_trunc('dd', F.col('Date/Time')))\n",
    "daily.show()"
   ]
  },
  {
   "cell_type": "code",
   "execution_count": 19,
   "id": "48c842a5",
   "metadata": {},
   "outputs": [
    {
     "name": "stderr",
     "output_type": "stream",
     "text": [
      "[Stage 15:=============================>                            (1 + 1) / 2]\r"
     ]
    },
    {
     "name": "stdout",
     "output_type": "stream",
     "text": [
      "+-------------------+---------------+\n",
      "|                Day|Number of Trips|\n",
      "+-------------------+---------------+\n",
      "|2014-07-30 00:00:00|          30740|\n",
      "|2014-08-11 00:00:00|          22632|\n",
      "|2014-07-16 00:00:00|          28607|\n",
      "|2014-09-10 00:00:00|          35910|\n",
      "|2014-08-12 00:00:00|          29646|\n",
      "|2014-07-02 00:00:00|          26480|\n",
      "|2014-07-12 00:00:00|          25936|\n",
      "|2014-09-11 00:00:00|          36439|\n",
      "|2014-08-28 00:00:00|          28597|\n",
      "|2014-08-24 00:00:00|          22036|\n",
      "|2014-08-17 00:00:00|          21209|\n",
      "|2014-09-15 00:00:00|          29454|\n",
      "|2014-09-12 00:00:00|          39540|\n",
      "|2014-09-14 00:00:00|          28122|\n",
      "|2014-09-02 00:00:00|          28831|\n",
      "|2014-08-18 00:00:00|          21956|\n",
      "|2014-09-28 00:00:00|          29656|\n",
      "|2014-07-13 00:00:00|          21082|\n",
      "|2014-07-10 00:00:00|          30541|\n",
      "|2014-07-19 00:00:00|          25726|\n",
      "+-------------------+---------------+\n",
      "only showing top 20 rows\n",
      "\n"
     ]
    },
    {
     "name": "stderr",
     "output_type": "stream",
     "text": [
      "                                                                                \r"
     ]
    }
   ],
   "source": [
    "daily = daily.groupBy(F.col(\"Date/Time\").alias(\"Day\")).agg(F.sum(\"Count\").alias(\"Number of Trips\"))\n",
    "daily.show()"
   ]
  },
  {
   "cell_type": "code",
   "execution_count": 20,
   "id": "804bbe14",
   "metadata": {},
   "outputs": [
    {
     "data": {
      "text/plain": [
       "DataFrame[Day: timestamp, Number of Trips: bigint]"
      ]
     },
     "execution_count": 20,
     "metadata": {},
     "output_type": "execute_result"
    }
   ],
   "source": [
    "daily"
   ]
  },
  {
   "cell_type": "code",
   "execution_count": 21,
   "id": "1046600b",
   "metadata": {},
   "outputs": [],
   "source": [
    "import statsmodels.api as sm\n"
   ]
  },
  {
   "cell_type": "code",
   "execution_count": 22,
   "id": "51945fcd",
   "metadata": {},
   "outputs": [
    {
     "name": "stderr",
     "output_type": "stream",
     "text": [
      "                                                                                \r"
     ]
    },
    {
     "data": {
      "image/png": "[encoded data removed]",
      "text/plain": [
       "<Figure size 432x288 with 1 Axes>"
      ]
     },
     "metadata": {
      "needs_background": "light"
     },
     "output_type": "display_data"
    }
   ],
   "source": [
    "#sns.scatterplot(data=daily.toPandas(), x=\"Day\", y = \"Number of Trips\")\n",
    "sns.lineplot(data=daily.toPandas(), x=\"Day\", y = \"Number of Trips\")\n",
    "plt.title(\"Number of Trips per Day\")\n",
    "plt.show()"
   ]
  },
  {
   "cell_type": "markdown",
   "id": "9bdbf015",
   "metadata": {},
   "source": [
    "There is a steady increase in the number of rides from April 2014 - October 2014. Uber was launched in 2009, but launched Uber Rush and expansions in 2014. Smartphones became popular around 2012, and overtime, smartphones have become the norm. It is possible that the growth in Uber trips is because of the growth in smartphone usage, allowing people to use Uber, as well as Uber rides becoming more mainstream due to Uber's expansions."
   ]
  },
  {
   "cell_type": "code",
   "execution_count": 23,
   "id": "c1271307",
   "metadata": {},
   "outputs": [
    {
     "name": "stdout",
     "output_type": "stream",
     "text": [
      "r =  -0.5016309066574617 \n",
      " p =  4.706151231376874e-13 \n",
      " s =  8.568346304021516\n"
     ]
    }
   ],
   "source": [
    "import numpy as np\n",
    "import pandas as pd\n",
    "import matplotlib.pyplot as plt\n",
    "import statsmodels.api as sm\n",
    "import scipy.stats as sp\n",
    "daily_df = daily.toPandas()\n",
    "y=np.array(daily_df['Number of Trips'].dropna().values, dtype=float)\n",
    "x=np.array(pd.to_datetime(daily_df['Day'].dropna()).index.values, dtype=float)\n",
    "slope, intercept, r_value, p_value, std_err =sp.linregress(x,y)\n",
    "xf = np.linspace(min(x),max(x),len(x))\n",
    "xf1 = xf.copy()\n",
    "xf1 = pd.to_datetime(xf1)\n",
    "yf = (slope*xf)+intercept\n",
    "print('r = ', r_value, '\\n', 'p = ', p_value, '\\n', 's = ', std_err)"
   ]
  },
  {
   "cell_type": "markdown",
   "id": "8f1ef81b",
   "metadata": {},
   "source": [
    "## Implementing Linear Regression in PySpark"
   ]
  },
  {
   "cell_type": "code",
   "execution_count": 24,
   "id": "a6d0fcde",
   "metadata": {},
   "outputs": [
    {
     "name": "stderr",
     "output_type": "stream",
     "text": [
      "[Stage 23:=============================>                            (1 + 1) / 2]\r"
     ]
    },
    {
     "name": "stdout",
     "output_type": "stream",
     "text": [
      "+-------------+---------------+\n",
      "|     features|Number of Trips|\n",
      "+-------------+---------------+\n",
      "|[1.3963248E9]|          14546|\n",
      "|[1.3964112E9]|          17474|\n",
      "|[1.3966704E9]|          19521|\n",
      "|[1.3968432E9]|          19550|\n",
      "|[1.3969296E9]|          16188|\n",
      "| [1.397016E9]|          16843|\n",
      "|[1.3971024E9]|          20041|\n",
      "|[1.3972752E9]|          18170|\n",
      "|[1.3973616E9]|          12112|\n",
      "|[1.3976208E9]|          17717|\n",
      "|  [1.39788E9]|          14602|\n",
      "|[1.3979664E9]|          11017|\n",
      "|[1.3981392E9]|          16975|\n",
      "|[1.3982256E9]|          20346|\n",
      "| [1.398312E9]|          23352|\n",
      "|[1.3983984E9]|          25095|\n",
      "|[1.3984848E9]|          24925|\n",
      "|[1.3985712E9]|          14677|\n",
      "|[1.3986576E9]|          15475|\n",
      "| [1.398744E9]|          22835|\n",
      "+-------------+---------------+\n",
      "only showing top 20 rows\n",
      "\n"
     ]
    },
    {
     "name": "stderr",
     "output_type": "stream",
     "text": [
      "                                                                                \r"
     ]
    }
   ],
   "source": [
    "# Linear Regression in PySpark\n",
    "lr = LinearRegression(regParam=0.0, solver=\"normal\", featuresCol=\"features\", predictionCol=\"predictions\", labelCol=\"Number of Trips\")\n",
    "daily = daily.withColumn(\"unix_timestamp\", F.unix_timestamp(\"Day\"))\n",
    "assembler = VectorAssembler(inputCols=[\"unix_timestamp\"], outputCol=\"features\")\n",
    "output = assembler.transform(daily).select('features','Number of Trips')\n",
    "train,test = output.randomSplit([0.75, 0.25])\n",
    "train.show()"
   ]
  },
  {
   "cell_type": "code",
   "execution_count": 25,
   "id": "0aade5be",
   "metadata": {},
   "outputs": [
    {
     "name": "stderr",
     "output_type": "stream",
     "text": [
      "22/05/09 18:28:08 WARN Instrumentation: [d5efc36c] regParam is zero, which might cause numerical instability and overfitting.\n",
      "22/05/09 18:28:08 WARN InstanceBuilder$NativeBLAS: Failed to load implementation from:dev.ludovic.netlib.blas.JNIBLAS\n",
      "22/05/09 18:28:08 WARN InstanceBuilder$NativeBLAS: Failed to load implementation from:dev.ludovic.netlib.blas.ForeignLinkerBLAS\n",
      "22/05/09 18:28:08 WARN InstanceBuilder$NativeLAPACK: Failed to load implementation from:dev.ludovic.netlib.lapack.JNILAPACK\n",
      "                                                                                \r"
     ]
    }
   ],
   "source": [
    "model = lr.fit(train)"
   ]
  },
  {
   "cell_type": "code",
   "execution_count": 26,
   "id": "77e22ace",
   "metadata": {},
   "outputs": [
    {
     "data": {
      "text/plain": [
       "LinearRegressionModel: uid=LinearRegression_0ed0aeca49bf, numFeatures=1"
      ]
     },
     "execution_count": 26,
     "metadata": {},
     "output_type": "execute_result"
    }
   ],
   "source": [
    "model.setFeaturesCol(\"features\")\n",
    "model.setPredictionCol(\"newPrediction\")"
   ]
  },
  {
   "cell_type": "code",
   "execution_count": 27,
   "id": "fa40dc7c",
   "metadata": {},
   "outputs": [
    {
     "data": {
      "text/plain": [
       "(DenseVector([0.001]), -1367801.8504460587)"
      ]
     },
     "execution_count": 27,
     "metadata": {},
     "output_type": "execute_result"
    }
   ],
   "source": [
    "(model.coefficients, model.intercept)"
   ]
  },
  {
   "cell_type": "code",
   "execution_count": 28,
   "id": "419c6d51",
   "metadata": {},
   "outputs": [
    {
     "name": "stderr",
     "output_type": "stream",
     "text": [
      "[Stage 33:=============================>                            (1 + 1) / 2]\r"
     ]
    },
    {
     "name": "stdout",
     "output_type": "stream",
     "text": [
      "+-------------+---------------+------------------+\n",
      "|     features|Number of Trips|     newPrediction|\n",
      "+-------------+---------------+------------------+\n",
      "|[1.4066928E9]|          30740|27041.162724981783|\n",
      "|[1.4077296E9]|          22632|28069.228864266537|\n",
      "|[1.4054832E9]|          28607|25841.752229149453|\n",
      "|[1.4103216E9]|          35910| 30639.39421247854|\n",
      "| [1.407816E9]|          29646|28154.901042540325|\n",
      "|[1.4042736E9]|          26480|24642.341733317124|\n",
      "|[1.4051376E9]|          25936|25499.063516054535|\n",
      "| [1.410408E9]|          36439|30725.066390752327|\n",
      "|[1.4091984E9]|          28597|29525.655894919997|\n",
      "|[1.4088528E9]|          22036| 29182.96718182508|\n",
      "| [1.408248E9]|          21209|28583.261933908798|\n",
      "|[1.4107536E9]|          29454|31067.755103847245|\n",
      "|[1.4104944E9]|          39540| 30810.73856902588|\n",
      "|[1.4106672E9]|          28122|30982.082925573457|\n",
      "|[1.4096304E9]|          28831|29954.016786288703|\n",
      "|[1.4083344E9]|          21956|28668.934112182586|\n",
      "|[1.4118768E9]|          29656|32181.493421405787|\n",
      "| [1.405224E9]|          21082| 25584.73569432809|\n",
      "|[1.4049648E9]|          30541| 25327.71915950696|\n",
      "|[1.4057424E9]|          25726|26098.768763970584|\n",
      "+-------------+---------------+------------------+\n",
      "only showing top 20 rows\n",
      "\n"
     ]
    },
    {
     "name": "stderr",
     "output_type": "stream",
     "text": [
      "                                                                                \r"
     ]
    }
   ],
   "source": [
    "predictions = model.transform(output)\n",
    "predictions.show()"
   ]
  },
  {
   "cell_type": "code",
   "execution_count": 29,
   "id": "a701a18b",
   "metadata": {},
   "outputs": [],
   "source": [
    "unlist = F.udf(lambda x: float(list(x)[0]), T.DoubleType())"
   ]
  },
  {
   "cell_type": "code",
   "execution_count": 30,
   "id": "44c5240a",
   "metadata": {},
   "outputs": [
    {
     "name": "stderr",
     "output_type": "stream",
     "text": [
      "[Stage 38:>                                                         (0 + 1) / 1]\r"
     ]
    },
    {
     "name": "stdout",
     "output_type": "stream",
     "text": [
      "+-------------+---------------+------------------+--------------+\n",
      "|     features|Number of Trips|     newPrediction|unix_timestamp|\n",
      "+-------------+---------------+------------------+--------------+\n",
      "|[1.4066928E9]|          30740|27041.162724981783|   1.4066928E9|\n",
      "|[1.4077296E9]|          22632|28069.228864266537|   1.4077296E9|\n",
      "|[1.4054832E9]|          28607|25841.752229149453|   1.4054832E9|\n",
      "|[1.4103216E9]|          35910| 30639.39421247854|   1.4103216E9|\n",
      "| [1.407816E9]|          29646|28154.901042540325|    1.407816E9|\n",
      "|[1.4042736E9]|          26480|24642.341733317124|   1.4042736E9|\n",
      "|[1.4051376E9]|          25936|25499.063516054535|   1.4051376E9|\n",
      "| [1.410408E9]|          36439|30725.066390752327|    1.410408E9|\n",
      "|[1.4091984E9]|          28597|29525.655894919997|   1.4091984E9|\n",
      "|[1.4088528E9]|          22036| 29182.96718182508|   1.4088528E9|\n",
      "| [1.408248E9]|          21209|28583.261933908798|    1.408248E9|\n",
      "|[1.4107536E9]|          29454|31067.755103847245|   1.4107536E9|\n",
      "|[1.4104944E9]|          39540| 30810.73856902588|   1.4104944E9|\n",
      "|[1.4106672E9]|          28122|30982.082925573457|   1.4106672E9|\n",
      "|[1.4096304E9]|          28831|29954.016786288703|   1.4096304E9|\n",
      "|[1.4083344E9]|          21956|28668.934112182586|   1.4083344E9|\n",
      "|[1.4118768E9]|          29656|32181.493421405787|   1.4118768E9|\n",
      "| [1.405224E9]|          21082| 25584.73569432809|    1.405224E9|\n",
      "|[1.4049648E9]|          30541| 25327.71915950696|   1.4049648E9|\n",
      "|[1.4057424E9]|          25726|26098.768763970584|   1.4057424E9|\n",
      "+-------------+---------------+------------------+--------------+\n",
      "only showing top 20 rows\n",
      "\n"
     ]
    },
    {
     "name": "stderr",
     "output_type": "stream",
     "text": [
      "                                                                                \r"
     ]
    }
   ],
   "source": [
    "predictions = predictions.withColumn(\"unix_timestamp\", unlist(F.col(\"features\")))\n",
    "predictions.show()"
   ]
  },
  {
   "cell_type": "code",
   "execution_count": 51,
   "id": "8a3d1da7",
   "metadata": {},
   "outputs": [
    {
     "name": "stderr",
     "output_type": "stream",
     "text": [
      "[Stage 80:=============================>                            (1 + 1) / 2]\r"
     ]
    },
    {
     "name": "stdout",
     "output_type": "stream",
     "text": [
      "+-------------+---------------+------------------+--------------+------------------+\n",
      "|     features|Number of Trips|     newPrediction|unix_timestamp|               Day|\n",
      "+-------------+---------------+------------------+--------------+------------------+\n",
      "|[1.4066928E9]|          30740|27041.162724981783|   1.4066928E9|7-30-2014 00:00:00|\n",
      "|[1.4077296E9]|          22632|28069.228864266537|   1.4077296E9|8-11-2014 00:00:00|\n",
      "|[1.4054832E9]|          28607|25841.752229149453|   1.4054832E9|7-16-2014 00:00:00|\n",
      "|[1.4103216E9]|          35910| 30639.39421247854|   1.4103216E9|9-10-2014 00:00:00|\n",
      "| [1.407816E9]|          29646|28154.901042540325|    1.407816E9|8-12-2014 00:00:00|\n",
      "|[1.4042736E9]|          26480|24642.341733317124|   1.4042736E9| 7-2-2014 00:00:00|\n",
      "|[1.4051376E9]|          25936|25499.063516054535|   1.4051376E9|7-12-2014 00:00:00|\n",
      "| [1.410408E9]|          36439|30725.066390752327|    1.410408E9|9-11-2014 00:00:00|\n",
      "|[1.4091984E9]|          28597|29525.655894919997|   1.4091984E9|8-28-2014 00:00:00|\n",
      "|[1.4088528E9]|          22036| 29182.96718182508|   1.4088528E9|8-24-2014 00:00:00|\n",
      "| [1.408248E9]|          21209|28583.261933908798|    1.408248E9|8-17-2014 00:00:00|\n",
      "|[1.4107536E9]|          29454|31067.755103847245|   1.4107536E9|9-15-2014 00:00:00|\n",
      "|[1.4104944E9]|          39540| 30810.73856902588|   1.4104944E9|9-12-2014 00:00:00|\n",
      "|[1.4106672E9]|          28122|30982.082925573457|   1.4106672E9|9-14-2014 00:00:00|\n",
      "|[1.4096304E9]|          28831|29954.016786288703|   1.4096304E9| 9-2-2014 00:00:00|\n",
      "|[1.4083344E9]|          21956|28668.934112182586|   1.4083344E9|8-18-2014 00:00:00|\n",
      "|[1.4118768E9]|          29656|32181.493421405787|   1.4118768E9|9-28-2014 00:00:00|\n",
      "| [1.405224E9]|          21082| 25584.73569432809|    1.405224E9|7-13-2014 00:00:00|\n",
      "|[1.4049648E9]|          30541| 25327.71915950696|   1.4049648E9|7-10-2014 00:00:00|\n",
      "|[1.4057424E9]|          25726|26098.768763970584|   1.4057424E9|7-19-2014 00:00:00|\n",
      "+-------------+---------------+------------------+--------------+------------------+\n",
      "only showing top 20 rows\n",
      "\n"
     ]
    },
    {
     "name": "stderr",
     "output_type": "stream",
     "text": [
      "                                                                                \r"
     ]
    }
   ],
   "source": [
    "predictions = predictions.withColumn(\n",
    "    'Day', \n",
    "    F.from_unixtime(F.col(\"unix_timestamp\"), 'M-d-yyyy HH:mm:ss')\n",
    ")\n",
    "predictions.show()"
   ]
  },
  {
   "cell_type": "code",
   "execution_count": 62,
   "id": "b73d0ed3",
   "metadata": {},
   "outputs": [
    {
     "data": {
      "text/html": [
       "<div>\n",
       "<style scoped>\n",
       "    .dataframe tbody tr th:only-of-type {\n",
       "        vertical-align: middle;\n",
       "    }\n",
       "\n",
       "    .dataframe tbody tr th {\n",
       "        vertical-align: top;\n",
       "    }\n",
       "\n",
       "    .dataframe thead th {\n",
       "        text-align: right;\n",
       "    }\n",
       "</style>\n",
       "<table border=\"1\" class=\"dataframe\">\n",
       "  <thead>\n",
       "    <tr style=\"text-align: right;\">\n",
       "      <th></th>\n",
       "      <th>features</th>\n",
       "      <th>Number of Trips</th>\n",
       "      <th>newPrediction</th>\n",
       "      <th>unix_timestamp</th>\n",
       "      <th>Day</th>\n",
       "    </tr>\n",
       "  </thead>\n",
       "  <tbody>\n",
       "    <tr>\n",
       "      <th>163</th>\n",
       "      <td>[1396324800.0]</td>\n",
       "      <td>14546</td>\n",
       "      <td>16760.501332</td>\n",
       "      <td>1.396325e+09</td>\n",
       "      <td>4-1-2014 00:00:00</td>\n",
       "    </tr>\n",
       "    <tr>\n",
       "      <th>138</th>\n",
       "      <td>[1397102400.0]</td>\n",
       "      <td>20041</td>\n",
       "      <td>17531.550937</td>\n",
       "      <td>1.397102e+09</td>\n",
       "      <td>4-10-2014 00:00:00</td>\n",
       "    </tr>\n",
       "    <tr>\n",
       "      <th>93</th>\n",
       "      <td>[1397188800.0]</td>\n",
       "      <td>20420</td>\n",
       "      <td>17617.223115</td>\n",
       "      <td>1.397189e+09</td>\n",
       "      <td>4-11-2014 00:00:00</td>\n",
       "    </tr>\n",
       "    <tr>\n",
       "      <th>108</th>\n",
       "      <td>[1397275200.0]</td>\n",
       "      <td>18170</td>\n",
       "      <td>17702.895293</td>\n",
       "      <td>1.397275e+09</td>\n",
       "      <td>4-12-2014 00:00:00</td>\n",
       "    </tr>\n",
       "    <tr>\n",
       "      <th>159</th>\n",
       "      <td>[1397361600.0]</td>\n",
       "      <td>12112</td>\n",
       "      <td>17788.567471</td>\n",
       "      <td>1.397362e+09</td>\n",
       "      <td>4-13-2014 00:00:00</td>\n",
       "    </tr>\n",
       "  </tbody>\n",
       "</table>\n",
       "</div>"
      ],
      "text/plain": [
       "           features  Number of Trips  newPrediction  unix_timestamp  \\\n",
       "163  [1396324800.0]            14546   16760.501332    1.396325e+09   \n",
       "138  [1397102400.0]            20041   17531.550937    1.397102e+09   \n",
       "93   [1397188800.0]            20420   17617.223115    1.397189e+09   \n",
       "108  [1397275200.0]            18170   17702.895293    1.397275e+09   \n",
       "159  [1397361600.0]            12112   17788.567471    1.397362e+09   \n",
       "\n",
       "                    Day  \n",
       "163   4-1-2014 00:00:00  \n",
       "138  4-10-2014 00:00:00  \n",
       "93   4-11-2014 00:00:00  \n",
       "108  4-12-2014 00:00:00  \n",
       "159  4-13-2014 00:00:00  "
      ]
     },
     "execution_count": 62,
     "metadata": {},
     "output_type": "execute_result"
    }
   ],
   "source": [
    "predictions_df = predictions.toPandas()\n",
    "predictions_df.head()\n",
    "predictions_df = predictions_df.sort_values(by = \"Day\")\n",
    "predictions_df.head()"
   ]
  },
  {
   "cell_type": "code",
   "execution_count": 65,
   "id": "44ebd798",
   "metadata": {},
   "outputs": [
    {
     "data": {
      "text/plain": [
       "Text(0.5, 1.0, 'Actual versus Predicted Number of Trips')"
      ]
     },
     "execution_count": 65,
     "metadata": {},
     "output_type": "execute_result"
    },
    {
     "data": {
      "image/png": "[encoded data removed]",
      "text/plain": [
       "<Figure size 432x288 with 1 Axes>"
      ]
     },
     "metadata": {
      "needs_background": "light"
     },
     "output_type": "display_data"
    }
   ],
   "source": [
    "sns.lineplot(data=predictions_df, x=\"unix_timestamp\", y = \"Number of Trips\")\n",
    "sns.lineplot(data=predictions_df, x=\"unix_timestamp\", y = \"newPrediction\")\n",
    "plt.xlabel(\"Day\")\n",
    "plt.ylabel(\"Number of Trips\")\n",
    "plt.title(\"Actual versus Predicted Number of Trips\")"
   ]
  },
  {
   "cell_type": "code",
   "execution_count": 60,
   "id": "d4133132",
   "metadata": {},
   "outputs": [
    {
     "data": {
      "text/plain": [
       "0     2014-07-30\n",
       "1     2014-08-11\n",
       "2     2014-07-16\n",
       "3     2014-09-10\n",
       "4     2014-08-12\n",
       "         ...    \n",
       "178   2014-06-20\n",
       "179   2014-05-09\n",
       "180   2014-05-07\n",
       "181   2014-05-02\n",
       "182   2014-04-03\n",
       "Name: Day, Length: 183, dtype: datetime64[ns]"
      ]
     },
     "execution_count": 60,
     "metadata": {},
     "output_type": "execute_result"
    }
   ],
   "source": [
    "daily_df[\"Day\"]"
   ]
  },
  {
   "cell_type": "code",
   "execution_count": 61,
   "id": "7170b70a",
   "metadata": {},
   "outputs": [
    {
     "data": {
      "image/png": "[encoded data removed]",
      "text/plain": [
       "<Figure size 432x288 with 1 Axes>"
      ]
     },
     "metadata": {
      "needs_background": "light"
     },
     "output_type": "display_data"
    }
   ],
   "source": [
    "sns.lineplot(x=daily.toPandas()[\"Day\"], y=yf, palette=\"viridian\")\n",
    "sns.lineplot(x=daily.toPandas()[\"Day\"], y=daily.toPandas()[\"Number of Trips\"])\n",
    "plt.show()"
   ]
  },
  {
   "cell_type": "markdown",
   "id": "3bccfcdf",
   "metadata": {},
   "source": [
    "The expected prediction is the blue line. It appears that from the graph, the blue line captures the overall trend well, but there is a lot of noise and many outliers, so the predictions may not be accurate.\n",
    "My next step will be to average the days by every 4 days in order to get a better estimate of the overall trend and reduce noise."
   ]
  },
  {
   "cell_type": "code",
   "execution_count": 36,
   "id": "a08319a7",
   "metadata": {},
   "outputs": [
    {
     "name": "stdout",
     "output_type": "stream",
     "text": [
      "ADF Statistic: -1.2749083309371672\n",
      "n_lags: 0.6405721891464482\n",
      "p-value: 0.6405721891464482\n",
      "Critial Values:\n",
      "   1%, -3.4698858990744115\n",
      "Critial Values:\n",
      "   5%, -2.8789026251889647\n",
      "Critial Values:\n",
      "   10%, -2.5760266680839004\n"
     ]
    }
   ],
   "source": [
    "import statsmodels.tsa.stattools as tsa\n",
    "result = tsa.adfuller(daily.toPandas()[\"Number of Trips\"], autolag='AIC')\n",
    "print(f'ADF Statistic: {result[0]}')\n",
    "print(f'n_lags: {result[1]}')\n",
    "print(f'p-value: {result[1]}')\n",
    "for key, value in result[4].items():\n",
    "    print('Critial Values:')\n",
    "    print(f'   {key}, {value}')   "
   ]
  },
  {
   "cell_type": "markdown",
   "id": "45aab2dd",
   "metadata": {},
   "source": []
  },
  {
   "cell_type": "code",
   "execution_count": 37,
   "id": "a89ff5ba",
   "metadata": {},
   "outputs": [
    {
     "data": {
      "image/png": "[encoded data removed]",
      "text/plain": [
       "<Figure size 432x288 with 1 Axes>"
      ]
     },
     "metadata": {
      "needs_background": "light"
     },
     "output_type": "display_data"
    }
   ],
   "source": [
    "sns.boxplot(data = daily.toPandas(), x = \"Number of Trips\")\n",
    "plt.title(\"Daily Trips\")\n",
    "plt.show()"
   ]
  },
  {
   "cell_type": "markdown",
   "id": "fc0ad87e",
   "metadata": {},
   "source": [
    "The distribution of daily trips appears to be roughly normally distributed. This is consistent with the pattern of outliers on the graph."
   ]
  },
  {
   "cell_type": "code",
   "execution_count": 38,
   "id": "528f541a",
   "metadata": {},
   "outputs": [
    {
     "data": {
      "image/png": "[encoded data removed]",
      "text/plain": [
       "<Figure size 432x288 with 1 Axes>"
      ]
     },
     "metadata": {
      "needs_background": "light"
     },
     "output_type": "display_data"
    }
   ],
   "source": [
    "sns.histplot(data = daily.toPandas(), x = \"Number of Trips\")\n",
    "plt.title(\"Daily Trips\")\n",
    "plt.show()"
   ]
  },
  {
   "cell_type": "code",
   "execution_count": 39,
   "id": "e225d312",
   "metadata": {},
   "outputs": [
    {
     "name": "stderr",
     "output_type": "stream",
     "text": [
      "[Stage 58:=============================>                            (1 + 1) / 2]\r"
     ]
    },
    {
     "name": "stdout",
     "output_type": "stream",
     "text": [
      "+-------------------+---------------+--------------+\n",
      "|                Day|Number of Trips|unix_timestamp|\n",
      "+-------------------+---------------+--------------+\n",
      "|2014-09-13 00:00:00|          43205|    1410580800|\n",
      "|2014-09-05 00:00:00|          42319|    1409889600|\n",
      "|2014-09-19 00:00:00|          41017|    1411099200|\n",
      "|2014-09-06 00:00:00|          40520|    1409976000|\n",
      "|2014-09-18 00:00:00|          40274|    1411012800|\n",
      "|2014-09-12 00:00:00|          39540|    1410494400|\n",
      "|2014-09-27 00:00:00|          39468|    1411790400|\n",
      "|2014-09-20 00:00:00|          38864|    1411185600|\n",
      "|2014-09-04 00:00:00|          38360|    1409803200|\n",
      "|2014-09-25 00:00:00|          38203|    1411617600|\n",
      "|2014-09-26 00:00:00|          37504|    1411704000|\n",
      "|2014-09-11 00:00:00|          36439|    1410408000|\n",
      "|2014-04-30 00:00:00|          36251|    1398830400|\n",
      "|2014-09-16 00:00:00|          36092|    1410840000|\n",
      "|2014-09-10 00:00:00|          35910|    1410321600|\n",
      "|2014-09-17 00:00:00|          35531|    1410926400|\n",
      "|2014-09-09 00:00:00|          34560|    1410235200|\n",
      "|2014-07-23 00:00:00|          34073|    1406088000|\n",
      "|2014-07-15 00:00:00|          33845|    1405396800|\n",
      "|2014-07-31 00:00:00|          33541|    1406779200|\n",
      "+-------------------+---------------+--------------+\n",
      "only showing top 20 rows\n",
      "\n"
     ]
    },
    {
     "name": "stderr",
     "output_type": "stream",
     "text": [
      "                                                                                \r"
     ]
    }
   ],
   "source": [
    "daily.sort(F.col(\"Number of Trips\").desc()).show()"
   ]
  },
  {
   "cell_type": "code",
   "execution_count": 40,
   "id": "a7e8fd9a",
   "metadata": {},
   "outputs": [
    {
     "name": "stderr",
     "output_type": "stream",
     "text": [
      "[Stage 61:=============================>                            (1 + 1) / 2]\r"
     ]
    },
    {
     "name": "stdout",
     "output_type": "stream",
     "text": [
      "+-------------------+---------------+--------------+\n",
      "|                Day|Number of Trips|unix_timestamp|\n",
      "+-------------------+---------------+--------------+\n",
      "|2014-05-26 00:00:00|          10202|    1401076800|\n",
      "|2014-05-25 00:00:00|          10841|    1400990400|\n",
      "|2014-07-05 00:00:00|          10890|    1404532800|\n",
      "|2014-04-20 00:00:00|          11017|    1397966400|\n",
      "|2014-07-06 00:00:00|          11443|    1404619200|\n",
      "|2014-04-13 00:00:00|          12112|    1397361600|\n",
      "|2014-04-14 00:00:00|          12674|    1397448000|\n",
      "|2014-04-21 00:00:00|          13162|    1398052800|\n",
      "|2014-04-06 00:00:00|          13445|    1396756800|\n",
      "|2014-05-04 00:00:00|          13918|    1399176000|\n",
      "|2014-07-04 00:00:00|          14148|    1404446400|\n",
      "|2014-06-15 00:00:00|          14511|    1402804800|\n",
      "|2014-04-01 00:00:00|          14546|    1396324800|\n",
      "|2014-04-19 00:00:00|          14602|    1397880000|\n",
      "|2014-05-24 00:00:00|          14651|    1400904000|\n",
      "|2014-04-27 00:00:00|          14677|    1398571200|\n",
      "|2014-05-11 00:00:00|          14901|    1399780800|\n",
      "|2014-04-28 00:00:00|          15475|    1398657600|\n",
      "|2014-06-08 00:00:00|          15749|    1402200000|\n",
      "|2014-06-01 00:00:00|          15967|    1401595200|\n",
      "+-------------------+---------------+--------------+\n",
      "only showing top 20 rows\n",
      "\n"
     ]
    },
    {
     "name": "stderr",
     "output_type": "stream",
     "text": [
      "                                                                                \r"
     ]
    }
   ],
   "source": [
    "daily.sort(F.col(\"Number of Trips\")).show()"
   ]
  },
  {
   "cell_type": "markdown",
   "id": "c47d7f27",
   "metadata": {},
   "source": [
    "# Averaging Every 4 Days\n",
    "In order to reduce noise, I'm going to run a new model by averaging every few days and seeing how my results change."
   ]
  },
  {
   "cell_type": "code",
   "execution_count": 41,
   "id": "4bcc21dc",
   "metadata": {},
   "outputs": [
    {
     "name": "stderr",
     "output_type": "stream",
     "text": [
      "22/05/09 18:29:40 WARN WindowExec: No Partition Defined for Window operation! Moving all data to a single partition, this can cause serious performance degradation.\n",
      "22/05/09 18:29:40 WARN WindowExec: No Partition Defined for Window operation! Moving all data to a single partition, this can cause serious performance degradation.\n",
      "22/05/09 18:29:50 WARN WindowExec: No Partition Defined for Window operation! Moving all data to a single partition, this can cause serious performance degradation.\n",
      "22/05/09 18:29:50 WARN WindowExec: No Partition Defined for Window operation! Moving all data to a single partition, this can cause serious performance degradation.\n"
     ]
    },
    {
     "name": "stdout",
     "output_type": "stream",
     "text": [
      "+-------------------+---------------+--------------+----------+------------------+-----------+\n",
      "|Day                |Number of Trips|unix_timestamp|unix_time |rolling_avg       |rolling_sum|\n",
      "+-------------------+---------------+--------------+----------+------------------+-----------+\n",
      "|2014-04-01 00:00:00|14546          |1396324800    |1396324800|14546.0           |14546      |\n",
      "|2014-04-02 00:00:00|17474          |1396411200    |1396411200|16010.0           |32020      |\n",
      "|2014-04-03 00:00:00|20701          |1396497600    |1396497600|17573.666666666668|52721      |\n",
      "|2014-04-04 00:00:00|26714          |1396584000    |1396584000|21629.666666666668|64889      |\n",
      "|2014-04-05 00:00:00|19521          |1396670400    |1396670400|22312.0           |66936      |\n",
      "|2014-04-06 00:00:00|13445          |1396756800    |1396756800|19893.333333333332|59680      |\n",
      "|2014-04-07 00:00:00|19550          |1396843200    |1396843200|17505.333333333332|52516      |\n",
      "|2014-04-08 00:00:00|16188          |1396929600    |1396929600|16394.333333333332|49183      |\n",
      "|2014-04-09 00:00:00|16843          |1397016000    |1397016000|17527.0           |52581      |\n",
      "|2014-04-10 00:00:00|20041          |1397102400    |1397102400|17690.666666666668|53072      |\n",
      "|2014-04-11 00:00:00|20420          |1397188800    |1397188800|19101.333333333332|57304      |\n",
      "|2014-04-12 00:00:00|18170          |1397275200    |1397275200|19543.666666666668|58631      |\n",
      "|2014-04-13 00:00:00|12112          |1397361600    |1397361600|16900.666666666668|50702      |\n",
      "|2014-04-14 00:00:00|12674          |1397448000    |1397448000|14318.666666666666|42956      |\n",
      "|2014-04-15 00:00:00|20641          |1397534400    |1397534400|15142.333333333334|45427      |\n",
      "|2014-04-16 00:00:00|17717          |1397620800    |1397620800|17010.666666666668|51032      |\n",
      "|2014-04-17 00:00:00|20973          |1397707200    |1397707200|19777.0           |59331      |\n",
      "|2014-04-18 00:00:00|18074          |1397793600    |1397793600|18921.333333333332|56764      |\n",
      "|2014-04-19 00:00:00|14602          |1397880000    |1397880000|17883.0           |53649      |\n",
      "|2014-04-20 00:00:00|11017          |1397966400    |1397966400|14564.333333333334|43693      |\n",
      "+-------------------+---------------+--------------+----------+------------------+-----------+\n",
      "only showing top 20 rows\n",
      "\n"
     ]
    },
    {
     "name": "stderr",
     "output_type": "stream",
     "text": [
      "                                                                                \r"
     ]
    }
   ],
   "source": [
    "from pyspark.sql.window import Window\n",
    "df_4days = daily.withColumn('unix_time', F.unix_timestamp('Day', 'yyyy-MM-dd'))\n",
    "\n",
    "winSpec = Window.orderBy('unix_time').rangeBetween(-2*86400, 0)\n",
    "df_4days = df_4days.withColumn('rolling_avg', F.avg('Number of Trips').over(winSpec))\n",
    "df_4days = df_4days.withColumn('rolling_sum', F.sum('Number of Trips').over(winSpec))\n",
    "df_4days.orderBy('Day').show(20, False)\n"
   ]
  },
  {
   "cell_type": "markdown",
   "id": "3d48fcd5",
   "metadata": {},
   "source": [
    "The line of best fit here looks like a straight line and appears to follow the general pattern better. So overall, the pattern over 4 days is better."
   ]
  },
  {
   "cell_type": "code",
   "execution_count": 69,
   "id": "c3dc954f",
   "metadata": {},
   "outputs": [
    {
     "name": "stderr",
     "output_type": "stream",
     "text": [
      "22/05/09 19:38:54 WARN WindowExec: No Partition Defined for Window operation! Moving all data to a single partition, this can cause serious performance degradation.\n",
      "22/05/09 19:38:54 WARN WindowExec: No Partition Defined for Window operation! Moving all data to a single partition, this can cause serious performance degradation.\n",
      "[Stage 111:============================>                            (1 + 1) / 2]\r"
     ]
    },
    {
     "name": "stdout",
     "output_type": "stream",
     "text": [
      "+-------------+------------------+\n",
      "|     features|       rolling_avg|\n",
      "+-------------+------------------+\n",
      "|[1.3963248E9]|           14546.0|\n",
      "|[1.3964112E9]|           16010.0|\n",
      "|[1.3964976E9]|17573.666666666668|\n",
      "|[1.3966704E9]|           22312.0|\n",
      "|[1.3967568E9]|19893.333333333332|\n",
      "|[1.3968432E9]|17505.333333333332|\n",
      "|[1.3971024E9]|17690.666666666668|\n",
      "|[1.3972752E9]|19543.666666666668|\n",
      "|[1.3973616E9]|16900.666666666668|\n",
      "| [1.397448E9]|14318.666666666666|\n",
      "|[1.3977072E9]|           19777.0|\n",
      "|  [1.39788E9]|           17883.0|\n",
      "|[1.3979664E9]|14564.333333333334|\n",
      "|[1.3980528E9]|           12927.0|\n",
      "|[1.3981392E9]|           13718.0|\n",
      "| [1.398312E9]|20224.333333333332|\n",
      "|[1.3983984E9]|           22931.0|\n",
      "|[1.3985712E9]|21565.666666666668|\n",
      "|[1.3986576E9]|           18359.0|\n",
      "| [1.398744E9]|17662.333333333332|\n",
      "+-------------+------------------+\n",
      "only showing top 20 rows\n",
      "\n"
     ]
    },
    {
     "name": "stderr",
     "output_type": "stream",
     "text": [
      "22/05/09 19:39:04 WARN WindowExec: No Partition Defined for Window operation! Moving all data to a single partition, this can cause serious performance degradation.\n",
      "22/05/09 19:39:04 WARN WindowExec: No Partition Defined for Window operation! Moving all data to a single partition, this can cause serious performance degradation.\n",
      "                                                                                \r"
     ]
    }
   ],
   "source": [
    "# Linear Regression in PySpark\n",
    "lr = LinearRegression(regParam=0.0, solver=\"normal\", featuresCol=\"features\", predictionCol=\"predictions\", labelCol=\"rolling_avg\")\n",
    "daily = df_4days.withColumn(\"unix_timestamp\", F.unix_timestamp(\"Day\"))\n",
    "assembler = VectorAssembler(inputCols=[\"unix_timestamp\"], outputCol=\"features\")\n",
    "output = assembler.transform(daily).select('features','rolling_avg')\n",
    "train,test = output.randomSplit([0.75, 0.25])\n",
    "train.show()"
   ]
  },
  {
   "cell_type": "code",
   "execution_count": 70,
   "id": "386531bd",
   "metadata": {},
   "outputs": [
    {
     "name": "stderr",
     "output_type": "stream",
     "text": [
      "22/05/09 19:39:05 WARN WindowExec: No Partition Defined for Window operation! Moving all data to a single partition, this can cause serious performance degradation.\n",
      "22/05/09 19:39:05 WARN WindowExec: No Partition Defined for Window operation! Moving all data to a single partition, this can cause serious performance degradation.\n",
      "22/05/09 19:39:15 WARN WindowExec: No Partition Defined for Window operation! Moving all data to a single partition, this can cause serious performance degradation.\n",
      "22/05/09 19:39:15 WARN WindowExec: No Partition Defined for Window operation! Moving all data to a single partition, this can cause serious performance degradation.\n",
      "22/05/09 19:39:15 WARN WindowExec: No Partition Defined for Window operation! Moving all data to a single partition, this can cause serious performance degradation.\n",
      "22/05/09 19:39:15 WARN WindowExec: No Partition Defined for Window operation! Moving all data to a single partition, this can cause serious performance degradation.\n",
      "22/05/09 19:39:26 WARN WindowExec: No Partition Defined for Window operation! Moving all data to a single partition, this can cause serious performance degradation.\n",
      "22/05/09 19:39:26 WARN WindowExec: No Partition Defined for Window operation! Moving all data to a single partition, this can cause serious performance degradation.\n",
      "22/05/09 19:39:26 WARN Instrumentation: [4aef8706] regParam is zero, which might cause numerical instability and overfitting.\n",
      "22/05/09 19:39:26 WARN WindowExec: No Partition Defined for Window operation! Moving all data to a single partition, this can cause serious performance degradation.\n",
      "22/05/09 19:39:26 WARN WindowExec: No Partition Defined for Window operation! Moving all data to a single partition, this can cause serious performance degradation.\n",
      "22/05/09 19:39:37 WARN WindowExec: No Partition Defined for Window operation! Moving all data to a single partition, this can cause serious performance degradation.\n",
      "22/05/09 19:39:37 WARN WindowExec: No Partition Defined for Window operation! Moving all data to a single partition, this can cause serious performance degradation.\n",
      "                                                                                \r"
     ]
    }
   ],
   "source": [
    "model = lr.fit(train)"
   ]
  },
  {
   "cell_type": "code",
   "execution_count": 71,
   "id": "5693f263",
   "metadata": {},
   "outputs": [
    {
     "name": "stderr",
     "output_type": "stream",
     "text": [
      "22/05/09 19:39:44 WARN WindowExec: No Partition Defined for Window operation! Moving all data to a single partition, this can cause serious performance degradation.\n",
      "22/05/09 19:39:44 WARN WindowExec: No Partition Defined for Window operation! Moving all data to a single partition, this can cause serious performance degradation.\n",
      "[Stage 132:============================>                            (1 + 1) / 2]\r"
     ]
    },
    {
     "name": "stdout",
     "output_type": "stream",
     "text": [
      "+-------------+------------------+------------------+\n",
      "|     features|       rolling_avg|       predictions|\n",
      "+-------------+------------------+------------------+\n",
      "|[1.3963248E9]|           14546.0|16492.356676915893|\n",
      "|[1.3964112E9]|           16010.0|16583.421383916633|\n",
      "|[1.3964976E9]|17573.666666666668|16674.486090917373|\n",
      "| [1.396584E9]|21629.666666666668|16765.550797918113|\n",
      "|[1.3966704E9]|           22312.0|16856.615504919086|\n",
      "|[1.3967568E9]|19893.333333333332|16947.680211919826|\n",
      "|[1.3968432E9]|17505.333333333332|17038.744918920565|\n",
      "|[1.3969296E9]|16394.333333333332|17129.809625921305|\n",
      "| [1.397016E9]|           17527.0|17220.874332922278|\n",
      "|[1.3971024E9]|17690.666666666668|17311.939039923018|\n",
      "|[1.3971888E9]|19101.333333333332|17403.003746923758|\n",
      "|[1.3972752E9]|19543.666666666668|17494.068453924498|\n",
      "|[1.3973616E9]|16900.666666666668| 17585.13316092547|\n",
      "| [1.397448E9]|14318.666666666666| 17676.19786792621|\n",
      "|[1.3975344E9]|15142.333333333334| 17767.26257492695|\n",
      "|[1.3976208E9]|17010.666666666668| 17858.32728192769|\n",
      "|[1.3977072E9]|           19777.0|17949.391988928663|\n",
      "|[1.3977936E9]|18921.333333333332|18040.456695929402|\n",
      "|  [1.39788E9]|           17883.0|18131.521402930142|\n",
      "|[1.3979664E9]|14564.333333333334|18222.586109930882|\n",
      "+-------------+------------------+------------------+\n",
      "only showing top 20 rows\n",
      "\n"
     ]
    },
    {
     "name": "stderr",
     "output_type": "stream",
     "text": [
      "22/05/09 19:39:55 WARN WindowExec: No Partition Defined for Window operation! Moving all data to a single partition, this can cause serious performance degradation.\n",
      "22/05/09 19:39:55 WARN WindowExec: No Partition Defined for Window operation! Moving all data to a single partition, this can cause serious performance degradation.\n",
      "                                                                                \r"
     ]
    }
   ],
   "source": [
    "predictions = model.transform(output)\n",
    "predictions.show()"
   ]
  },
  {
   "cell_type": "code",
   "execution_count": 72,
   "id": "34692834",
   "metadata": {},
   "outputs": [
    {
     "data": {
      "text/plain": [
       "LinearRegressionModel: uid=LinearRegression_2163c6a198e8, numFeatures=1"
      ]
     },
     "execution_count": 72,
     "metadata": {},
     "output_type": "execute_result"
    }
   ],
   "source": [
    "model.setFeaturesCol(\"features\")\n",
    "model.setPredictionCol(\"newPrediction\")"
   ]
  },
  {
   "cell_type": "code",
   "execution_count": 73,
   "id": "3608a156",
   "metadata": {},
   "outputs": [
    {
     "name": "stderr",
     "output_type": "stream",
     "text": [
      "22/05/09 19:40:30 WARN WindowExec: No Partition Defined for Window operation! Moving all data to a single partition, this can cause serious performance degradation.\n",
      "22/05/09 19:40:30 WARN WindowExec: No Partition Defined for Window operation! Moving all data to a single partition, this can cause serious performance degradation.\n",
      "22/05/09 19:40:41 WARN WindowExec: No Partition Defined for Window operation! Moving all data to a single partition, this can cause serious performance degradation.\n",
      "22/05/09 19:40:41 WARN WindowExec: No Partition Defined for Window operation! Moving all data to a single partition, this can cause serious performance degradation.\n",
      "[Stage 143:>                                                        (0 + 1) / 1]\r"
     ]
    },
    {
     "name": "stdout",
     "output_type": "stream",
     "text": [
      "+-------------+------------------+------------------+--------------+\n",
      "|     features|       rolling_avg|       predictions|unix_timestamp|\n",
      "+-------------+------------------+------------------+--------------+\n",
      "|[1.3963248E9]|           14546.0|16492.356676915893|   1.3963248E9|\n",
      "|[1.3964112E9]|           16010.0|16583.421383916633|   1.3964112E9|\n",
      "|[1.3964976E9]|17573.666666666668|16674.486090917373|   1.3964976E9|\n",
      "| [1.396584E9]|21629.666666666668|16765.550797918113|    1.396584E9|\n",
      "|[1.3966704E9]|           22312.0|16856.615504919086|   1.3966704E9|\n",
      "|[1.3967568E9]|19893.333333333332|16947.680211919826|   1.3967568E9|\n",
      "|[1.3968432E9]|17505.333333333332|17038.744918920565|   1.3968432E9|\n",
      "|[1.3969296E9]|16394.333333333332|17129.809625921305|   1.3969296E9|\n",
      "| [1.397016E9]|           17527.0|17220.874332922278|    1.397016E9|\n",
      "|[1.3971024E9]|17690.666666666668|17311.939039923018|   1.3971024E9|\n",
      "|[1.3971888E9]|19101.333333333332|17403.003746923758|   1.3971888E9|\n",
      "|[1.3972752E9]|19543.666666666668|17494.068453924498|   1.3972752E9|\n",
      "|[1.3973616E9]|16900.666666666668| 17585.13316092547|   1.3973616E9|\n",
      "| [1.397448E9]|14318.666666666666| 17676.19786792621|    1.397448E9|\n",
      "|[1.3975344E9]|15142.333333333334| 17767.26257492695|   1.3975344E9|\n",
      "|[1.3976208E9]|17010.666666666668| 17858.32728192769|   1.3976208E9|\n",
      "|[1.3977072E9]|           19777.0|17949.391988928663|   1.3977072E9|\n",
      "|[1.3977936E9]|18921.333333333332|18040.456695929402|   1.3977936E9|\n",
      "|  [1.39788E9]|           17883.0|18131.521402930142|     1.39788E9|\n",
      "|[1.3979664E9]|14564.333333333334|18222.586109930882|   1.3979664E9|\n",
      "+-------------+------------------+------------------+--------------+\n",
      "only showing top 20 rows\n",
      "\n"
     ]
    },
    {
     "name": "stderr",
     "output_type": "stream",
     "text": [
      "                                                                                \r"
     ]
    }
   ],
   "source": [
    "predictions = predictions.withColumn(\"unix_timestamp\", unlist(F.col(\"features\")))\n",
    "predictions.show()"
   ]
  },
  {
   "cell_type": "code",
   "execution_count": 74,
   "id": "5e320f54",
   "metadata": {},
   "outputs": [
    {
     "name": "stderr",
     "output_type": "stream",
     "text": [
      "22/05/09 19:41:40 WARN WindowExec: No Partition Defined for Window operation! Moving all data to a single partition, this can cause serious performance degradation.\n",
      "22/05/09 19:41:40 WARN WindowExec: No Partition Defined for Window operation! Moving all data to a single partition, this can cause serious performance degradation.\n",
      "22/05/09 19:41:51 WARN WindowExec: No Partition Defined for Window operation! Moving all data to a single partition, this can cause serious performance degradation.\n",
      "22/05/09 19:41:51 WARN WindowExec: No Partition Defined for Window operation! Moving all data to a single partition, this can cause serious performance degradation.\n",
      "                                                                                \r"
     ]
    },
    {
     "data": {
      "text/html": [
       "<div>\n",
       "<style scoped>\n",
       "    .dataframe tbody tr th:only-of-type {\n",
       "        vertical-align: middle;\n",
       "    }\n",
       "\n",
       "    .dataframe tbody tr th {\n",
       "        vertical-align: top;\n",
       "    }\n",
       "\n",
       "    .dataframe thead th {\n",
       "        text-align: right;\n",
       "    }\n",
       "</style>\n",
       "<table border=\"1\" class=\"dataframe\">\n",
       "  <thead>\n",
       "    <tr style=\"text-align: right;\">\n",
       "      <th></th>\n",
       "      <th>features</th>\n",
       "      <th>rolling_avg</th>\n",
       "      <th>predictions</th>\n",
       "      <th>unix_timestamp</th>\n",
       "    </tr>\n",
       "  </thead>\n",
       "  <tbody>\n",
       "    <tr>\n",
       "      <th>0</th>\n",
       "      <td>[1396324800.0]</td>\n",
       "      <td>14546.000000</td>\n",
       "      <td>16492.356677</td>\n",
       "      <td>1.396325e+09</td>\n",
       "    </tr>\n",
       "    <tr>\n",
       "      <th>1</th>\n",
       "      <td>[1396411200.0]</td>\n",
       "      <td>16010.000000</td>\n",
       "      <td>16583.421384</td>\n",
       "      <td>1.396411e+09</td>\n",
       "    </tr>\n",
       "    <tr>\n",
       "      <th>2</th>\n",
       "      <td>[1396497600.0]</td>\n",
       "      <td>17573.666667</td>\n",
       "      <td>16674.486091</td>\n",
       "      <td>1.396498e+09</td>\n",
       "    </tr>\n",
       "    <tr>\n",
       "      <th>3</th>\n",
       "      <td>[1396584000.0]</td>\n",
       "      <td>21629.666667</td>\n",
       "      <td>16765.550798</td>\n",
       "      <td>1.396584e+09</td>\n",
       "    </tr>\n",
       "    <tr>\n",
       "      <th>4</th>\n",
       "      <td>[1396670400.0]</td>\n",
       "      <td>22312.000000</td>\n",
       "      <td>16856.615505</td>\n",
       "      <td>1.396670e+09</td>\n",
       "    </tr>\n",
       "  </tbody>\n",
       "</table>\n",
       "</div>"
      ],
      "text/plain": [
       "         features   rolling_avg   predictions  unix_timestamp\n",
       "0  [1396324800.0]  14546.000000  16492.356677    1.396325e+09\n",
       "1  [1396411200.0]  16010.000000  16583.421384    1.396411e+09\n",
       "2  [1396497600.0]  17573.666667  16674.486091    1.396498e+09\n",
       "3  [1396584000.0]  21629.666667  16765.550798    1.396584e+09\n",
       "4  [1396670400.0]  22312.000000  16856.615505    1.396670e+09"
      ]
     },
     "execution_count": 74,
     "metadata": {},
     "output_type": "execute_result"
    }
   ],
   "source": [
    "predictions_df = predictions.toPandas()\n",
    "predictions_df.head()"
   ]
  },
  {
   "cell_type": "code",
   "execution_count": 77,
   "id": "d01d59c7",
   "metadata": {},
   "outputs": [
    {
     "data": {
      "text/plain": [
       "(DenseVector([0.0011]), -1455219.550614133)"
      ]
     },
     "execution_count": 77,
     "metadata": {},
     "output_type": "execute_result"
    }
   ],
   "source": [
    "(model.coefficients, model.intercept)"
   ]
  },
  {
   "cell_type": "code",
   "execution_count": 76,
   "id": "14e12ca6",
   "metadata": {},
   "outputs": [
    {
     "data": {
      "text/plain": [
       "Text(0.5, 1.0, 'Actual versus Predicted Number of Trips')"
      ]
     },
     "execution_count": 76,
     "metadata": {},
     "output_type": "execute_result"
    },
    {
     "data": {
      "image/png": "[encoded data removed]",
      "text/plain": [
       "<Figure size 432x288 with 1 Axes>"
      ]
     },
     "metadata": {
      "needs_background": "light"
     },
     "output_type": "display_data"
    }
   ],
   "source": [
    "sns.lineplot(data=predictions_df, x=\"unix_timestamp\", y = \"rolling_avg\")\n",
    "sns.lineplot(data=predictions_df, x=\"unix_timestamp\", y = \"predictions\")\n",
    "plt.xlabel(\"Day\")\n",
    "plt.ylabel(\"Number of Trips\")\n",
    "plt.title(\"Actual versus Predicted Number of Trips\")"
   ]
  },
  {
   "cell_type": "markdown",
   "id": "b11568d6",
   "metadata": {},
   "source": [
    "# Conclusions\n",
    "Overall, from the plots we can see a clear difference between the number of rides by hour and by day."
   ]
  },
  {
   "cell_type": "code",
   "execution_count": null,
   "id": "c992a522",
   "metadata": {},
   "outputs": [],
   "source": []
  }
 ],
 "metadata": {
  "kernelspec": {
   "display_name": "Python 3 (ipykernel)",
   "language": "python",
   "name": "python3"
  },
  "language_info": {
   "codemirror_mode": {
    "name": "ipython",
    "version": 3
   },
   "file_extension": ".py",
   "mimetype": "text/x-python",
   "name": "python",
   "nbconvert_exporter": "python",
   "pygments_lexer": "ipython3",
   "version": "3.8.6"
  }
 },
 "nbformat": 4,
 "nbformat_minor": 5
}
