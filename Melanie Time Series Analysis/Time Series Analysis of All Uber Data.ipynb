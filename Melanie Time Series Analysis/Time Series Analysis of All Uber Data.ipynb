{
 "cells": [
  {
   "cell_type": "code",
   "execution_count": 1,
   "id": "70c2539c",
   "metadata": {},
   "outputs": [],
   "source": [
    "from pyspark.sql import SparkSession, SQLContext\n",
    "import pyspark.sql.types as T\n",
    "import pyspark\n",
    "import pyspark.sql.functions as F\n",
    "import seaborn as sns\n",
    "import glob\n",
    "import os\n",
    "import matplotlib.pyplot as plt\n",
    "%matplotlib inline"
   ]
  },
  {
   "cell_type": "code",
   "execution_count": 2,
   "id": "70e0beff",
   "metadata": {},
   "outputs": [],
   "source": [
    "plt.rcParams[\"axes.titlesize\"] = 40\n",
    "plt.rcParams[\"axes.labelsize\"] = 15"
   ]
  },
  {
   "cell_type": "code",
   "execution_count": 3,
   "id": "d726c5ac",
   "metadata": {},
   "outputs": [
    {
     "data": {
      "text/plain": [
       "['../data/uber/uber-trip-data/uber-raw-data-jun14.csv',\n",
       " '../data/uber/uber-trip-data/uber-raw-data-may14.csv',\n",
       " '../data/uber/uber-trip-data/taxi-zone-lookup.csv',\n",
       " '../data/uber/uber-trip-data/uber-raw-data-jul14.csv',\n",
       " '../data/uber/uber-trip-data/uber-raw-data-sep14.csv',\n",
       " '../data/uber/uber-trip-data/uber-raw-data-apr14.csv',\n",
       " '../data/uber/uber-trip-data/uber-raw-data-aug14.csv']"
      ]
     },
     "execution_count": 3,
     "metadata": {},
     "output_type": "execute_result"
    }
   ],
   "source": [
    "data_dir = \"../data/uber/uber-trip-data/\"\n",
    "uber_files = glob.glob(data_dir + '*.csv') \n",
    "uber_files"
   ]
  },
  {
   "cell_type": "code",
   "execution_count": 4,
   "id": "5885fa7e",
   "metadata": {},
   "outputs": [],
   "source": [
    "uber_files.remove('../data/uber/uber-trip-data/taxi-zone-lookup.csv')"
   ]
  },
  {
   "cell_type": "code",
   "execution_count": 5,
   "id": "0de7f69f",
   "metadata": {},
   "outputs": [
    {
     "data": {
      "text/plain": [
       "['../data/uber/uber-trip-data/uber-raw-data-jun14.csv',\n",
       " '../data/uber/uber-trip-data/uber-raw-data-may14.csv',\n",
       " '../data/uber/uber-trip-data/uber-raw-data-jul14.csv',\n",
       " '../data/uber/uber-trip-data/uber-raw-data-sep14.csv',\n",
       " '../data/uber/uber-trip-data/uber-raw-data-apr14.csv',\n",
       " '../data/uber/uber-trip-data/uber-raw-data-aug14.csv']"
      ]
     },
     "execution_count": 5,
     "metadata": {},
     "output_type": "execute_result"
    }
   ],
   "source": [
    "uber_files"
   ]
  },
  {
   "cell_type": "code",
   "execution_count": 6,
   "id": "9dcd3f72",
   "metadata": {},
   "outputs": [
    {
     "name": "stderr",
     "output_type": "stream",
     "text": [
      "22/05/09 09:34:06 WARN Utils: Your hostname, DSGPU05 resolves to a loopback address: 127.0.1.1; using 10.10.11.64 instead (on interface eno1)\n",
      "22/05/09 09:34:06 WARN Utils: Set SPARK_LOCAL_IP if you need to bind to another address\n",
      "Using Spark's default log4j profile: org/apache/spark/log4j-defaults.properties\n",
      "Setting default log level to \"WARN\".\n",
      "To adjust logging level use sc.setLogLevel(newLevel). For SparkR, use setLogLevel(newLevel).\n",
      "22/05/09 09:34:06 WARN NativeCodeLoader: Unable to load native-hadoop library for your platform... using builtin-java classes where applicable\n"
     ]
    }
   ],
   "source": [
    "spark = SparkSession.builder \\\n",
    "    .master(\"local\") \\\n",
    "    .appName(\"Word Count\") \\\n",
    "    .config(\"spark.some.config.option\", \"some-value\") \\\n",
    "    .getOrCreate()"
   ]
  },
  {
   "cell_type": "code",
   "execution_count": 7,
   "id": "f0ec3ec0",
   "metadata": {},
   "outputs": [
    {
     "name": "stderr",
     "output_type": "stream",
     "text": [
      "                                                                                \r"
     ]
    }
   ],
   "source": [
    "df = spark.read.csv(uber_files, header=True)"
   ]
  },
  {
   "cell_type": "code",
   "execution_count": 8,
   "id": "02d7416e",
   "metadata": {},
   "outputs": [
    {
     "name": "stdout",
     "output_type": "stream",
     "text": [
      "+----------------+-------+--------+------+\n",
      "|       Date/Time|    Lat|     Lon|  Base|\n",
      "+----------------+-------+--------+------+\n",
      "|9/1/2014 0:01:00|40.2201|-74.0021|B02512|\n",
      "|9/1/2014 0:01:00|  40.75|-74.0027|B02512|\n",
      "|9/1/2014 0:03:00|40.7559|-73.9864|B02512|\n",
      "|9/1/2014 0:06:00| 40.745|-73.9889|B02512|\n",
      "|9/1/2014 0:11:00|40.8145|-73.9444|B02512|\n",
      "|9/1/2014 0:12:00|40.6735|-73.9918|B02512|\n",
      "|9/1/2014 0:15:00|40.7471|-73.6472|B02512|\n",
      "|9/1/2014 0:16:00|40.6613|-74.2691|B02512|\n",
      "|9/1/2014 0:32:00|40.3745|-73.9999|B02512|\n",
      "|9/1/2014 0:33:00|40.7633|-73.9773|B02512|\n",
      "|9/1/2014 0:33:00|40.7467|-73.6131|B02512|\n",
      "|9/1/2014 0:37:00|40.8105|  -73.96|B02512|\n",
      "|9/1/2014 0:38:00| 40.679|-74.0111|B02512|\n",
      "|9/1/2014 0:39:00|40.4023|-73.9839|B02512|\n",
      "|9/1/2014 0:48:00|40.7378|-74.0395|B02512|\n",
      "|9/1/2014 0:48:00|40.7214|-73.9884|B02512|\n",
      "|9/1/2014 0:49:00|40.8646|-73.9081|B02512|\n",
      "|9/1/2014 1:08:00|40.7398|-74.0061|B02512|\n",
      "|9/1/2014 1:17:00|40.6793|-74.0116|B02512|\n",
      "|9/1/2014 1:19:00|40.7328|-73.9875|B02512|\n",
      "+----------------+-------+--------+------+\n",
      "only showing top 20 rows\n",
      "\n"
     ]
    }
   ],
   "source": [
    "df.show()"
   ]
  },
  {
   "cell_type": "code",
   "execution_count": 9,
   "id": "b28f3b58",
   "metadata": {},
   "outputs": [],
   "source": [
    "df = df.withColumn(\"Date/Time\", F.to_timestamp(F.col(\"Date/Time\"), \"M/d/yyyy H:mm:ss\"))"
   ]
  },
  {
   "cell_type": "code",
   "execution_count": null,
   "id": "6b34123b",
   "metadata": {},
   "outputs": [],
   "source": []
  },
  {
   "cell_type": "code",
   "execution_count": 10,
   "id": "b13d5408",
   "metadata": {},
   "outputs": [
    {
     "name": "stdout",
     "output_type": "stream",
     "text": [
      "+-------------------+-------+--------+------+\n",
      "|          Date/Time|    Lat|     Lon|  Base|\n",
      "+-------------------+-------+--------+------+\n",
      "|2014-09-01 00:01:00|40.2201|-74.0021|B02512|\n",
      "|2014-09-01 00:01:00|  40.75|-74.0027|B02512|\n",
      "|2014-09-01 00:03:00|40.7559|-73.9864|B02512|\n",
      "|2014-09-01 00:06:00| 40.745|-73.9889|B02512|\n",
      "|2014-09-01 00:11:00|40.8145|-73.9444|B02512|\n",
      "|2014-09-01 00:12:00|40.6735|-73.9918|B02512|\n",
      "|2014-09-01 00:15:00|40.7471|-73.6472|B02512|\n",
      "|2014-09-01 00:16:00|40.6613|-74.2691|B02512|\n",
      "|2014-09-01 00:32:00|40.3745|-73.9999|B02512|\n",
      "|2014-09-01 00:33:00|40.7633|-73.9773|B02512|\n",
      "|2014-09-01 00:33:00|40.7467|-73.6131|B02512|\n",
      "|2014-09-01 00:37:00|40.8105|  -73.96|B02512|\n",
      "|2014-09-01 00:38:00| 40.679|-74.0111|B02512|\n",
      "|2014-09-01 00:39:00|40.4023|-73.9839|B02512|\n",
      "|2014-09-01 00:48:00|40.7378|-74.0395|B02512|\n",
      "|2014-09-01 00:48:00|40.7214|-73.9884|B02512|\n",
      "|2014-09-01 00:49:00|40.8646|-73.9081|B02512|\n",
      "|2014-09-01 01:08:00|40.7398|-74.0061|B02512|\n",
      "|2014-09-01 01:17:00|40.6793|-74.0116|B02512|\n",
      "|2014-09-01 01:19:00|40.7328|-73.9875|B02512|\n",
      "+-------------------+-------+--------+------+\n",
      "only showing top 20 rows\n",
      "\n"
     ]
    }
   ],
   "source": [
    "df.show()"
   ]
  },
  {
   "cell_type": "code",
   "execution_count": 11,
   "id": "6981d9d6",
   "metadata": {},
   "outputs": [
    {
     "name": "stdout",
     "output_type": "stream",
     "text": [
      "+-------------------+-------+--------+------+-----+\n",
      "|          Date/Time|    Lat|     Lon|  Base|Count|\n",
      "+-------------------+-------+--------+------+-----+\n",
      "|2014-09-01 00:01:00|40.2201|-74.0021|B02512|    1|\n",
      "|2014-09-01 00:01:00|  40.75|-74.0027|B02512|    1|\n",
      "|2014-09-01 00:03:00|40.7559|-73.9864|B02512|    1|\n",
      "|2014-09-01 00:06:00| 40.745|-73.9889|B02512|    1|\n",
      "|2014-09-01 00:11:00|40.8145|-73.9444|B02512|    1|\n",
      "|2014-09-01 00:12:00|40.6735|-73.9918|B02512|    1|\n",
      "|2014-09-01 00:15:00|40.7471|-73.6472|B02512|    1|\n",
      "|2014-09-01 00:16:00|40.6613|-74.2691|B02512|    1|\n",
      "|2014-09-01 00:32:00|40.3745|-73.9999|B02512|    1|\n",
      "|2014-09-01 00:33:00|40.7633|-73.9773|B02512|    1|\n",
      "|2014-09-01 00:33:00|40.7467|-73.6131|B02512|    1|\n",
      "|2014-09-01 00:37:00|40.8105|  -73.96|B02512|    1|\n",
      "|2014-09-01 00:38:00| 40.679|-74.0111|B02512|    1|\n",
      "|2014-09-01 00:39:00|40.4023|-73.9839|B02512|    1|\n",
      "|2014-09-01 00:48:00|40.7378|-74.0395|B02512|    1|\n",
      "|2014-09-01 00:48:00|40.7214|-73.9884|B02512|    1|\n",
      "|2014-09-01 00:49:00|40.8646|-73.9081|B02512|    1|\n",
      "|2014-09-01 01:08:00|40.7398|-74.0061|B02512|    1|\n",
      "|2014-09-01 01:17:00|40.6793|-74.0116|B02512|    1|\n",
      "|2014-09-01 01:19:00|40.7328|-73.9875|B02512|    1|\n",
      "+-------------------+-------+--------+------+-----+\n",
      "only showing top 20 rows\n",
      "\n"
     ]
    }
   ],
   "source": [
    "df = df.withColumn(\"Count\", F.lit(1))\n",
    "df.show()"
   ]
  },
  {
   "cell_type": "code",
   "execution_count": 12,
   "id": "5234bf63",
   "metadata": {},
   "outputs": [],
   "source": [
    "df = df.withColumn(\"hour\", F.hour(df[\"Date/Time\"]))"
   ]
  },
  {
   "cell_type": "code",
   "execution_count": 13,
   "id": "9ba5cecb",
   "metadata": {},
   "outputs": [],
   "source": [
    "hourly = df.groupBy(F.hour(\"Date/Time\").alias(\"Time of Day\")).agg(F.sum(\"Count\").alias(\"Number of Trips\"))"
   ]
  },
  {
   "cell_type": "code",
   "execution_count": 14,
   "id": "9430a075",
   "metadata": {},
   "outputs": [
    {
     "name": "stderr",
     "output_type": "stream",
     "text": [
      "[Stage 4:=============================>                             (1 + 1) / 2]\r"
     ]
    },
    {
     "name": "stdout",
     "output_type": "stream",
     "text": [
      "+-----------+---------------+\n",
      "|Time of Day|Number of Trips|\n",
      "+-----------+---------------+\n",
      "|         17|         336190|\n",
      "|         18|         324679|\n",
      "|         16|         313400|\n",
      "|         19|         294513|\n",
      "|         20|         284604|\n",
      "|         21|         281460|\n",
      "|         15|         275466|\n",
      "|         22|         241858|\n",
      "|         14|         230625|\n",
      "|         13|         195877|\n",
      "|          7|         193094|\n",
      "|          8|         190504|\n",
      "|         12|         170452|\n",
      "|         23|         169190|\n",
      "|         11|         165703|\n",
      "|          9|         159967|\n",
      "|         10|         159148|\n",
      "|          6|         143213|\n",
      "|          0|         103836|\n",
      "|          5|          83939|\n",
      "+-----------+---------------+\n",
      "only showing top 20 rows\n",
      "\n"
     ]
    },
    {
     "name": "stderr",
     "output_type": "stream",
     "text": [
      "                                                                                \r"
     ]
    }
   ],
   "source": [
    "hourly.sort(F.col(\"Number of Trips\").desc()).show()"
   ]
  },
  {
   "cell_type": "code",
   "execution_count": 15,
   "id": "696dc25e",
   "metadata": {},
   "outputs": [
    {
     "name": "stderr",
     "output_type": "stream",
     "text": [
      "                                                                                \r"
     ]
    },
    {
     "data": {
      "text/plain": [
       "Text(0.5, 1.0, 'Total Number of Trips per Hour')"
      ]
     },
     "execution_count": 15,
     "metadata": {},
     "output_type": "execute_result"
    },
    {
     "data": {
      "image/png": "[encoded data removed]",
      "text/plain": [
       "<Figure size 432x288 with 1 Axes>"
      ]
     },
     "metadata": {
      "needs_background": "light"
     },
     "output_type": "display_data"
    }
   ],
   "source": [
    "sns.boxplot(data=hourly.toPandas(), x = \"Number of Trips\")\n",
    "plt.title(\"Total Number of Trips per Hour\")"
   ]
  },
  {
   "cell_type": "markdown",
   "id": "d46cd606",
   "metadata": {},
   "source": [
    "It looks like the overall distribution of hourly data is right skewed, so the mean will be larger than the median. However, it is not overly right skewed."
   ]
  },
  {
   "cell_type": "code",
   "execution_count": 16,
   "id": "d838e2bc",
   "metadata": {},
   "outputs": [
    {
     "data": {
      "image/png": "[encoded data removed]",
      "text/plain": [
       "<Figure size 432x288 with 1 Axes>"
      ]
     },
     "metadata": {
      "needs_background": "light"
     },
     "output_type": "display_data"
    }
   ],
   "source": [
    "sns.barplot(data=hourly.toPandas(), x = \"Time of Day\", y=\"Number of Trips\")\n",
    "plt.title(\"Total Number of Trips By Hour\")\n",
    "plt.show()"
   ]
  },
  {
   "cell_type": "code",
   "execution_count": 17,
   "id": "49abfcc9",
   "metadata": {},
   "outputs": [
    {
     "data": {
      "image/png": "[encoded data removed]",
      "text/plain": [
       "<Figure size 432x288 with 1 Axes>"
      ]
     },
     "metadata": {
      "needs_background": "light"
     },
     "output_type": "display_data"
    }
   ],
   "source": [
    "import seaborn as sns\n",
    "test_df = hourly.toPandas()\n",
    "sns.scatterplot(x = \"Time of Day\", y = \"Number of Trips\", data = test_df)\n",
    "plt.title(\"Uber Trips\")\n",
    "plt.show()"
   ]
  },
  {
   "cell_type": "markdown",
   "id": "abaa92b3",
   "metadata": {},
   "source": [
    "It looks like overall, the total number of trips increases as the time goes on. There is a minor peak around 7-8 am, then less traffic, which may correspond to rush hour traffic. There are significantly more rides around 5-6pm, and a peak between 4-6 pm. Overall, the number of rides increase from 9-5, peak around 5, and gradually decrease until 11pm, but still remain significantly higher than in the morning.\n",
    "One possible explanation could be that people tend to use Uber more for getting to and from parties later in the day and are less likely to do so in the morning."
   ]
  },
  {
   "cell_type": "code",
   "execution_count": 18,
   "id": "0b84be70",
   "metadata": {},
   "outputs": [
    {
     "name": "stdout",
     "output_type": "stream",
     "text": [
      "+-------------------+-------+--------+------+-----+----+\n",
      "|          Date/Time|    Lat|     Lon|  Base|Count|hour|\n",
      "+-------------------+-------+--------+------+-----+----+\n",
      "|2014-09-01 00:00:00|40.2201|-74.0021|B02512|    1|   0|\n",
      "|2014-09-01 00:00:00|  40.75|-74.0027|B02512|    1|   0|\n",
      "|2014-09-01 00:00:00|40.7559|-73.9864|B02512|    1|   0|\n",
      "|2014-09-01 00:00:00| 40.745|-73.9889|B02512|    1|   0|\n",
      "|2014-09-01 00:00:00|40.8145|-73.9444|B02512|    1|   0|\n",
      "|2014-09-01 00:00:00|40.6735|-73.9918|B02512|    1|   0|\n",
      "|2014-09-01 00:00:00|40.7471|-73.6472|B02512|    1|   0|\n",
      "|2014-09-01 00:00:00|40.6613|-74.2691|B02512|    1|   0|\n",
      "|2014-09-01 00:00:00|40.3745|-73.9999|B02512|    1|   0|\n",
      "|2014-09-01 00:00:00|40.7633|-73.9773|B02512|    1|   0|\n",
      "|2014-09-01 00:00:00|40.7467|-73.6131|B02512|    1|   0|\n",
      "|2014-09-01 00:00:00|40.8105|  -73.96|B02512|    1|   0|\n",
      "|2014-09-01 00:00:00| 40.679|-74.0111|B02512|    1|   0|\n",
      "|2014-09-01 00:00:00|40.4023|-73.9839|B02512|    1|   0|\n",
      "|2014-09-01 00:00:00|40.7378|-74.0395|B02512|    1|   0|\n",
      "|2014-09-01 00:00:00|40.7214|-73.9884|B02512|    1|   0|\n",
      "|2014-09-01 00:00:00|40.8646|-73.9081|B02512|    1|   0|\n",
      "|2014-09-01 00:00:00|40.7398|-74.0061|B02512|    1|   1|\n",
      "|2014-09-01 00:00:00|40.6793|-74.0116|B02512|    1|   1|\n",
      "|2014-09-01 00:00:00|40.7328|-73.9875|B02512|    1|   1|\n",
      "+-------------------+-------+--------+------+-----+----+\n",
      "only showing top 20 rows\n",
      "\n"
     ]
    }
   ],
   "source": [
    "daily = df.withColumn(\"Date/Time\", F.date_trunc('dd', F.col('Date/Time')))\n",
    "daily.show()"
   ]
  },
  {
   "cell_type": "code",
   "execution_count": 19,
   "id": "49a0248d",
   "metadata": {},
   "outputs": [
    {
     "name": "stderr",
     "output_type": "stream",
     "text": [
      "[Stage 15:=============================>                            (1 + 1) / 2]\r"
     ]
    },
    {
     "name": "stdout",
     "output_type": "stream",
     "text": [
      "+-------------------+---------------+\n",
      "|                Day|Number of Trips|\n",
      "+-------------------+---------------+\n",
      "|2014-07-30 00:00:00|          30740|\n",
      "|2014-08-11 00:00:00|          22632|\n",
      "|2014-07-16 00:00:00|          28607|\n",
      "|2014-09-10 00:00:00|          35910|\n",
      "|2014-08-12 00:00:00|          29646|\n",
      "|2014-07-02 00:00:00|          26480|\n",
      "|2014-07-12 00:00:00|          25936|\n",
      "|2014-09-11 00:00:00|          36439|\n",
      "|2014-08-28 00:00:00|          28597|\n",
      "|2014-08-24 00:00:00|          22036|\n",
      "|2014-08-17 00:00:00|          21209|\n",
      "|2014-09-15 00:00:00|          29454|\n",
      "|2014-09-12 00:00:00|          39540|\n",
      "|2014-09-14 00:00:00|          28122|\n",
      "|2014-09-02 00:00:00|          28831|\n",
      "|2014-08-18 00:00:00|          21956|\n",
      "|2014-09-28 00:00:00|          29656|\n",
      "|2014-07-13 00:00:00|          21082|\n",
      "|2014-07-10 00:00:00|          30541|\n",
      "|2014-07-19 00:00:00|          25726|\n",
      "+-------------------+---------------+\n",
      "only showing top 20 rows\n",
      "\n"
     ]
    },
    {
     "name": "stderr",
     "output_type": "stream",
     "text": [
      "                                                                                \r"
     ]
    }
   ],
   "source": [
    "daily = daily.groupBy(F.col(\"Date/Time\").alias(\"Day\")).agg(F.sum(\"Count\").alias(\"Number of Trips\"))\n",
    "daily.show()"
   ]
  },
  {
   "cell_type": "code",
   "execution_count": 20,
   "id": "40d57381",
   "metadata": {},
   "outputs": [
    {
     "data": {
      "text/plain": [
       "DataFrame[Day: timestamp, Number of Trips: bigint]"
      ]
     },
     "execution_count": 20,
     "metadata": {},
     "output_type": "execute_result"
    }
   ],
   "source": [
    "daily"
   ]
  },
  {
   "cell_type": "code",
   "execution_count": 21,
   "id": "8e0dee3b",
   "metadata": {},
   "outputs": [],
   "source": [
    "import statsmodels.api as sm\n"
   ]
  },
  {
   "cell_type": "code",
   "execution_count": 22,
   "id": "1d1ed6f8",
   "metadata": {},
   "outputs": [
    {
     "name": "stderr",
     "output_type": "stream",
     "text": [
      "                                                                                \r"
     ]
    },
    {
     "data": {
      "image/png": "[encoded data removed]",
      "text/plain": [
       "<Figure size 432x288 with 1 Axes>"
      ]
     },
     "metadata": {
      "needs_background": "light"
     },
     "output_type": "display_data"
    }
   ],
   "source": [
    "#sns.scatterplot(data=daily.toPandas(), x=\"Day\", y = \"Number of Trips\")\n",
    "sns.lineplot(data=daily.toPandas(), x=\"Day\", y = \"Number of Trips\")\n",
    "plt.title(\"Number of Trips per Day\")\n",
    "plt.show()"
   ]
  },
  {
   "cell_type": "markdown",
   "id": "239bd544",
   "metadata": {},
   "source": [
    "There is a steady increase in the number of rides from April 2014 - October 2014. Uber was launched in 2009, but launched Uber Rush and expansions in 2014. Smartphones became popular around 2012, and overtime, smartphones have become the norm. It is possible that the growth in Uber trips is because of the growth in smartphone usage, allowing people to use Uber, as well as Uber rides becoming more mainstream due to Uber's expansions."
   ]
  },
  {
   "cell_type": "code",
   "execution_count": 23,
   "id": "c622c74e",
   "metadata": {},
   "outputs": [
    {
     "name": "stdout",
     "output_type": "stream",
     "text": [
      "r =  -0.5016309066574617 \n",
      " p =  4.706151231376874e-13 \n",
      " s =  8.568346304021516\n"
     ]
    }
   ],
   "source": [
    "import numpy as np\n",
    "import pandas as pd\n",
    "import matplotlib.pyplot as plt\n",
    "import statsmodels.api as sm\n",
    "import scipy.stats as sp\n",
    "daily_df = daily.toPandas()\n",
    "y=np.array(daily_df['Number of Trips'].dropna().values, dtype=float)\n",
    "x=np.array(pd.to_datetime(daily_df['Day'].dropna()).index.values, dtype=float)\n",
    "slope, intercept, r_value, p_value, std_err =sp.linregress(x,y)\n",
    "xf = np.linspace(min(x),max(x),len(x))\n",
    "xf1 = xf.copy()\n",
    "xf1 = pd.to_datetime(xf1)\n",
    "yf = (slope*xf)+intercept\n",
    "print('r = ', r_value, '\\n', 'p = ', p_value, '\\n', 's = ', std_err)"
   ]
  },
  {
   "cell_type": "code",
   "execution_count": 48,
   "id": "2c8efdc8",
   "metadata": {},
   "outputs": [
    {
     "data": {
      "text/plain": [
       "0     2014-07-30\n",
       "1     2014-08-11\n",
       "2     2014-07-16\n",
       "3     2014-09-10\n",
       "4     2014-08-12\n",
       "         ...    \n",
       "178   2014-06-20\n",
       "179   2014-05-09\n",
       "180   2014-05-07\n",
       "181   2014-05-02\n",
       "182   2014-04-03\n",
       "Name: Day, Length: 183, dtype: datetime64[ns]"
      ]
     },
     "execution_count": 48,
     "metadata": {},
     "output_type": "execute_result"
    }
   ],
   "source": [
    "daily_df[\"Day\"]"
   ]
  },
  {
   "cell_type": "code",
   "execution_count": 37,
   "id": "b1d7592b",
   "metadata": {},
   "outputs": [
    {
     "data": {
      "text/plain": [
       "(-66.84415459807478, 30860.561237823713)"
      ]
     },
     "execution_count": 37,
     "metadata": {},
     "output_type": "execute_result"
    }
   ],
   "source": [
    "(slope, intercept)"
   ]
  },
  {
   "cell_type": "markdown",
   "id": "4267b233",
   "metadata": {},
   "source": [
    "Since PySpark is loading the day in reverse order, it appears that a negative slope indicates an increase. For every day, we expect an increase of 66 rides."
   ]
  },
  {
   "cell_type": "code",
   "execution_count": 44,
   "id": "64334a67",
   "metadata": {},
   "outputs": [
    {
     "data": {
      "image/png": "[encoded data removed]",
      "text/plain": [
       "<Figure size 432x288 with 1 Axes>"
      ]
     },
     "metadata": {
      "needs_background": "light"
     },
     "output_type": "display_data"
    }
   ],
   "source": [
    "sns.lineplot(x=daily.toPandas()[\"Day\"], y=yf, palette=\"viridian\")\n",
    "sns.lineplot(x=daily.toPandas()[\"Day\"], y=daily.toPandas()[\"Number of Trips\"])\n",
    "plt.show()"
   ]
  },
  {
   "cell_type": "markdown",
   "id": "91ca4b79",
   "metadata": {},
   "source": [
    "The expected prediction is the blue line. It appears that from the graph, the blue line captures the overall trend well, but there is a lot of noise and many outliers, so the predictions may not be accurate.\n",
    "My next step will be to average the days by every 4 days in order to get a better estimate of the overall trend and reduce noise."
   ]
  },
  {
   "cell_type": "code",
   "execution_count": 25,
   "id": "8e70969e",
   "metadata": {},
   "outputs": [
    {
     "name": "stdout",
     "output_type": "stream",
     "text": [
      "ADF Statistic: -1.2749083309371672\n",
      "n_lags: 0.6405721891464482\n",
      "p-value: 0.6405721891464482\n",
      "Critial Values:\n",
      "   1%, -3.4698858990744115\n",
      "Critial Values:\n",
      "   5%, -2.8789026251889647\n",
      "Critial Values:\n",
      "   10%, -2.5760266680839004\n"
     ]
    }
   ],
   "source": [
    "import statsmodels.tsa.stattools as tsa\n",
    "result = tsa.adfuller(daily.toPandas()[\"Number of Trips\"], autolag='AIC')\n",
    "print(f'ADF Statistic: {result[0]}')\n",
    "print(f'n_lags: {result[1]}')\n",
    "print(f'p-value: {result[1]}')\n",
    "for key, value in result[4].items():\n",
    "    print('Critial Values:')\n",
    "    print(f'   {key}, {value}')   "
   ]
  },
  {
   "cell_type": "markdown",
   "id": "8c2dc8e5",
   "metadata": {},
   "source": []
  },
  {
   "cell_type": "code",
   "execution_count": 26,
   "id": "595564e7",
   "metadata": {},
   "outputs": [
    {
     "data": {
      "image/png": "[encoded data removed]",
      "text/plain": [
       "<Figure size 432x288 with 1 Axes>"
      ]
     },
     "metadata": {
      "needs_background": "light"
     },
     "output_type": "display_data"
    }
   ],
   "source": [
    "sns.boxplot(data = daily.toPandas(), x = \"Number of Trips\")\n",
    "plt.title(\"Daily Trips\")\n",
    "plt.show()"
   ]
  },
  {
   "cell_type": "markdown",
   "id": "68f9a2cf",
   "metadata": {},
   "source": [
    "The distribution of daily trips appears to be roughly normally distributed. This is consistent with the pattern of outliers on the graph."
   ]
  },
  {
   "cell_type": "code",
   "execution_count": 27,
   "id": "ea28e135",
   "metadata": {},
   "outputs": [
    {
     "data": {
      "image/png": "[encoded data removed]",
      "text/plain": [
       "<Figure size 432x288 with 1 Axes>"
      ]
     },
     "metadata": {
      "needs_background": "light"
     },
     "output_type": "display_data"
    }
   ],
   "source": [
    "sns.histplot(data = daily.toPandas(), x = \"Number of Trips\")\n",
    "plt.title(\"Daily Trips\")\n",
    "plt.show()"
   ]
  },
  {
   "cell_type": "code",
   "execution_count": 28,
   "id": "9cbab70f",
   "metadata": {},
   "outputs": [
    {
     "name": "stderr",
     "output_type": "stream",
     "text": [
      "[Stage 29:=============================>                            (1 + 1) / 2]\r"
     ]
    },
    {
     "name": "stdout",
     "output_type": "stream",
     "text": [
      "+-------------------+---------------+\n",
      "|                Day|Number of Trips|\n",
      "+-------------------+---------------+\n",
      "|2014-09-13 00:00:00|          43205|\n",
      "|2014-09-05 00:00:00|          42319|\n",
      "|2014-09-19 00:00:00|          41017|\n",
      "|2014-09-06 00:00:00|          40520|\n",
      "|2014-09-18 00:00:00|          40274|\n",
      "|2014-09-12 00:00:00|          39540|\n",
      "|2014-09-27 00:00:00|          39468|\n",
      "|2014-09-20 00:00:00|          38864|\n",
      "|2014-09-04 00:00:00|          38360|\n",
      "|2014-09-25 00:00:00|          38203|\n",
      "|2014-09-26 00:00:00|          37504|\n",
      "|2014-09-11 00:00:00|          36439|\n",
      "|2014-04-30 00:00:00|          36251|\n",
      "|2014-09-16 00:00:00|          36092|\n",
      "|2014-09-10 00:00:00|          35910|\n",
      "|2014-09-17 00:00:00|          35531|\n",
      "|2014-09-09 00:00:00|          34560|\n",
      "|2014-07-23 00:00:00|          34073|\n",
      "|2014-07-15 00:00:00|          33845|\n",
      "|2014-07-31 00:00:00|          33541|\n",
      "+-------------------+---------------+\n",
      "only showing top 20 rows\n",
      "\n"
     ]
    },
    {
     "name": "stderr",
     "output_type": "stream",
     "text": [
      "                                                                                \r"
     ]
    }
   ],
   "source": [
    "daily.sort(F.col(\"Number of Trips\").desc()).show()"
   ]
  },
  {
   "cell_type": "code",
   "execution_count": 29,
   "id": "3aaacce9",
   "metadata": {},
   "outputs": [
    {
     "name": "stderr",
     "output_type": "stream",
     "text": [
      "[Stage 32:=============================>                            (1 + 1) / 2]\r"
     ]
    },
    {
     "name": "stdout",
     "output_type": "stream",
     "text": [
      "+-------------------+---------------+\n",
      "|                Day|Number of Trips|\n",
      "+-------------------+---------------+\n",
      "|2014-05-26 00:00:00|          10202|\n",
      "|2014-05-25 00:00:00|          10841|\n",
      "|2014-07-05 00:00:00|          10890|\n",
      "|2014-04-20 00:00:00|          11017|\n",
      "|2014-07-06 00:00:00|          11443|\n",
      "|2014-04-13 00:00:00|          12112|\n",
      "|2014-04-14 00:00:00|          12674|\n",
      "|2014-04-21 00:00:00|          13162|\n",
      "|2014-04-06 00:00:00|          13445|\n",
      "|2014-05-04 00:00:00|          13918|\n",
      "|2014-07-04 00:00:00|          14148|\n",
      "|2014-06-15 00:00:00|          14511|\n",
      "|2014-04-01 00:00:00|          14546|\n",
      "|2014-04-19 00:00:00|          14602|\n",
      "|2014-05-24 00:00:00|          14651|\n",
      "|2014-04-27 00:00:00|          14677|\n",
      "|2014-05-11 00:00:00|          14901|\n",
      "|2014-04-28 00:00:00|          15475|\n",
      "|2014-06-08 00:00:00|          15749|\n",
      "|2014-06-01 00:00:00|          15967|\n",
      "+-------------------+---------------+\n",
      "only showing top 20 rows\n",
      "\n"
     ]
    },
    {
     "name": "stderr",
     "output_type": "stream",
     "text": [
      "                                                                                \r"
     ]
    }
   ],
   "source": [
    "daily.sort(F.col(\"Number of Trips\")).show()"
   ]
  },
  {
   "cell_type": "code",
   "execution_count": null,
   "id": "ef87c44a",
   "metadata": {},
   "outputs": [],
   "source": []
  }
 ],
 "metadata": {
  "kernelspec": {
   "display_name": "Python 3 (ipykernel)",
   "language": "python",
   "name": "python3"
  },
  "language_info": {
   "codemirror_mode": {
    "name": "ipython",
    "version": 3
   },
   "file_extension": ".py",
   "mimetype": "text/x-python",
   "name": "python",
   "nbconvert_exporter": "python",
   "pygments_lexer": "ipython3",
   "version": "3.8.6"
  }
 },
 "nbformat": 4,
 "nbformat_minor": 5
}
