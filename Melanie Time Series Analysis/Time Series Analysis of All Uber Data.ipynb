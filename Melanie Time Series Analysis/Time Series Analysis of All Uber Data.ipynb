{
 "cells": [
  {
   "cell_type": "code",
   "execution_count": 1,
   "id": "f980a172",
   "metadata": {},
   "outputs": [],
   "source": [
    "from pyspark.sql import SparkSession, SQLContext\n",
    "import pyspark.sql.types as T\n",
    "import pyspark\n",
    "import pyspark.sql.functions as F\n",
    "import seaborn as sns\n",
    "import glob\n",
    "import os\n",
    "import matplotlib.pyplot as plt\n",
    "%matplotlib inline"
   ]
  },
  {
   "cell_type": "code",
   "execution_count": 2,
   "id": "f6395ab7",
   "metadata": {},
   "outputs": [],
   "source": [
    "plt.rcParams[\"axes.titlesize\"] = 40\n",
    "plt.rcParams[\"axes.labelsize\"] = 15"
   ]
  },
  {
   "cell_type": "code",
   "execution_count": 3,
   "id": "7fd4a1a2",
   "metadata": {},
   "outputs": [
    {
     "data": {
      "text/plain": [
       "['../data/uber/uber-trip-data/uber-raw-data-jun14.csv',\n",
       " '../data/uber/uber-trip-data/uber-raw-data-may14.csv',\n",
       " '../data/uber/uber-trip-data/taxi-zone-lookup.csv',\n",
       " '../data/uber/uber-trip-data/uber-raw-data-jul14.csv',\n",
       " '../data/uber/uber-trip-data/uber-raw-data-sep14.csv',\n",
       " '../data/uber/uber-trip-data/uber-raw-data-apr14.csv',\n",
       " '../data/uber/uber-trip-data/uber-raw-data-aug14.csv']"
      ]
     },
     "execution_count": 3,
     "metadata": {},
     "output_type": "execute_result"
    }
   ],
   "source": [
    "data_dir = \"../data/uber/uber-trip-data/\"\n",
    "uber_files = glob.glob(data_dir + '*.csv') \n",
    "uber_files"
   ]
  },
  {
   "cell_type": "code",
   "execution_count": 4,
   "id": "337b8620",
   "metadata": {},
   "outputs": [],
   "source": [
    "uber_files.remove('../data/uber/uber-trip-data/taxi-zone-lookup.csv')"
   ]
  },
  {
   "cell_type": "code",
   "execution_count": 5,
   "id": "1a209229",
   "metadata": {},
   "outputs": [
    {
     "data": {
      "text/plain": [
       "['../data/uber/uber-trip-data/uber-raw-data-jun14.csv',\n",
       " '../data/uber/uber-trip-data/uber-raw-data-may14.csv',\n",
       " '../data/uber/uber-trip-data/uber-raw-data-jul14.csv',\n",
       " '../data/uber/uber-trip-data/uber-raw-data-sep14.csv',\n",
       " '../data/uber/uber-trip-data/uber-raw-data-apr14.csv',\n",
       " '../data/uber/uber-trip-data/uber-raw-data-aug14.csv']"
      ]
     },
     "execution_count": 5,
     "metadata": {},
     "output_type": "execute_result"
    }
   ],
   "source": [
    "uber_files"
   ]
  },
  {
   "cell_type": "code",
   "execution_count": 6,
   "id": "3c20809a",
   "metadata": {},
   "outputs": [
    {
     "name": "stderr",
     "output_type": "stream",
     "text": [
      "22/05/07 19:26:24 WARN Utils: Your hostname, DSGPU05 resolves to a loopback address: 127.0.1.1; using 10.10.11.64 instead (on interface eno1)\n",
      "22/05/07 19:26:24 WARN Utils: Set SPARK_LOCAL_IP if you need to bind to another address\n",
      "Using Spark's default log4j profile: org/apache/spark/log4j-defaults.properties\n",
      "Setting default log level to \"WARN\".\n",
      "To adjust logging level use sc.setLogLevel(newLevel). For SparkR, use setLogLevel(newLevel).\n",
      "22/05/07 19:26:25 WARN NativeCodeLoader: Unable to load native-hadoop library for your platform... using builtin-java classes where applicable\n"
     ]
    }
   ],
   "source": [
    "spark = SparkSession.builder \\\n",
    "    .master(\"local\") \\\n",
    "    .appName(\"Word Count\") \\\n",
    "    .config(\"spark.some.config.option\", \"some-value\") \\\n",
    "    .getOrCreate()"
   ]
  },
  {
   "cell_type": "code",
   "execution_count": 7,
   "id": "f675fb02",
   "metadata": {},
   "outputs": [
    {
     "name": "stderr",
     "output_type": "stream",
     "text": [
      "                                                                                \r"
     ]
    }
   ],
   "source": [
    "df = spark.read.csv(uber_files, header=True)"
   ]
  },
  {
   "cell_type": "code",
   "execution_count": 8,
   "id": "f2e1aff8",
   "metadata": {},
   "outputs": [
    {
     "name": "stdout",
     "output_type": "stream",
     "text": [
      "+----------------+-------+--------+------+\n",
      "|       Date/Time|    Lat|     Lon|  Base|\n",
      "+----------------+-------+--------+------+\n",
      "|9/1/2014 0:01:00|40.2201|-74.0021|B02512|\n",
      "|9/1/2014 0:01:00|  40.75|-74.0027|B02512|\n",
      "|9/1/2014 0:03:00|40.7559|-73.9864|B02512|\n",
      "|9/1/2014 0:06:00| 40.745|-73.9889|B02512|\n",
      "|9/1/2014 0:11:00|40.8145|-73.9444|B02512|\n",
      "|9/1/2014 0:12:00|40.6735|-73.9918|B02512|\n",
      "|9/1/2014 0:15:00|40.7471|-73.6472|B02512|\n",
      "|9/1/2014 0:16:00|40.6613|-74.2691|B02512|\n",
      "|9/1/2014 0:32:00|40.3745|-73.9999|B02512|\n",
      "|9/1/2014 0:33:00|40.7633|-73.9773|B02512|\n",
      "|9/1/2014 0:33:00|40.7467|-73.6131|B02512|\n",
      "|9/1/2014 0:37:00|40.8105|  -73.96|B02512|\n",
      "|9/1/2014 0:38:00| 40.679|-74.0111|B02512|\n",
      "|9/1/2014 0:39:00|40.4023|-73.9839|B02512|\n",
      "|9/1/2014 0:48:00|40.7378|-74.0395|B02512|\n",
      "|9/1/2014 0:48:00|40.7214|-73.9884|B02512|\n",
      "|9/1/2014 0:49:00|40.8646|-73.9081|B02512|\n",
      "|9/1/2014 1:08:00|40.7398|-74.0061|B02512|\n",
      "|9/1/2014 1:17:00|40.6793|-74.0116|B02512|\n",
      "|9/1/2014 1:19:00|40.7328|-73.9875|B02512|\n",
      "+----------------+-------+--------+------+\n",
      "only showing top 20 rows\n",
      "\n"
     ]
    }
   ],
   "source": [
    "df.show()"
   ]
  },
  {
   "cell_type": "code",
   "execution_count": 9,
   "id": "3bee6fc3",
   "metadata": {},
   "outputs": [],
   "source": [
    "df = df.withColumn(\"Date/Time\", F.to_timestamp(F.col(\"Date/Time\"), \"M/d/yyyy H:mm:ss\"))"
   ]
  },
  {
   "cell_type": "code",
   "execution_count": null,
   "id": "54c4ad65",
   "metadata": {},
   "outputs": [],
   "source": []
  },
  {
   "cell_type": "code",
   "execution_count": 10,
   "id": "000cc9b8",
   "metadata": {},
   "outputs": [
    {
     "name": "stdout",
     "output_type": "stream",
     "text": [
      "+-------------------+-------+--------+------+\n",
      "|          Date/Time|    Lat|     Lon|  Base|\n",
      "+-------------------+-------+--------+------+\n",
      "|2014-09-01 00:01:00|40.2201|-74.0021|B02512|\n",
      "|2014-09-01 00:01:00|  40.75|-74.0027|B02512|\n",
      "|2014-09-01 00:03:00|40.7559|-73.9864|B02512|\n",
      "|2014-09-01 00:06:00| 40.745|-73.9889|B02512|\n",
      "|2014-09-01 00:11:00|40.8145|-73.9444|B02512|\n",
      "|2014-09-01 00:12:00|40.6735|-73.9918|B02512|\n",
      "|2014-09-01 00:15:00|40.7471|-73.6472|B02512|\n",
      "|2014-09-01 00:16:00|40.6613|-74.2691|B02512|\n",
      "|2014-09-01 00:32:00|40.3745|-73.9999|B02512|\n",
      "|2014-09-01 00:33:00|40.7633|-73.9773|B02512|\n",
      "|2014-09-01 00:33:00|40.7467|-73.6131|B02512|\n",
      "|2014-09-01 00:37:00|40.8105|  -73.96|B02512|\n",
      "|2014-09-01 00:38:00| 40.679|-74.0111|B02512|\n",
      "|2014-09-01 00:39:00|40.4023|-73.9839|B02512|\n",
      "|2014-09-01 00:48:00|40.7378|-74.0395|B02512|\n",
      "|2014-09-01 00:48:00|40.7214|-73.9884|B02512|\n",
      "|2014-09-01 00:49:00|40.8646|-73.9081|B02512|\n",
      "|2014-09-01 01:08:00|40.7398|-74.0061|B02512|\n",
      "|2014-09-01 01:17:00|40.6793|-74.0116|B02512|\n",
      "|2014-09-01 01:19:00|40.7328|-73.9875|B02512|\n",
      "+-------------------+-------+--------+------+\n",
      "only showing top 20 rows\n",
      "\n"
     ]
    }
   ],
   "source": [
    "df.show()"
   ]
  },
  {
   "cell_type": "code",
   "execution_count": 11,
   "id": "8b71f31d",
   "metadata": {},
   "outputs": [
    {
     "name": "stdout",
     "output_type": "stream",
     "text": [
      "+-------------------+-------+--------+------+-----+\n",
      "|          Date/Time|    Lat|     Lon|  Base|Count|\n",
      "+-------------------+-------+--------+------+-----+\n",
      "|2014-09-01 00:01:00|40.2201|-74.0021|B02512|    1|\n",
      "|2014-09-01 00:01:00|  40.75|-74.0027|B02512|    1|\n",
      "|2014-09-01 00:03:00|40.7559|-73.9864|B02512|    1|\n",
      "|2014-09-01 00:06:00| 40.745|-73.9889|B02512|    1|\n",
      "|2014-09-01 00:11:00|40.8145|-73.9444|B02512|    1|\n",
      "|2014-09-01 00:12:00|40.6735|-73.9918|B02512|    1|\n",
      "|2014-09-01 00:15:00|40.7471|-73.6472|B02512|    1|\n",
      "|2014-09-01 00:16:00|40.6613|-74.2691|B02512|    1|\n",
      "|2014-09-01 00:32:00|40.3745|-73.9999|B02512|    1|\n",
      "|2014-09-01 00:33:00|40.7633|-73.9773|B02512|    1|\n",
      "|2014-09-01 00:33:00|40.7467|-73.6131|B02512|    1|\n",
      "|2014-09-01 00:37:00|40.8105|  -73.96|B02512|    1|\n",
      "|2014-09-01 00:38:00| 40.679|-74.0111|B02512|    1|\n",
      "|2014-09-01 00:39:00|40.4023|-73.9839|B02512|    1|\n",
      "|2014-09-01 00:48:00|40.7378|-74.0395|B02512|    1|\n",
      "|2014-09-01 00:48:00|40.7214|-73.9884|B02512|    1|\n",
      "|2014-09-01 00:49:00|40.8646|-73.9081|B02512|    1|\n",
      "|2014-09-01 01:08:00|40.7398|-74.0061|B02512|    1|\n",
      "|2014-09-01 01:17:00|40.6793|-74.0116|B02512|    1|\n",
      "|2014-09-01 01:19:00|40.7328|-73.9875|B02512|    1|\n",
      "+-------------------+-------+--------+------+-----+\n",
      "only showing top 20 rows\n",
      "\n"
     ]
    }
   ],
   "source": [
    "df = df.withColumn(\"Count\", F.lit(1))\n",
    "df.show()"
   ]
  },
  {
   "cell_type": "code",
   "execution_count": 12,
   "id": "65eb71e3",
   "metadata": {},
   "outputs": [],
   "source": [
    "df = df.withColumn(\"hour\", F.hour(df[\"Date/Time\"]))"
   ]
  },
  {
   "cell_type": "code",
   "execution_count": 13,
   "id": "bc3134c2",
   "metadata": {},
   "outputs": [],
   "source": [
    "hourly = df.groupBy(F.hour(\"Date/Time\").alias(\"Time of Day\")).agg(F.sum(\"Count\").alias(\"Number of Trips\"))"
   ]
  },
  {
   "cell_type": "code",
   "execution_count": 14,
   "id": "82a7d834",
   "metadata": {},
   "outputs": [
    {
     "name": "stderr",
     "output_type": "stream",
     "text": [
      "[Stage 4:=============================>                             (1 + 1) / 2]\r"
     ]
    },
    {
     "name": "stdout",
     "output_type": "stream",
     "text": [
      "+-----------+---------------+\n",
      "|Time of Day|Number of Trips|\n",
      "+-----------+---------------+\n",
      "|         17|         336190|\n",
      "|         18|         324679|\n",
      "|         16|         313400|\n",
      "|         19|         294513|\n",
      "|         20|         284604|\n",
      "|         21|         281460|\n",
      "|         15|         275466|\n",
      "|         22|         241858|\n",
      "|         14|         230625|\n",
      "|         13|         195877|\n",
      "|          7|         193094|\n",
      "|          8|         190504|\n",
      "|         12|         170452|\n",
      "|         23|         169190|\n",
      "|         11|         165703|\n",
      "|          9|         159967|\n",
      "|         10|         159148|\n",
      "|          6|         143213|\n",
      "|          0|         103836|\n",
      "|          5|          83939|\n",
      "+-----------+---------------+\n",
      "only showing top 20 rows\n",
      "\n"
     ]
    },
    {
     "name": "stderr",
     "output_type": "stream",
     "text": [
      "                                                                                \r"
     ]
    }
   ],
   "source": [
    "hourly.sort(F.col(\"Number of Trips\").desc()).show()"
   ]
  },
  {
   "cell_type": "code",
   "execution_count": 15,
   "id": "228aed69",
   "metadata": {},
   "outputs": [
    {
     "name": "stderr",
     "output_type": "stream",
     "text": [
      "                                                                                \r"
     ]
    },
    {
     "data": {
      "text/plain": [
       "Text(0.5, 1.0, 'Total Number of Trips per Hour')"
      ]
     },
     "execution_count": 15,
     "metadata": {},
     "output_type": "execute_result"
    },
    {
     "data": {
      "image/png": "[encoded data removed]",
      "text/plain": [
       "<Figure size 432x288 with 1 Axes>"
      ]
     },
     "metadata": {
      "needs_background": "light"
     },
     "output_type": "display_data"
    }
   ],
   "source": [
    "sns.boxplot(data=hourly.toPandas(), x = \"Number of Trips\")\n",
    "plt.title(\"Total Number of Trips per Hour\")"
   ]
  },
  {
   "cell_type": "code",
   "execution_count": 16,
   "id": "0a814ff7",
   "metadata": {},
   "outputs": [
    {
     "data": {
      "image/png": "[encoded data removed]",
      "text/plain": [
       "<Figure size 432x288 with 1 Axes>"
      ]
     },
     "metadata": {
      "needs_background": "light"
     },
     "output_type": "display_data"
    }
   ],
   "source": [
    "sns.barplot(data=hourly.toPandas(), x = \"Time of Day\", y=\"Number of Trips\")\n",
    "plt.title(\"Total Number of Trips By Hour\")\n",
    "plt.show()"
   ]
  },
  {
   "cell_type": "code",
   "execution_count": 17,
   "id": "41456ed7",
   "metadata": {},
   "outputs": [
    {
     "data": {
      "image/png": "[encoded data removed]",
      "text/plain": [
       "<Figure size 432x288 with 1 Axes>"
      ]
     },
     "metadata": {
      "needs_background": "light"
     },
     "output_type": "display_data"
    }
   ],
   "source": [
    "import seaborn as sns\n",
    "test_df = hourly.toPandas()\n",
    "sns.scatterplot(x = \"Time of Day\", y = \"Number of Trips\", data = test_df)\n",
    "plt.title(\"Uber Trips\")\n",
    "plt.show()"
   ]
  },
  {
   "cell_type": "code",
   "execution_count": 34,
   "id": "9d9046be",
   "metadata": {},
   "outputs": [
    {
     "name": "stdout",
     "output_type": "stream",
     "text": [
      "+-------------------+-------+--------+------+-----+----+\n",
      "|          Date/Time|    Lat|     Lon|  Base|Count|hour|\n",
      "+-------------------+-------+--------+------+-----+----+\n",
      "|2014-09-01 00:00:00|40.2201|-74.0021|B02512|    1|   0|\n",
      "|2014-09-01 00:00:00|  40.75|-74.0027|B02512|    1|   0|\n",
      "|2014-09-01 00:00:00|40.7559|-73.9864|B02512|    1|   0|\n",
      "|2014-09-01 00:00:00| 40.745|-73.9889|B02512|    1|   0|\n",
      "|2014-09-01 00:00:00|40.8145|-73.9444|B02512|    1|   0|\n",
      "|2014-09-01 00:00:00|40.6735|-73.9918|B02512|    1|   0|\n",
      "|2014-09-01 00:00:00|40.7471|-73.6472|B02512|    1|   0|\n",
      "|2014-09-01 00:00:00|40.6613|-74.2691|B02512|    1|   0|\n",
      "|2014-09-01 00:00:00|40.3745|-73.9999|B02512|    1|   0|\n",
      "|2014-09-01 00:00:00|40.7633|-73.9773|B02512|    1|   0|\n",
      "|2014-09-01 00:00:00|40.7467|-73.6131|B02512|    1|   0|\n",
      "|2014-09-01 00:00:00|40.8105|  -73.96|B02512|    1|   0|\n",
      "|2014-09-01 00:00:00| 40.679|-74.0111|B02512|    1|   0|\n",
      "|2014-09-01 00:00:00|40.4023|-73.9839|B02512|    1|   0|\n",
      "|2014-09-01 00:00:00|40.7378|-74.0395|B02512|    1|   0|\n",
      "|2014-09-01 00:00:00|40.7214|-73.9884|B02512|    1|   0|\n",
      "|2014-09-01 00:00:00|40.8646|-73.9081|B02512|    1|   0|\n",
      "|2014-09-01 00:00:00|40.7398|-74.0061|B02512|    1|   1|\n",
      "|2014-09-01 00:00:00|40.6793|-74.0116|B02512|    1|   1|\n",
      "|2014-09-01 00:00:00|40.7328|-73.9875|B02512|    1|   1|\n",
      "+-------------------+-------+--------+------+-----+----+\n",
      "only showing top 20 rows\n",
      "\n"
     ]
    }
   ],
   "source": [
    "daily = df.withColumn(\"Date/Time\", F.date_trunc('dd', F.col('Date/Time')))\n",
    "daily.show()"
   ]
  },
  {
   "cell_type": "code",
   "execution_count": 35,
   "id": "017acf4a",
   "metadata": {},
   "outputs": [
    {
     "name": "stderr",
     "output_type": "stream",
     "text": [
      "[Stage 31:=============================>                            (1 + 1) / 2]\r"
     ]
    },
    {
     "name": "stdout",
     "output_type": "stream",
     "text": [
      "+-------------------+---------------+\n",
      "|                Day|Number of Trips|\n",
      "+-------------------+---------------+\n",
      "|2014-07-30 00:00:00|          30740|\n",
      "|2014-08-11 00:00:00|          22632|\n",
      "|2014-07-16 00:00:00|          28607|\n",
      "|2014-09-10 00:00:00|          35910|\n",
      "|2014-08-12 00:00:00|          29646|\n",
      "|2014-07-02 00:00:00|          26480|\n",
      "|2014-07-12 00:00:00|          25936|\n",
      "|2014-09-11 00:00:00|          36439|\n",
      "|2014-08-28 00:00:00|          28597|\n",
      "|2014-08-24 00:00:00|          22036|\n",
      "|2014-08-17 00:00:00|          21209|\n",
      "|2014-09-15 00:00:00|          29454|\n",
      "|2014-09-12 00:00:00|          39540|\n",
      "|2014-09-14 00:00:00|          28122|\n",
      "|2014-09-02 00:00:00|          28831|\n",
      "|2014-08-18 00:00:00|          21956|\n",
      "|2014-09-28 00:00:00|          29656|\n",
      "|2014-07-13 00:00:00|          21082|\n",
      "|2014-07-10 00:00:00|          30541|\n",
      "|2014-07-19 00:00:00|          25726|\n",
      "+-------------------+---------------+\n",
      "only showing top 20 rows\n",
      "\n"
     ]
    },
    {
     "name": "stderr",
     "output_type": "stream",
     "text": [
      "                                                                                \r"
     ]
    }
   ],
   "source": [
    "daily = daily.groupBy(F.col(\"Date/Time\").alias(\"Day\")).agg(F.sum(\"Count\").alias(\"Number of Trips\"))\n",
    "daily.show()"
   ]
  },
  {
   "cell_type": "code",
   "execution_count": 42,
   "id": "91e4a6c6",
   "metadata": {},
   "outputs": [
    {
     "data": {
      "image/png": "[encoded data removed]",
      "text/plain": [
       "<Figure size 432x288 with 1 Axes>"
      ]
     },
     "metadata": {
      "needs_background": "light"
     },
     "output_type": "display_data"
    }
   ],
   "source": [
    "#sns.scatterplot(data=daily.toPandas(), x=\"Day\", y = \"Number of Trips\")\n",
    "sns.lineplot(data=daily.toPandas(), x=\"Day\", y = \"Number of Trips\")\n",
    "plt.title(\"Number of Trips per Day\")\n",
    "plt.show()"
   ]
  },
  {
   "cell_type": "code",
   "execution_count": null,
   "id": "d2af79a7",
   "metadata": {},
   "outputs": [],
   "source": []
  }
 ],
 "metadata": {
  "kernelspec": {
   "display_name": "Python 3 (ipykernel)",
   "language": "python",
   "name": "python3"
  },
  "language_info": {
   "codemirror_mode": {
    "name": "ipython",
    "version": 3
   },
   "file_extension": ".py",
   "mimetype": "text/x-python",
   "name": "python",
   "nbconvert_exporter": "python",
   "pygments_lexer": "ipython3",
   "version": "3.8.6"
  }
 },
 "nbformat": 4,
 "nbformat_minor": 5
}
