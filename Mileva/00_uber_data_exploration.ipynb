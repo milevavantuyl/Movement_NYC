{
 "cells": [
  {
   "cell_type": "markdown",
   "id": "b67eb32e-a340-40fc-bf9b-6fec9d408104",
   "metadata": {},
   "source": [
    "## Spark Imports and Setup"
   ]
  },
  {
   "cell_type": "code",
   "execution_count": 1,
   "id": "649625f2-56e6-48b0-9b80-197946382819",
   "metadata": {},
   "outputs": [],
   "source": [
    "import pyspark\n",
    "from pyspark.sql import SparkSession"
   ]
  },
  {
   "cell_type": "code",
   "execution_count": null,
   "id": "c1cfa801-e7f7-4d81-8961-6aa3eba8a338",
   "metadata": {},
   "outputs": [],
   "source": [
    "spark = SparkSession.builder.master(\"local[*]\").appName(\"temp\").getOrCreate()"
   ]
  },
  {
   "cell_type": "markdown",
   "id": "78774bd1-6317-4691-98d2-6fdb4c487b33",
   "metadata": {},
   "source": [
    "## Data"
   ]
  },
  {
   "cell_type": "markdown",
   "id": "1c7d26ee-e1d1-4824-bb31-b0936b61afaa",
   "metadata": {},
   "source": [
    "uber-raw-data-apr14.csv"
   ]
  },
  {
   "cell_type": "code",
   "execution_count": 4,
   "id": "bacf09fb-d8e8-4bff-a383-66d25cb54562",
   "metadata": {},
   "outputs": [
    {
     "name": "stdout",
     "output_type": "stream",
     "text": [
      "+----------------+-------+--------+------+\n",
      "|       Date/Time|    Lat|     Lon|  Base|\n",
      "+----------------+-------+--------+------+\n",
      "|4/1/2014 0:11:00| 40.769|-73.9549|B02512|\n",
      "|4/1/2014 0:17:00|40.7267|-74.0345|B02512|\n",
      "|4/1/2014 0:21:00|40.7316|-73.9873|B02512|\n",
      "|4/1/2014 0:28:00|40.7588|-73.9776|B02512|\n",
      "|4/1/2014 0:33:00|40.7594|-73.9722|B02512|\n",
      "+----------------+-------+--------+------+\n",
      "only showing top 5 rows\n",
      "\n"
     ]
    }
   ],
   "source": [
    "uber_apr14 = spark.read.csv(\"/spring2022/uber/uber-trip-data/uber-raw-data-apr14.csv\", \n",
    "                            inferSchema = True, header = True)\n",
    "uber_apr14.show(5)"
   ]
  },
  {
   "cell_type": "markdown",
   "id": "92f54b38-12b1-48a6-8c5a-ae36e7609f8a",
   "metadata": {},
   "source": [
    "uber-raw-data-janjune-15.csv.zip"
   ]
  },
  {
   "cell_type": "code",
   "execution_count": 15,
   "id": "cea07dac-7a27-43b2-a1f0-3c744167352d",
   "metadata": {},
   "outputs": [
    {
     "name": "stderr",
     "output_type": "stream",
     "text": [
      "                                                                                \r"
     ]
    },
    {
     "name": "stdout",
     "output_type": "stream",
     "text": [
      "+--------------------+-------------------+-------------------+----------+\n",
      "|Dispatching_base_num|        Pickup_date|Affiliated_base_num|locationID|\n",
      "+--------------------+-------------------+-------------------+----------+\n",
      "|              B02617|2015-05-17 09:47:00|             B02617|       141|\n",
      "|              B02617|2015-05-17 09:47:00|             B02617|        65|\n",
      "|              B02617|2015-05-17 09:47:00|             B02617|       100|\n",
      "|              B02617|2015-05-17 09:47:00|             B02774|        80|\n",
      "|              B02617|2015-05-17 09:47:00|             B02617|        90|\n",
      "+--------------------+-------------------+-------------------+----------+\n",
      "only showing top 5 rows\n",
      "\n"
     ]
    }
   ],
   "source": [
    "import zipfile\n",
    "\n",
    "# Uncompress zip file (given by zip_path). Uncompressed contents will be stored in the target_directory path\n",
    "zip_path = '/spring2022/uber/uber-trip-data/uber-raw-data-janjune-15.csv.zip'\n",
    "target_directory = './janjune-data/'\n",
    "with zipfile.ZipFile(f'{zip_path}.zip', 'r') as zip_ref:\n",
    "    zip_contents = zip_ref.extractall(target_directory)\n",
    "\n",
    "janjun15 = spark.read.csv(\"./janjune-data/uber-raw-data-janjune-15.csv\", inferSchema = True, header = True)\n",
    "janjun15.show(5)"
   ]
  }
 ],
 "metadata": {
  "kernelspec": {
   "display_name": "Python 3 (ipykernel)",
   "language": "python",
   "name": "python3"
  },
  "language_info": {
   "codemirror_mode": {
    "name": "ipython",
    "version": 3
   },
   "file_extension": ".py",
   "mimetype": "text/x-python",
   "name": "python",
   "nbconvert_exporter": "python",
   "pygments_lexer": "ipython3",
   "version": "3.8.10"
  }
 },
 "nbformat": 4,
 "nbformat_minor": 5
}
